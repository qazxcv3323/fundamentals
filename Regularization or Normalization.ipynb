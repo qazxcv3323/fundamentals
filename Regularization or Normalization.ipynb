{
 "cells": [
  {
   "cell_type": "markdown",
   "id": "collected-heath",
   "metadata": {},
   "source": [
    "# 학습 목표 \n",
    "\n",
    "\n",
    "- Regularization과 Normalization\n",
    "\n",
    "- L1 Regularization\n",
    "\n",
    "- L2 Regularization\n",
    "\n",
    "- Extra : Lp norm\n",
    "\n",
    "- D ropout\n",
    "\n",
    "- Batch Normalization\n"
   ]
  },
  {
   "cell_type": "markdown",
   "id": "sixth-invite",
   "metadata": {},
   "source": [
    "#### Regularization : 정칙화\n",
    "\n",
    "오버피팅을 해결하기 위한 방법 중의 하나입니다. \n",
    "오늘 우리가 가장 중요하게 다룰 주제이기도 하지요.\n",
    "L1, L2 Regularization, Dropout, Batch normalization 등이 있습니다.\n",
    "이 방법들은 모두 오버피팅을 해결하고자 하는 방법 중에 하나입니다. 오버피팅은 한국어로 과적합이라고 하며, train set은 매우 잘 맞추지만, validation/test set은 맞추지 못하는 현상을 말합니다.\n",
    "비유하자면 오버피팅은 기출문제는 외워서 잘 맞추지만 새로운 응용 문제로 시험을 볼 때는 잘 풀지 못하는 경우라고 할 수 있겠습니다.\n",
    "더 좋은 결과를 얻기 위해서는 새로운 시험 즉, test set 에서도 잘 맞춰야겠죠?\n",
    "그래서 사용하는 Regularization 기법들은 모델이 train set의 정답을 맞추지 못하도록 오버피팅을 방해(train loss가 증가) 하는 역할을 합니다. \n",
    "그래서 train loss는 약간 증가하지만 결과적으로, validation loss나 최종적인 test loss를 감소시키려는 목적을 가지고 있지요.\n",
    "\n",
    "#### Normalization : 정규화\n",
    "\n",
    "이는 데이터의 형태를 좀 더 의미 있게, 혹은 트레이닝에 적합하게 전처리하는 과정입니다. \n",
    "데이터를 z-score로 바꾸거나 minmax scaler를 사용하여 0과 1사이의 값으로 분포를 조정하는 것들이 해당됩니다. \n",
    "예를 들어, 금액과 같은 큰 범위의 값(10,000 ~ 10,000,000)과 시간(0~24) 의 값이 들어가는 경우, 학습 초반에는 데이터 거리 간의 측정이 피처 값의 범위 분포 특성에 의해 왜곡되어 학습에 방해를 받게 되는 문제가 있습니다.\n",
    "Normalization은 이를 모든 피처의 범위 분포를 동일하게 하여 모델이 풀어야 하는 문제를 좀 더 간단하게 바꾸어 주는 전처리 과정입니다.\n",
    "\n"
   ]
  },
  {
   "cell_type": "markdown",
   "id": "sensitive-berlin",
   "metadata": {},
   "source": [
    " 핵심을 정리하면, Regularization은 오버피팅을 막고자 하는 방법, Normalization은 트레이닝을 할 때에 서로 범위가 다른 데이터들을 같은 범위로 바꿔주는 전처리 과정이라는 것입니다.\n",
    "\n",
    "Regularization와 Normalization의 간단한 예제를 [Iris dataset](https://scikit-learn.org/stable/datasets/toy_dataset.html#iris-plants-dataset)의 회귀 문제를 풀면서 비교해보겠습니다."
   ]
  },
  {
   "cell_type": "code",
   "execution_count": 1,
   "id": "major-evidence",
   "metadata": {},
   "outputs": [
    {
     "data": {
      "text/html": [
       "<div>\n",
       "<style scoped>\n",
       "    .dataframe tbody tr th:only-of-type {\n",
       "        vertical-align: middle;\n",
       "    }\n",
       "\n",
       "    .dataframe tbody tr th {\n",
       "        vertical-align: top;\n",
       "    }\n",
       "\n",
       "    .dataframe thead th {\n",
       "        text-align: right;\n",
       "    }\n",
       "</style>\n",
       "<table border=\"1\" class=\"dataframe\">\n",
       "  <thead>\n",
       "    <tr style=\"text-align: right;\">\n",
       "      <th></th>\n",
       "      <th>sepal length (cm)</th>\n",
       "      <th>sepal width (cm)</th>\n",
       "      <th>petal length (cm)</th>\n",
       "      <th>petal width (cm)</th>\n",
       "      <th>species</th>\n",
       "    </tr>\n",
       "  </thead>\n",
       "  <tbody>\n",
       "    <tr>\n",
       "      <th>0</th>\n",
       "      <td>5.1</td>\n",
       "      <td>3.5</td>\n",
       "      <td>1.4</td>\n",
       "      <td>0.2</td>\n",
       "      <td>setosa</td>\n",
       "    </tr>\n",
       "    <tr>\n",
       "      <th>1</th>\n",
       "      <td>4.9</td>\n",
       "      <td>3.0</td>\n",
       "      <td>1.4</td>\n",
       "      <td>0.2</td>\n",
       "      <td>setosa</td>\n",
       "    </tr>\n",
       "    <tr>\n",
       "      <th>2</th>\n",
       "      <td>4.7</td>\n",
       "      <td>3.2</td>\n",
       "      <td>1.3</td>\n",
       "      <td>0.2</td>\n",
       "      <td>setosa</td>\n",
       "    </tr>\n",
       "    <tr>\n",
       "      <th>3</th>\n",
       "      <td>4.6</td>\n",
       "      <td>3.1</td>\n",
       "      <td>1.5</td>\n",
       "      <td>0.2</td>\n",
       "      <td>setosa</td>\n",
       "    </tr>\n",
       "    <tr>\n",
       "      <th>4</th>\n",
       "      <td>5.0</td>\n",
       "      <td>3.6</td>\n",
       "      <td>1.4</td>\n",
       "      <td>0.2</td>\n",
       "      <td>setosa</td>\n",
       "    </tr>\n",
       "  </tbody>\n",
       "</table>\n",
       "</div>"
      ],
      "text/plain": [
       "   sepal length (cm)  sepal width (cm)  petal length (cm)  petal width (cm)  \\\n",
       "0                5.1               3.5                1.4               0.2   \n",
       "1                4.9               3.0                1.4               0.2   \n",
       "2                4.7               3.2                1.3               0.2   \n",
       "3                4.6               3.1                1.5               0.2   \n",
       "4                5.0               3.6                1.4               0.2   \n",
       "\n",
       "  species  \n",
       "0  setosa  \n",
       "1  setosa  \n",
       "2  setosa  \n",
       "3  setosa  \n",
       "4  setosa  "
      ]
     },
     "execution_count": 1,
     "metadata": {},
     "output_type": "execute_result"
    }
   ],
   "source": [
    "from sklearn.datasets import load_iris\n",
    "import pandas as pd \n",
    "import matplotlib.pyplot as plt\n",
    "\n",
    "iris = load_iris()\n",
    "iris_df = pd.DataFrame(data=iris.data, columns=iris.feature_names)\n",
    "target_df = pd.DataFrame(data=iris.target, columns=['species'])\n",
    "\n",
    "# 0, 1, 2로 되어있는 target 데이터를 \n",
    "# 알아보기 쉽게 'setosa', 'versicolor', 'virginica'로 바꿉니다 \n",
    "def converter(species):\n",
    "    if species == 0:\n",
    "        return 'setosa'\n",
    "    elif species == 1:\n",
    "        return 'versicolor'\n",
    "    else:\n",
    "        return 'virginica'\n",
    "\n",
    "target_df['species'] = target_df['species'].apply(converter)\n",
    "\n",
    "iris_df = pd.concat([iris_df, target_df], axis=1)\n",
    "iris_df.head()"
   ]
  },
  {
   "cell_type": "markdown",
   "id": "strategic-momentum",
   "metadata": {},
   "source": [
    "Iris data 중 virginica라는 종의 petal length(꽃잎 길이)를 X, sepal length(꽃받침의 길이)를 Y로 두고 print 해보겠습니다."
   ]
  },
  {
   "cell_type": "code",
   "execution_count": 2,
   "id": "pressed-continuity",
   "metadata": {},
   "outputs": [
    {
     "name": "stdout",
     "output_type": "stream",
     "text": [
      "[6.0, 5.1, 5.9, 5.6, 5.8, 6.6, 4.5, 6.3, 5.8, 6.1, 5.1, 5.3, 5.5, 5.0, 5.1, 5.3, 5.5, 6.7, 6.9, 5.0, 5.7, 4.9, 6.7, 4.9, 5.7, 6.0, 4.8, 4.9, 5.6, 5.8, 6.1, 6.4, 5.6, 5.1, 5.6, 6.1, 5.6, 5.5, 4.8, 5.4, 5.6, 5.1, 5.1, 5.9, 5.7, 5.2, 5.0, 5.2, 5.4, 5.1]\n",
      "[6.3, 5.8, 7.1, 6.3, 6.5, 7.6, 4.9, 7.3, 6.7, 7.2, 6.5, 6.4, 6.8, 5.7, 5.8, 6.4, 6.5, 7.7, 7.7, 6.0, 6.9, 5.6, 7.7, 6.3, 6.7, 7.2, 6.2, 6.1, 6.4, 7.2, 7.4, 7.9, 6.4, 6.3, 6.1, 7.7, 6.3, 6.4, 6.0, 6.9, 6.7, 6.9, 5.8, 6.8, 6.7, 6.7, 6.3, 6.5, 6.2, 5.9]\n"
     ]
    }
   ],
   "source": [
    "X = [iris_df['petal length (cm)'][a] for a in iris_df.index if iris_df['species'][a]=='virginica']\n",
    "Y = [iris_df['sepal length (cm)'][a] for a in iris_df.index if iris_df['species'][a]=='virginica']\n",
    "\n",
    "print(X)\n",
    "print(Y)"
   ]
  },
  {
   "cell_type": "markdown",
   "id": "spectacular-pledge",
   "metadata": {},
   "source": [
    "값으로만 보니 직관적으로 잘 와닿지 않네요! 산점도로 그려봅시다.\n",
    "\n",
    "아직 Normalization을 하지 않았기 때문에 x축과 y축은 각각의 최솟값과 최댓값의 범위로 그려집니다."
   ]
  },
  {
   "cell_type": "code",
   "execution_count": 4,
   "id": "extreme-cover",
   "metadata": {},
   "outputs": [
    {
     "data": {
      "image/png": "[encoded data removed]",
      "text/plain": [
       "<Figure size 360x360 with 1 Axes>"
      ]
     },
     "metadata": {
      "needs_background": "light"
     },
     "output_type": "display_data"
    }
   ],
   "source": [
    "plt.figure(figsize=(5,5))\n",
    "plt.scatter(X,Y)\n",
    "plt.title('petal-sepal scatter before normalization') \n",
    "plt.xlabel('petal length (cm)')\n",
    "plt.ylabel('sepal length (cm)')\n",
    "plt.grid()\n",
    "plt.show()"
   ]
  },
  {
   "cell_type": "markdown",
   "id": "durable-roommate",
   "metadata": {},
   "source": [
    "이제 0-1로 normlization을 해주는 minmax_scale를 이용해서 산점도를 다시 한번 그려보겠습니다."
   ]
  },
  {
   "cell_type": "code",
   "execution_count": 5,
   "id": "comparable-charger",
   "metadata": {},
   "outputs": [
    {
     "data": {
      "image/png": "[encoded data removed]",
      "text/plain": [
       "<Figure size 360x360 with 1 Axes>"
      ]
     },
     "metadata": {
      "needs_background": "light"
     },
     "output_type": "display_data"
    }
   ],
   "source": [
    "from sklearn.preprocessing import minmax_scale\n",
    "\n",
    "X_scale = minmax_scale(X)\n",
    "Y_scale = minmax_scale(Y)\n",
    "\n",
    "plt.figure(figsize=(5,5))\n",
    "plt.scatter(X_scale,Y_scale)\n",
    "plt.title('petal-sepal scatter after normalization') \n",
    "plt.xlabel('petal length (cm)')\n",
    "plt.ylabel('sepal length (cm)')\n",
    "plt.grid()\n",
    "plt.show()"
   ]
  },
  {
   "cell_type": "markdown",
   "id": "inner-imaging",
   "metadata": {},
   "source": [
    "결과를 비교해보면, 가장 큰 값을 1, 가장 작은 값을 0으로 하여 축 범위가 바뀜을 확인할 수 있습니다.\n",
    "\n",
    "데이터의 상대적인 분포는 바뀌지 않았지만, 피처의 스케일이 0과 1 사이로 변환되었으므로 이후 X, Y의 관계를 다루기 용이해졌습니다.\n",
    "\n",
    "sklearn.linear_model에 포함된 LinearRegression 모델을 사용하여 X-Y 관계를 선형으로 모델링 해 보겠습니다. \n",
    "\n",
    "이 sklearn.linear_model에는 L1, L2 Regression인 Lasso와 Ridge 모델도 함께 포함되어 있으므로, 이들의 차이점을 먼저 직관적으로 이해해 보겠습니다. \n",
    "\n",
    "수학적 정의나 보다 구체적인 설명은 다음 스텝에 이어집니다."
   ]
  },
  {
   "cell_type": "code",
   "execution_count": 6,
   "id": "reported-district",
   "metadata": {},
   "outputs": [
    {
     "name": "stdout",
     "output_type": "stream",
     "text": [
      "기울기 : 1.00, 절편 : 1.06\n"
     ]
    }
   ],
   "source": [
    "from sklearn.linear_model import LinearRegression\n",
    "import numpy as np \n",
    "\n",
    "X = np.array(X)\n",
    "Y = np.array(Y)\n",
    "\n",
    "# Iris Dataset을 Linear Regression으로 학습합니다. \n",
    "linear= LinearRegression()\n",
    "linear.fit(X.reshape(-1,1), Y)\n",
    "\n",
    "# Linear Regression의 기울기와 절편을 확인합니다. \n",
    "a, b=linear.coef_, linear.intercept_\n",
    "print(\"기울기 : %0.2f, 절편 : %0.2f\" %(a,b))"
   ]
  },
  {
   "cell_type": "markdown",
   "id": "durable-messenger",
   "metadata": {},
   "source": [
    "위에서 Linear regression 으로 구한 기울기와 절편을 가지고 일차함수를 만들어 산점도와 함께 그려보겠습니다."
   ]
  },
  {
   "cell_type": "code",
   "execution_count": 8,
   "id": "sixth-flood",
   "metadata": {},
   "outputs": [
    {
     "data": {
      "image/png": "[encoded data removed]",
      "text/plain": [
       "<Figure size 360x360 with 1 Axes>"
      ]
     },
     "metadata": {
      "needs_background": "light"
     },
     "output_type": "display_data"
    }
   ],
   "source": [
    "plt.figure(figsize=(5,5))\n",
    "plt.scatter(X,Y)\n",
    "plt.plot(X,linear.predict(X.reshape(-1,1)),'-b')\n",
    "plt.title('petal-sepal scatter with linear regression') \n",
    "plt.xlabel('petal length (cm)')\n",
    "plt.ylabel('sepal length (cm)')\n",
    "plt.grid()\n",
    "plt.show()"
   ]
  },
  {
   "cell_type": "markdown",
   "id": "reverse-census",
   "metadata": {},
   "source": [
    "이번에는 L1, L2 Regularization으로 Regression을 해보겠습니다. 이는 Lasso, Ridge라고 부릅니다.\n",
    "\n",
    "먼저 L1 regularization인 Lasso로 문제를 풀어보겠습니다.\n",
    "\n"
   ]
  },
  {
   "cell_type": "code",
   "execution_count": 9,
   "id": "personal-vintage",
   "metadata": {},
   "outputs": [
    {
     "name": "stdout",
     "output_type": "stream",
     "text": [
      "기울기 : 0.00, 절편 : 6.59\n"
     ]
    },
    {
     "data": {
      "image/png": "[encoded data removed]",
      "text/plain": [
       "<Figure size 360x360 with 1 Axes>"
      ]
     },
     "metadata": {
      "needs_background": "light"
     },
     "output_type": "display_data"
    }
   ],
   "source": [
    "#L1 regularization은 Lasso로 import 합니다.\n",
    "from sklearn.linear_model import Lasso\n",
    "\n",
    "L1 = Lasso()\n",
    "L1.fit(X.reshape(-1,1), Y)\n",
    "a, b=L1.coef_, L1.intercept_\n",
    "print(\"기울기 : %0.2f, 절편 : %0.2f\" %(a,b))\n",
    "\n",
    "plt.figure(figsize=(5,5))\n",
    "plt.scatter(X,Y)\n",
    "plt.plot(X,L1.predict(X.reshape(-1,1)),'-b')\n",
    "plt.title('petal-sepal scatter with L1 regularization(Lasso)') \n",
    "plt.xlabel('petal length (cm)')\n",
    "plt.ylabel('sepal length (cm)')\n",
    "plt.grid()\n",
    "plt.show()"
   ]
  },
  {
   "cell_type": "markdown",
   "id": "hidden-warning",
   "metadata": {},
   "source": [
    "어떤가요? 혹시 기울기가 0으로 나오지 않았나요? Lasso 방법은 제대로 문제를 풀어내지 못하는 것 같습니다.\n",
    "\n",
    "이제 같은 데이터셋으로 L2 regularization인 Ridge로 문제를 풀어보고 서로 비교해보겠습니다."
   ]
  },
  {
   "cell_type": "code",
   "execution_count": 10,
   "id": "indoor-tanzania",
   "metadata": {},
   "outputs": [
    {
     "name": "stdout",
     "output_type": "stream",
     "text": [
      "기울기 : 0.93, 절편 : 1.41\n"
     ]
    },
    {
     "data": {
      "image/png": "[encoded data removed]",
      "text/plain": [
       "<Figure size 360x360 with 1 Axes>"
      ]
     },
     "metadata": {
      "needs_background": "light"
     },
     "output_type": "display_data"
    }
   ],
   "source": [
    "#L2 regularization은 Ridge로 import 합니다. \n",
    "from sklearn.linear_model import Ridge\n",
    "\n",
    "L2 = Ridge()\n",
    "L2.fit(X.reshape(-1,1), Y)\n",
    "a, b = L2.coef_, L2.intercept_\n",
    "print(\"기울기 : %0.2f, 절편 : %0.2f\" %(a,b))\n",
    "\n",
    "plt.figure(figsize=(5,5))\n",
    "plt.scatter(X,Y)\n",
    "plt.plot(X,L2.predict(X.reshape(-1,1)),'-b')\n",
    "plt.title('petal-sepal scatter with L2 regularization(Ridge)') \n",
    "plt.xlabel('petal length (cm)')\n",
    "plt.ylabel('sepal length (cm)')\n",
    "plt.grid()\n",
    "plt.show()"
   ]
  },
  {
   "cell_type": "markdown",
   "id": "religious-wesley",
   "metadata": {},
   "source": [
    "다시 다루겠지만, Linear Regression이 L2 Norm과 관련이 있습니다. \n",
    "그래서 L2 Regularization을 쓰는 Ridge방법으로는 앞서 Linear Regression과 큰 차이가 없는 결과가 나옵니다.\n",
    "\n",
    "그러나 왜 L1 Regularization을 쓰는 Lasso에서는 답이 나오지 않았을까요?\n",
    "\n",
    "다음 스텝에서 그 이유를 알아보도록 하겠습니다!\n",
    "\n"
   ]
  },
  {
   "cell_type": "code",
   "execution_count": 11,
   "id": "portuguese-active",
   "metadata": {},
   "outputs": [
    {
     "data": {
      "text/html": [
       "<div>\n",
       "<style scoped>\n",
       "    .dataframe tbody tr th:only-of-type {\n",
       "        vertical-align: middle;\n",
       "    }\n",
       "\n",
       "    .dataframe tbody tr th {\n",
       "        vertical-align: top;\n",
       "    }\n",
       "\n",
       "    .dataframe thead th {\n",
       "        text-align: right;\n",
       "    }\n",
       "</style>\n",
       "<table border=\"1\" class=\"dataframe\">\n",
       "  <thead>\n",
       "    <tr style=\"text-align: right;\">\n",
       "      <th></th>\n",
       "      <th>sepal length (cm)</th>\n",
       "      <th>sepal width (cm)</th>\n",
       "      <th>petal length (cm)</th>\n",
       "      <th>petal width (cm)</th>\n",
       "      <th>species</th>\n",
       "    </tr>\n",
       "  </thead>\n",
       "  <tbody>\n",
       "    <tr>\n",
       "      <th>0</th>\n",
       "      <td>5.1</td>\n",
       "      <td>3.5</td>\n",
       "      <td>1.4</td>\n",
       "      <td>0.2</td>\n",
       "      <td>setosa</td>\n",
       "    </tr>\n",
       "    <tr>\n",
       "      <th>1</th>\n",
       "      <td>4.9</td>\n",
       "      <td>3.0</td>\n",
       "      <td>1.4</td>\n",
       "      <td>0.2</td>\n",
       "      <td>setosa</td>\n",
       "    </tr>\n",
       "    <tr>\n",
       "      <th>2</th>\n",
       "      <td>4.7</td>\n",
       "      <td>3.2</td>\n",
       "      <td>1.3</td>\n",
       "      <td>0.2</td>\n",
       "      <td>setosa</td>\n",
       "    </tr>\n",
       "    <tr>\n",
       "      <th>3</th>\n",
       "      <td>4.6</td>\n",
       "      <td>3.1</td>\n",
       "      <td>1.5</td>\n",
       "      <td>0.2</td>\n",
       "      <td>setosa</td>\n",
       "    </tr>\n",
       "    <tr>\n",
       "      <th>4</th>\n",
       "      <td>5.0</td>\n",
       "      <td>3.6</td>\n",
       "      <td>1.4</td>\n",
       "      <td>0.2</td>\n",
       "      <td>setosa</td>\n",
       "    </tr>\n",
       "  </tbody>\n",
       "</table>\n",
       "</div>"
      ],
      "text/plain": [
       "   sepal length (cm)  sepal width (cm)  petal length (cm)  petal width (cm)  \\\n",
       "0                5.1               3.5                1.4               0.2   \n",
       "1                4.9               3.0                1.4               0.2   \n",
       "2                4.7               3.2                1.3               0.2   \n",
       "3                4.6               3.1                1.5               0.2   \n",
       "4                5.0               3.6                1.4               0.2   \n",
       "\n",
       "  species  \n",
       "0  setosa  \n",
       "1  setosa  \n",
       "2  setosa  \n",
       "3  setosa  \n",
       "4  setosa  "
      ]
     },
     "execution_count": 11,
     "metadata": {},
     "output_type": "execute_result"
    }
   ],
   "source": [
    "from sklearn.datasets import load_iris\n",
    "import pandas as pd \n",
    "import matplotlib.pyplot as plt\n",
    "\n",
    "iris = load_iris()\n",
    "iris_df = pd.DataFrame(data=iris.data, columns=iris.feature_names)\n",
    "target_df = pd.DataFrame(data=iris.target, columns=['species'])\n",
    "\n",
    "def converter(species):\n",
    "    if species == 0:\n",
    "        return 'setosa'\n",
    "    elif species == 1:\n",
    "        return 'versicolor'\n",
    "    else:\n",
    "        return 'virginica'\n",
    "\n",
    "target_df['species'] = target_df['species'].apply(converter)\n",
    "\n",
    "iris_df = pd.concat([iris_df, target_df], axis=1)\n",
    "iris_df.head()"
   ]
  },
  {
   "cell_type": "code",
   "execution_count": 12,
   "id": "adjusted-horror",
   "metadata": {},
   "outputs": [
    {
     "data": {
      "image/png": "[encoded data removed]",
      "text/plain": [
       "<Figure size 360x360 with 1 Axes>"
      ]
     },
     "metadata": {
      "needs_background": "light"
     },
     "output_type": "display_data"
    }
   ],
   "source": [
    "X = [iris_df['petal length (cm)'][a] for a in iris_df.index if iris_df['species'][a]=='virginica']\n",
    "Y = [iris_df['sepal length (cm)'][a] for a in iris_df.index if iris_df['species'][a]=='virginica']\n",
    "\n",
    "X = np.array(X)\n",
    "Y = np.array(Y)\n",
    "\n",
    "plt.figure(figsize=(5,5))\n",
    "plt.scatter(X,Y)\n",
    "plt.xlabel('petal length (cm)')\n",
    "plt.ylabel('sepal length (cm)')\n",
    "plt.grid()\n",
    "plt.show()"
   ]
  },
  {
   "cell_type": "code",
   "execution_count": 13,
   "id": "fabulous-gabriel",
   "metadata": {},
   "outputs": [
    {
     "name": "stdout",
     "output_type": "stream",
     "text": [
      "기울기 : 0.00, 절편 : 6.59\n"
     ]
    },
    {
     "data": {
      "image/png": "[encoded data removed]",
      "text/plain": [
       "<Figure size 360x360 with 1 Axes>"
      ]
     },
     "metadata": {
      "needs_background": "light"
     },
     "output_type": "display_data"
    }
   ],
   "source": [
    "from sklearn.linear_model import Lasso\n",
    "\n",
    "L1 = Lasso()\n",
    "L1.fit(X.reshape(-1,1), Y)\n",
    "a, b = L1.coef_, L1.intercept_\n",
    "print(\"기울기 : %0.2f, 절편 : %0.2f\" %(a,b))\n",
    "\n",
    "plt.figure(figsize=(5,5))\n",
    "plt.scatter(X,Y)\n",
    "plt.plot(X,L1.predict(X.reshape(-1,1)),'-b')\n",
    "plt.xlabel('petal length (cm)')\n",
    "plt.ylabel('sepal length (cm)')\n",
    "plt.grid()\n",
    "plt.show()"
   ]
  },
  {
   "cell_type": "markdown",
   "id": "widespread-shade",
   "metadata": {},
   "source": [
    "#### 컬럼 수가 많은 데이터에서의 L1 regularization 비교\n",
    "\n",
    "Iris 데이터는 특성이 총 4개로 컬럼 수가 너무 적으니 [wine dataset](https://scikit-learn.org/stable/modules/generated/sklearn.datasets.load_wine.html)을 이용해 보겠습니다.\n",
    "\n",
    "총 13개의 값을 갖는 데이터입니다.\n",
    "\n"
   ]
  },
  {
   "cell_type": "code",
   "execution_count": 14,
   "id": "centered-workstation",
   "metadata": {},
   "outputs": [],
   "source": [
    "from sklearn.datasets import load_wine\n",
    "\n",
    "wine = load_wine()\n",
    "wine_df = pd.DataFrame(data=wine.data, columns=wine.feature_names)\n",
    "target_df = pd.DataFrame(data=wine.target, columns=['Y'])"
   ]
  },
  {
   "cell_type": "code",
   "execution_count": 15,
   "id": "conscious-orlando",
   "metadata": {},
   "outputs": [
    {
     "data": {
      "text/html": [
       "<div>\n",
       "<style scoped>\n",
       "    .dataframe tbody tr th:only-of-type {\n",
       "        vertical-align: middle;\n",
       "    }\n",
       "\n",
       "    .dataframe tbody tr th {\n",
       "        vertical-align: top;\n",
       "    }\n",
       "\n",
       "    .dataframe thead th {\n",
       "        text-align: right;\n",
       "    }\n",
       "</style>\n",
       "<table border=\"1\" class=\"dataframe\">\n",
       "  <thead>\n",
       "    <tr style=\"text-align: right;\">\n",
       "      <th></th>\n",
       "      <th>alcohol</th>\n",
       "      <th>malic_acid</th>\n",
       "      <th>ash</th>\n",
       "      <th>alcalinity_of_ash</th>\n",
       "      <th>magnesium</th>\n",
       "      <th>total_phenols</th>\n",
       "      <th>flavanoids</th>\n",
       "      <th>nonflavanoid_phenols</th>\n",
       "      <th>proanthocyanins</th>\n",
       "      <th>color_intensity</th>\n",
       "      <th>hue</th>\n",
       "      <th>od280/od315_of_diluted_wines</th>\n",
       "      <th>proline</th>\n",
       "    </tr>\n",
       "  </thead>\n",
       "  <tbody>\n",
       "    <tr>\n",
       "      <th>0</th>\n",
       "      <td>14.23</td>\n",
       "      <td>1.71</td>\n",
       "      <td>2.43</td>\n",
       "      <td>15.6</td>\n",
       "      <td>127.0</td>\n",
       "      <td>2.80</td>\n",
       "      <td>3.06</td>\n",
       "      <td>0.28</td>\n",
       "      <td>2.29</td>\n",
       "      <td>5.64</td>\n",
       "      <td>1.04</td>\n",
       "      <td>3.92</td>\n",
       "      <td>1065.0</td>\n",
       "    </tr>\n",
       "    <tr>\n",
       "      <th>1</th>\n",
       "      <td>13.20</td>\n",
       "      <td>1.78</td>\n",
       "      <td>2.14</td>\n",
       "      <td>11.2</td>\n",
       "      <td>100.0</td>\n",
       "      <td>2.65</td>\n",
       "      <td>2.76</td>\n",
       "      <td>0.26</td>\n",
       "      <td>1.28</td>\n",
       "      <td>4.38</td>\n",
       "      <td>1.05</td>\n",
       "      <td>3.40</td>\n",
       "      <td>1050.0</td>\n",
       "    </tr>\n",
       "    <tr>\n",
       "      <th>2</th>\n",
       "      <td>13.16</td>\n",
       "      <td>2.36</td>\n",
       "      <td>2.67</td>\n",
       "      <td>18.6</td>\n",
       "      <td>101.0</td>\n",
       "      <td>2.80</td>\n",
       "      <td>3.24</td>\n",
       "      <td>0.30</td>\n",
       "      <td>2.81</td>\n",
       "      <td>5.68</td>\n",
       "      <td>1.03</td>\n",
       "      <td>3.17</td>\n",
       "      <td>1185.0</td>\n",
       "    </tr>\n",
       "    <tr>\n",
       "      <th>3</th>\n",
       "      <td>14.37</td>\n",
       "      <td>1.95</td>\n",
       "      <td>2.50</td>\n",
       "      <td>16.8</td>\n",
       "      <td>113.0</td>\n",
       "      <td>3.85</td>\n",
       "      <td>3.49</td>\n",
       "      <td>0.24</td>\n",
       "      <td>2.18</td>\n",
       "      <td>7.80</td>\n",
       "      <td>0.86</td>\n",
       "      <td>3.45</td>\n",
       "      <td>1480.0</td>\n",
       "    </tr>\n",
       "    <tr>\n",
       "      <th>4</th>\n",
       "      <td>13.24</td>\n",
       "      <td>2.59</td>\n",
       "      <td>2.87</td>\n",
       "      <td>21.0</td>\n",
       "      <td>118.0</td>\n",
       "      <td>2.80</td>\n",
       "      <td>2.69</td>\n",
       "      <td>0.39</td>\n",
       "      <td>1.82</td>\n",
       "      <td>4.32</td>\n",
       "      <td>1.04</td>\n",
       "      <td>2.93</td>\n",
       "      <td>735.0</td>\n",
       "    </tr>\n",
       "  </tbody>\n",
       "</table>\n",
       "</div>"
      ],
      "text/plain": [
       "   alcohol  malic_acid   ash  alcalinity_of_ash  magnesium  total_phenols  \\\n",
       "0    14.23        1.71  2.43               15.6      127.0           2.80   \n",
       "1    13.20        1.78  2.14               11.2      100.0           2.65   \n",
       "2    13.16        2.36  2.67               18.6      101.0           2.80   \n",
       "3    14.37        1.95  2.50               16.8      113.0           3.85   \n",
       "4    13.24        2.59  2.87               21.0      118.0           2.80   \n",
       "\n",
       "   flavanoids  nonflavanoid_phenols  proanthocyanins  color_intensity   hue  \\\n",
       "0        3.06                  0.28             2.29             5.64  1.04   \n",
       "1        2.76                  0.26             1.28             4.38  1.05   \n",
       "2        3.24                  0.30             2.81             5.68  1.03   \n",
       "3        3.49                  0.24             2.18             7.80  0.86   \n",
       "4        2.69                  0.39             1.82             4.32  1.04   \n",
       "\n",
       "   od280/od315_of_diluted_wines  proline  \n",
       "0                          3.92   1065.0  \n",
       "1                          3.40   1050.0  \n",
       "2                          3.17   1185.0  \n",
       "3                          3.45   1480.0  \n",
       "4                          2.93    735.0  "
      ]
     },
     "execution_count": 15,
     "metadata": {},
     "output_type": "execute_result"
    }
   ],
   "source": [
    "wine_df.head(5)"
   ]
  },
  {
   "cell_type": "code",
   "execution_count": 16,
   "id": "threatened-pilot",
   "metadata": {},
   "outputs": [
    {
     "data": {
      "text/html": [
       "<div>\n",
       "<style scoped>\n",
       "    .dataframe tbody tr th:only-of-type {\n",
       "        vertical-align: middle;\n",
       "    }\n",
       "\n",
       "    .dataframe tbody tr th {\n",
       "        vertical-align: top;\n",
       "    }\n",
       "\n",
       "    .dataframe thead th {\n",
       "        text-align: right;\n",
       "    }\n",
       "</style>\n",
       "<table border=\"1\" class=\"dataframe\">\n",
       "  <thead>\n",
       "    <tr style=\"text-align: right;\">\n",
       "      <th></th>\n",
       "      <th>Y</th>\n",
       "    </tr>\n",
       "  </thead>\n",
       "  <tbody>\n",
       "    <tr>\n",
       "      <th>0</th>\n",
       "      <td>0</td>\n",
       "    </tr>\n",
       "    <tr>\n",
       "      <th>1</th>\n",
       "      <td>0</td>\n",
       "    </tr>\n",
       "    <tr>\n",
       "      <th>2</th>\n",
       "      <td>0</td>\n",
       "    </tr>\n",
       "    <tr>\n",
       "      <th>3</th>\n",
       "      <td>0</td>\n",
       "    </tr>\n",
       "    <tr>\n",
       "      <th>4</th>\n",
       "      <td>0</td>\n",
       "    </tr>\n",
       "  </tbody>\n",
       "</table>\n",
       "</div>"
      ],
      "text/plain": [
       "   Y\n",
       "0  0\n",
       "1  0\n",
       "2  0\n",
       "3  0\n",
       "4  0"
      ]
     },
     "execution_count": 16,
     "metadata": {},
     "output_type": "execute_result"
    }
   ],
   "source": [
    "target_df.head(5)"
   ]
  },
  {
   "cell_type": "code",
   "execution_count": 17,
   "id": "distant-powder",
   "metadata": {},
   "outputs": [
    {
     "name": "stdout",
     "output_type": "stream",
     "text": [
      "result of linear regression\n",
      "Mean Absolute Error: 0.25128973939722626\n",
      "Mean Squared Error: 0.1062458740952556\n",
      "Mean Root Squared Error: 0.32595379134971814\n",
      "\n",
      "\n",
      " coefficient linear regression\n",
      "[[-8.09017190e-02  4.34817880e-02 -1.18857931e-01  3.65705449e-02\n",
      "  -4.68014203e-04  1.41423581e-01 -4.54107854e-01 -5.13172664e-01\n",
      "   9.69318443e-02  5.34311136e-02 -1.27626604e-01 -2.91381844e-01\n",
      "  -5.72238959e-04]]\n"
     ]
    }
   ],
   "source": [
    "from sklearn.model_selection import train_test_split\n",
    "from sklearn.linear_model import LinearRegression\n",
    "from sklearn.metrics import mean_absolute_error, mean_squared_error\n",
    "\n",
    "# 데이터를 준비하고\n",
    "X_train, X_test, y_train, y_test = train_test_split(wine_df, target_df, test_size=0.3, random_state=101)\n",
    "\n",
    "# 모델을 훈련시킵니다.\n",
    "model = LinearRegression()\n",
    "model.fit(X_train, y_train)\n",
    "\n",
    "# 테스트를 해볼까요?\n",
    "model.predict(X_test)\n",
    "pred = model.predict(X_test)\n",
    "\n",
    "# 테스트 결과는 이렇습니다!\n",
    "print(\"result of linear regression\")\n",
    "print('Mean Absolute Error:', mean_absolute_error(y_test, pred))\n",
    "print('Mean Squared Error:', mean_squared_error(y_test, pred))\n",
    "print('Mean Root Squared Error:', np.sqrt(mean_squared_error(y_test, pred)))\n",
    "\n",
    "print(\"\\n\\n coefficient linear regression\")\n",
    "print(model.coef_)"
   ]
  },
  {
   "cell_type": "markdown",
   "id": "adjusted-chester",
   "metadata": {},
   "source": [
    "이번에는 L1 regularization으로 문제를 풀어보겠습니다."
   ]
  },
  {
   "cell_type": "code",
   "execution_count": 19,
   "id": "pregnant-edinburgh",
   "metadata": {},
   "outputs": [
    {
     "name": "stdout",
     "output_type": "stream",
     "text": [
      "result of Lasso\n",
      "Mean Absolute Error: 0.24233731936122138\n",
      "Mean Squared Error: 0.0955956894578189\n",
      "Mean Root Squared Error: 0.3091855259513597\n",
      "\n",
      "\n",
      " coefficient of Lasso\n",
      "[-0.          0.01373795 -0.          0.03065716  0.00154719 -0.\n",
      " -0.34143614 -0.          0.          0.06755943 -0.         -0.14558153\n",
      " -0.00089635]\n"
     ]
    }
   ],
   "source": [
    "from sklearn.linear_model import Lasso\n",
    "from sklearn.metrics import mean_absolute_error, mean_squared_error\n",
    "\n",
    "# 모델을 준비하고 훈련시킵니다.\n",
    "L1 = Lasso(alpha=0.05)\n",
    "L1.fit(X_train, y_train)\n",
    "\n",
    "# 테스트를 해봅시다.\n",
    "pred = L1.predict(X_test)\n",
    "\n",
    "# 모델 성능은 얼마나 좋을까요?\n",
    "print(\"result of Lasso\")\n",
    "print('Mean Absolute Error:', mean_absolute_error(y_test, pred))\n",
    "print('Mean Squared Error:', mean_squared_error(y_test, pred))\n",
    "print('Mean Root Squared Error:', np.sqrt(mean_squared_error(y_test, pred)))\n",
    "\n",
    "print(\"\\n\\n coefficient of Lasso\")\n",
    "print(L1.coef_)"
   ]
  },
  {
   "cell_type": "code",
   "execution_count": 20,
   "id": "solid-gambling",
   "metadata": {},
   "outputs": [
    {
     "name": "stdout",
     "output_type": "stream",
     "text": [
      "=3\n"
     ]
    }
   ],
   "source": [
    "from sklearn.datasets import load_wine\n",
    "import pandas as pd\n",
    "import numpy as np\n",
    "from sklearn.model_selection import train_test_split\n",
    "from sklearn.metrics import mean_absolute_error, mean_squared_error\n",
    "\n",
    "wine = load_wine()\n",
    "wine_df = pd.DataFrame(data=wine.data, columns=wine.feature_names)\n",
    "target_df = pd.DataFrame(data=wine.target, columns=['Y'])\n",
    "X_train, X_test, y_train, y_test = train_test_split(wine_df, target_df, test_size= 0.3, random_state=101)\n",
    "print('=3')"
   ]
  },
  {
   "cell_type": "markdown",
   "id": "global-secretariat",
   "metadata": {},
   "source": [
    "L1 regularization으로 iteration 횟수를 5회로 두고 문제를 풀어보겠습니다."
   ]
  },
  {
   "cell_type": "code",
   "execution_count": 21,
   "id": "coastal-fraction",
   "metadata": {},
   "outputs": [
    {
     "name": "stdout",
     "output_type": "stream",
     "text": [
      "result of Lasso\n",
      "Mean Absolute Error: 0.24845768841769436\n",
      "Mean Squared Error: 0.10262989110341268\n",
      "Mean Root Squared Error: 0.32035900346862844\n",
      "\n",
      "\n",
      " coefficient of Lasso\n",
      "[-0.          0.         -0.          0.03295564  0.00109495  0.\n",
      " -0.4027847   0.          0.          0.06023131 -0.         -0.12001119\n",
      " -0.00078971]\n"
     ]
    },
    {
     "name": "stderr",
     "output_type": "stream",
     "text": [
      "/opt/conda/lib/python3.7/site-packages/sklearn/linear_model/_coordinate_descent.py:529: ConvergenceWarning: Objective did not converge. You might want to increase the number of iterations. Duality gap: 3.924145836492522, tolerance: 0.007479838709677421\n",
      "  positive)\n"
     ]
    }
   ],
   "source": [
    "from sklearn.linear_model import Lasso\n",
    "\n",
    "L1 = Lasso(alpha=0.05, max_iter=5)\n",
    "L1.fit(X_train, y_train)\n",
    "pred = L1.predict(X_test)\n",
    "\n",
    "print(\"result of Lasso\")\n",
    "print('Mean Absolute Error:', mean_absolute_error(y_test, pred))\n",
    "print('Mean Squared Error:', mean_squared_error(y_test, pred))\n",
    "print('Mean Root Squared Error:', np.sqrt(mean_squared_error(y_test, pred)))\n",
    "\n",
    "print(\"\\n\\n coefficient of Lasso\")\n",
    "print(L1.coef_)"
   ]
  },
  {
   "cell_type": "markdown",
   "id": "chinese-audio",
   "metadata": {},
   "source": [
    "L2 regularization도 같은 제약조건을 두고 문제를 풀어보겠습니다."
   ]
  },
  {
   "cell_type": "code",
   "execution_count": 22,
   "id": "inclusive-habitat",
   "metadata": {},
   "outputs": [
    {
     "name": "stdout",
     "output_type": "stream",
     "text": [
      "result of Ridge\n",
      "Mean Absolute Error: 0.2511466959936429\n",
      "Mean Squared Error: 0.10568076460795563\n",
      "Mean Root Squared Error: 0.3250857803841251\n",
      "\n",
      "\n",
      " coefficient of Ridge\n",
      "[[-8.12456257e-02  4.35541496e-02 -1.21661565e-01  3.65979773e-02\n",
      "  -3.94014013e-04  1.39168707e-01 -4.50691113e-01 -4.87216747e-01\n",
      "   9.54111059e-02  5.37077039e-02 -1.28602933e-01 -2.89832790e-01\n",
      "  -5.73136185e-04]]\n"
     ]
    }
   ],
   "source": [
    "from sklearn.linear_model import Ridge\n",
    "\n",
    "L2 = Ridge(alpha=0.05,max_iter=5)\n",
    "L2.fit(X_train, y_train)\n",
    "pred = L2.predict(X_test)\n",
    "\n",
    "print(\"result of Ridge\")\n",
    "print('Mean Absolute Error:', mean_absolute_error(y_test, pred))\n",
    "print('Mean Squared Error:', mean_squared_error(y_test, pred))\n",
    "print('Mean Root Squared Error:', np.sqrt(mean_squared_error(y_test, pred)))\n",
    "\n",
    "print(\"\\n\\n coefficient of Ridge\")\n",
    "print(L2.coef_)"
   ]
  },
  {
   "cell_type": "markdown",
   "id": "sharing-royal",
   "metadata": {},
   "source": [
    "iteration 값을 5로만 설정해보아도, L2 Regularization의 문제는 Linear Regression과 같은 값이 나오지만, L1 Regularization에서는 앞 step과 같은 값을 확인할 수는 없었습니다. 심지어 수렴하지 않았다는 경고까지 나오는군요! 이는 아직 다른 조건들을 만족하는 답을 찾지 못하였다는 뜻입니다.\n",
    "\n",
    "정리하면, L1 Regularization은 가중치가 적은 벡터에 해당하는 계수를 0으로 보내면서 차원 축소와 비슷한 역할을 하는 것이 특징이며, L2 Regularization은 0이 아닌 0에 가깝게 보내지만 제곱 텀이 있기 때문에 L1 Regularization보다는 수렴 속도가 빠르다는 장점이 있습니다. 예를 들어, A=[1,1,1,1,1]A=[1,1,1,1,1] , B=[5,0,0,0,0]B=[5,0,0,0,0] 의 경우 L1-norm은 같지만, L2-norm은 같지 않습니다. 즉, 제곱 텀에서 결과에 큰 영향을 미치는 값은 더 크게, 결과에 영향이 적은 값들은 더 작게 보내면서 수렴 속도가 빨라지는 것입니다.\n",
    "\n",
    "그러므로, 데이터에 따라 적절한 Regularization 방법을 활용하는 것이 좋습니다."
   ]
  },
  {
   "cell_type": "markdown",
   "id": "lesser-variety",
   "metadata": {},
   "source": [
    "# Extra : Lp norm\n",
    "\n",
    "- 저번에도 잠깐 소개해드린 Lp norm에 대해 자세히 설명해드리려고 합니다.\n",
    "\n",
    "- Norm이라는 개념은 벡터뿐만 아니라 함수, 행렬에 대해서 크기를 구하는 것으로, 딥러닝을 배우는 과정에서는 주로 벡터, 좀 더 어렵게는 행렬의 Norm 정도만 알면 됩니다."
   ]
  },
  {
   "cell_type": "markdown",
   "id": "administrative-underground",
   "metadata": {},
   "source": [
    "아래 코드에서 pp의 값과 xx의 형태를 바꾸어가며 실험해보세요."
   ]
  },
  {
   "cell_type": "code",
   "execution_count": 23,
   "id": "balanced-swift",
   "metadata": {},
   "outputs": [
    {
     "name": "stdout",
     "output_type": "stream",
     "text": [
      "result of numpy package norm function : 10.00008 \n",
      "result of making norm : 10.00008 \n"
     ]
    }
   ],
   "source": [
    "x=np.array([1,10,1,1,1])\n",
    "p=5\n",
    "norm_x=np.linalg.norm(x, ord=p)\n",
    "making_norm = (sum(x**p))**(1/p)\n",
    "print(\"result of numpy package norm function : %0.5f \"%norm_x) \n",
    "print(\"result of making norm : %0.5f \"%making_norm)"
   ]
  },
  {
   "cell_type": "code",
   "execution_count": 26,
   "id": "entertaining-italic",
   "metadata": {},
   "outputs": [
    {
     "name": "stdout",
     "output_type": "stream",
     "text": [
      "result inf norm of A : 18.0\n",
      "result one norm of A : 14.0\n"
     ]
    }
   ],
   "source": [
    "A=np.array([[1,2,3],[1,2,3],[4,6,8]])\n",
    "inf_norm_A=np.linalg.norm(A, ord=np.inf)\n",
    "print(\"result inf norm of A :\", inf_norm_A)\n",
    "one_norm_A=np.linalg.norm(A, ord=1)\n",
    "print(\"result one norm of A :\", one_norm_A)"
   ]
  },
  {
   "cell_type": "markdown",
   "id": "regular-standard",
   "metadata": {},
   "source": [
    "드롭아웃(Dropout) 기법은 2014년도에 나온 논문입니다.\n",
    "\n",
    "논문 제목 : Dropout: A Simple Way to Prevent Neural Networks from Overfitting\n",
    "\n",
    "논문 발표 시점 : 2014년\n",
    "\n",
    "논문 링크 : [논문 주소](https://jmlr.org/papers/v15/srivastava14a.html.)\n",
    "\n",
    "드롭아웃 기법이 나오기 전의 신경망은 fully connected architecture로 모든 뉴런들이 연결되어 있었습니다. \n",
    "\n",
    "그러나 드롭아웃이 나오면서 확률적으로 랜덤하게 몇 가지의 뉴럴만 선택하여 정보를 전달하는 과정입니다.\n",
    "\n",
    "이름 그대로 몇 가지의 값들을 모든 뉴런에 전달하는 것이 아닌 확률적으로 버리면서 전달하는 기법입니다.\n",
    "\n",
    "드롭아웃은 오버피팅을 막는 Regularization layer 중 하나입니다.\n",
    "\n",
    "확률을 너무 높이면, 제대로 전달되지 않으므로 학습이 잘되지 않고, 확률을 너무 낮추는 경우는 fully connected layer와 같습니다. fully connected layer에서 오버피팅이 생기는 경우에 주로 Dropout layer를 추가합니다.\n",
    "\n",
    "코드는 간단합니다. 논문이 나온 지도 오래되었기 때문에, 여러 프레임워크에서 간단하게 구현할 수 있도록 되어있습니다.\n",
    "\n",
    "- [keras droppout](https://keras.io/api/layers/regularization_layers/dropout/)"
   ]
  },
  {
   "cell_type": "markdown",
   "id": "static-bedroom",
   "metadata": {},
   "source": [
    "#### 실습 (not overfitting)\n",
    "\n",
    "fashion mnist 라는 데이터 셋을 불러와서 학습을 시키도록 하겠습니다.\n",
    "\n",
    "총 10개의 클래스로 이루어져 있습니다.\n",
    "\n",
    "이 데이터셋은 간단한 편이기도 하여 5 epoch에서도 어느 정도 결과가 나오게 되는데요. 드롭아웃 레이어를 중간에 추가하여 확률을 1에 가깝게 주면 어떻게 되는지 살펴보도록 하겠습니다."
   ]
  },
  {
   "cell_type": "code",
   "execution_count": 27,
   "id": "disturbed-signal",
   "metadata": {},
   "outputs": [
    {
     "name": "stdout",
     "output_type": "stream",
     "text": [
      "=3\n"
     ]
    }
   ],
   "source": [
    "import tensorflow as tf\n",
    "from tensorflow import keras\n",
    "import numpy as np\n",
    "import matplotlib.pyplot as plt\n",
    "from sklearn.model_selection import train_test_split\n",
    "\n",
    "fashion_mnist = keras.datasets.fashion_mnist\n",
    "print('=3')"
   ]
  },
  {
   "cell_type": "code",
   "execution_count": 28,
   "id": "duplicate-uzbekistan",
   "metadata": {},
   "outputs": [
    {
     "name": "stdout",
     "output_type": "stream",
     "text": [
      "Downloading data from https://storage.googleapis.com/tensorflow/tf-keras-datasets/train-labels-idx1-ubyte.gz\n",
      "32768/29515 [=================================] - 0s 1us/step\n",
      "Downloading data from https://storage.googleapis.com/tensorflow/tf-keras-datasets/train-images-idx3-ubyte.gz\n",
      "26427392/26421880 [==============================] - 0s 0us/step\n",
      "Downloading data from https://storage.googleapis.com/tensorflow/tf-keras-datasets/t10k-labels-idx1-ubyte.gz\n",
      "8192/5148 [===============================================] - 0s 0us/step\n",
      "Downloading data from https://storage.googleapis.com/tensorflow/tf-keras-datasets/t10k-images-idx3-ubyte.gz\n",
      "4423680/4422102 [==============================] - 0s 0us/step\n"
     ]
    }
   ],
   "source": [
    "(train_images, train_labels), (test_images, test_labels) = fashion_mnist.load_data()\n",
    "class_names = ['T-shirt/top', 'Trouser', 'Pullover', 'Dress', 'Coat',\n",
    "               'Sandal', 'Shirt', 'Sneaker', 'Bag', 'Ankle boot']\n",
    "\n",
    "train_images = train_images / 255.0\n",
    "test_images = test_images / 255.0"
   ]
  },
  {
   "cell_type": "markdown",
   "id": "satisfactory-composition",
   "metadata": {},
   "source": [
    "dropout의 확률을 0.9로 주었을 때의 결과를 살펴보도록 하겠습니다."
   ]
  },
  {
   "cell_type": "code",
   "execution_count": 29,
   "id": "brazilian-phrase",
   "metadata": {},
   "outputs": [
    {
     "name": "stdout",
     "output_type": "stream",
     "text": [
      "Epoch 1/5\n",
      "1875/1875 [==============================] - 7s 3ms/step - loss: 1.6705 - accuracy: 0.3620\n",
      "Epoch 2/5\n",
      "1875/1875 [==============================] - 6s 3ms/step - loss: 1.2365 - accuracy: 0.4998\n",
      "Epoch 3/5\n",
      "1875/1875 [==============================] - 6s 3ms/step - loss: 1.1895 - accuracy: 0.5147\n",
      "Epoch 4/5\n",
      "1875/1875 [==============================] - 6s 3ms/step - loss: 1.1578 - accuracy: 0.5306\n",
      "Epoch 5/5\n",
      "1875/1875 [==============================] - 5s 3ms/step - loss: 1.1280 - accuracy: 0.5400\n"
     ]
    }
   ],
   "source": [
    "model = keras.Sequential([\n",
    "    keras.layers.Flatten(input_shape=(28, 28)),\n",
    "    keras.layers.Dense(128, activation='relu'),\n",
    "    # 여기에 dropout layer를 추가해보았습니다. 나머지 layer는 아래의 실습과 같습니다.\n",
    "    keras.layers.Dropout(0.9),\n",
    "    keras.layers.Dense(10, activation='softmax')\n",
    "])\n",
    "\n",
    "model.compile(optimizer='adam',loss='sparse_categorical_crossentropy',\n",
    "              metrics=['accuracy'])\n",
    "\n",
    "history= model.fit(train_images, train_labels, epochs=5)"
   ]
  },
  {
   "cell_type": "markdown",
   "id": "literary-screening",
   "metadata": {},
   "source": [
    "dropout이 없을 때 실습을 해보면, 5 epoch 정도만 돌려도 충분히 높은 정확도를 볼 수 있습니다."
   ]
  },
  {
   "cell_type": "code",
   "execution_count": 30,
   "id": "rational-toner",
   "metadata": {},
   "outputs": [
    {
     "name": "stdout",
     "output_type": "stream",
     "text": [
      "Epoch 1/5\n",
      "1875/1875 [==============================] - 3s 2ms/step - loss: 0.6224 - accuracy: 0.7817\n",
      "Epoch 2/5\n",
      "1875/1875 [==============================] - 3s 2ms/step - loss: 0.3845 - accuracy: 0.8610\n",
      "Epoch 3/5\n",
      "1875/1875 [==============================] - 3s 2ms/step - loss: 0.3455 - accuracy: 0.8740\n",
      "Epoch 4/5\n",
      "1875/1875 [==============================] - 3s 2ms/step - loss: 0.3182 - accuracy: 0.8832\n",
      "Epoch 5/5\n",
      "1875/1875 [==============================] - 3s 2ms/step - loss: 0.2973 - accuracy: 0.8908\n"
     ]
    }
   ],
   "source": [
    "model = keras.Sequential([\n",
    "    keras.layers.Flatten(input_shape=(28, 28)),\n",
    "    # 이번에는 dropout layer가 없습니다. \n",
    "    keras.layers.Dense(128, activation='relu'),\n",
    "    keras.layers.Dense(10, activation='softmax')\n",
    "])\n",
    "\n",
    "model.compile(optimizer='adam',loss='sparse_categorical_crossentropy',\n",
    "              metrics=['accuracy'])\n",
    "\n",
    "history = model.fit(train_images, train_labels, epochs=5)"
   ]
  },
  {
   "cell_type": "markdown",
   "id": "superb-shift",
   "metadata": {},
   "source": [
    "현재 이 데이터 셋은 학습이 잘 되는 데이터 셋으로, fully connected layer에서도 결과가 잘 나옴을 확인할 수 있는데요.\n",
    "\n",
    "일부러 중간에 Dropout layer를 추가하여 0.9의 확률 값을 주니 학습이 안 됨을 확인하였습니다.\n",
    "\n",
    "다음은 overfitting이 나는 환경에서의 Dropout의 중요성을 알아보도록 하겠습니다."
   ]
  },
  {
   "cell_type": "markdown",
   "id": "elect-right",
   "metadata": {},
   "source": [
    "#### 실습 (overfitting)\n",
    "\n",
    "overfitting이 되는지 확인해보려면 train set과 validation set의 loss function을 그려보는 것이 가장 첫 번째 시도입니다. \n",
    "\n",
    "우리는 위의 데이터를 이제 train:valid=99:1로 split 한 뒤에 loss function의 값을 그려보고, overfitting 이 나는 fully connected layer를 만들어보도록 합시다. overfitting이 되게 하기 위해 의도적으로 train set을 99%로 늘리고 validation set을 줄였습니다."
   ]
  },
  {
   "cell_type": "code",
   "execution_count": 31,
   "id": "creative-brooks",
   "metadata": {},
   "outputs": [
    {
     "name": "stdout",
     "output_type": "stream",
     "text": [
      "Epoch 1/200\n",
      "117/117 [==============================] - 2s 12ms/step - loss: 2.2024 - accuracy: 0.3702 - val_loss: 1.6577 - val_accuracy: 0.6017\n",
      "Epoch 2/200\n",
      "117/117 [==============================] - 1s 5ms/step - loss: 1.5270 - accuracy: 0.5916 - val_loss: 1.1789 - val_accuracy: 0.6567\n",
      "Epoch 3/200\n",
      "117/117 [==============================] - 1s 6ms/step - loss: 1.1347 - accuracy: 0.6526 - val_loss: 0.9517 - val_accuracy: 0.7333\n",
      "Epoch 4/200\n",
      "117/117 [==============================] - 1s 5ms/step - loss: 0.9392 - accuracy: 0.7024 - val_loss: 0.8219 - val_accuracy: 0.7467\n",
      "Epoch 5/200\n",
      "117/117 [==============================] - 1s 5ms/step - loss: 0.8168 - accuracy: 0.7273 - val_loss: 0.7422 - val_accuracy: 0.7617\n",
      "Epoch 6/200\n",
      "117/117 [==============================] - 1s 5ms/step - loss: 0.7419 - accuracy: 0.7431 - val_loss: 0.6951 - val_accuracy: 0.7750\n",
      "Epoch 7/200\n",
      "117/117 [==============================] - 1s 5ms/step - loss: 0.6953 - accuracy: 0.7534 - val_loss: 0.6611 - val_accuracy: 0.7750\n",
      "Epoch 8/200\n",
      "117/117 [==============================] - 1s 5ms/step - loss: 0.6660 - accuracy: 0.7621 - val_loss: 0.6303 - val_accuracy: 0.7833\n",
      "Epoch 9/200\n",
      "117/117 [==============================] - 1s 5ms/step - loss: 0.6371 - accuracy: 0.7712 - val_loss: 0.6096 - val_accuracy: 0.7867\n",
      "Epoch 10/200\n",
      "117/117 [==============================] - 1s 5ms/step - loss: 0.6150 - accuracy: 0.7817 - val_loss: 0.5949 - val_accuracy: 0.7917\n",
      "Epoch 11/200\n",
      "117/117 [==============================] - 1s 5ms/step - loss: 0.6014 - accuracy: 0.7852 - val_loss: 0.5729 - val_accuracy: 0.7983\n",
      "Epoch 12/200\n",
      "117/117 [==============================] - 1s 5ms/step - loss: 0.5792 - accuracy: 0.7905 - val_loss: 0.5646 - val_accuracy: 0.7967\n",
      "Epoch 13/200\n",
      "117/117 [==============================] - 1s 5ms/step - loss: 0.5614 - accuracy: 0.7999 - val_loss: 0.5518 - val_accuracy: 0.7983\n",
      "Epoch 14/200\n",
      "117/117 [==============================] - 1s 5ms/step - loss: 0.5514 - accuracy: 0.8049 - val_loss: 0.5426 - val_accuracy: 0.8017\n",
      "Epoch 15/200\n",
      "117/117 [==============================] - 1s 5ms/step - loss: 0.5407 - accuracy: 0.8098 - val_loss: 0.5308 - val_accuracy: 0.8083\n",
      "Epoch 16/200\n",
      "117/117 [==============================] - 1s 5ms/step - loss: 0.5277 - accuracy: 0.8143 - val_loss: 0.5220 - val_accuracy: 0.8050\n",
      "Epoch 17/200\n",
      "117/117 [==============================] - 1s 6ms/step - loss: 0.5188 - accuracy: 0.8180 - val_loss: 0.5103 - val_accuracy: 0.8100\n",
      "Epoch 18/200\n",
      "117/117 [==============================] - 1s 5ms/step - loss: 0.5102 - accuracy: 0.8209 - val_loss: 0.5054 - val_accuracy: 0.8150\n",
      "Epoch 19/200\n",
      "117/117 [==============================] - 1s 6ms/step - loss: 0.5004 - accuracy: 0.8244 - val_loss: 0.4992 - val_accuracy: 0.8167\n",
      "Epoch 20/200\n",
      "117/117 [==============================] - 1s 5ms/step - loss: 0.4995 - accuracy: 0.8250 - val_loss: 0.4941 - val_accuracy: 0.8150\n",
      "Epoch 21/200\n",
      "117/117 [==============================] - 1s 5ms/step - loss: 0.4909 - accuracy: 0.8288 - val_loss: 0.4876 - val_accuracy: 0.8217\n",
      "Epoch 22/200\n",
      "117/117 [==============================] - 1s 5ms/step - loss: 0.4844 - accuracy: 0.8301 - val_loss: 0.4848 - val_accuracy: 0.8233\n",
      "Epoch 23/200\n",
      "117/117 [==============================] - 1s 5ms/step - loss: 0.4851 - accuracy: 0.8288 - val_loss: 0.4785 - val_accuracy: 0.8250\n",
      "Epoch 24/200\n",
      "117/117 [==============================] - 1s 5ms/step - loss: 0.4717 - accuracy: 0.8348 - val_loss: 0.4766 - val_accuracy: 0.8250\n",
      "Epoch 25/200\n",
      "117/117 [==============================] - 1s 5ms/step - loss: 0.4678 - accuracy: 0.8358 - val_loss: 0.4712 - val_accuracy: 0.8250\n",
      "Epoch 26/200\n",
      "117/117 [==============================] - 1s 5ms/step - loss: 0.4618 - accuracy: 0.8386 - val_loss: 0.4654 - val_accuracy: 0.8317\n",
      "Epoch 27/200\n",
      "117/117 [==============================] - 1s 5ms/step - loss: 0.4611 - accuracy: 0.8383 - val_loss: 0.4621 - val_accuracy: 0.8300\n",
      "Epoch 28/200\n",
      "117/117 [==============================] - 1s 5ms/step - loss: 0.4550 - accuracy: 0.8400 - val_loss: 0.4573 - val_accuracy: 0.8283\n",
      "Epoch 29/200\n",
      "117/117 [==============================] - 1s 5ms/step - loss: 0.4545 - accuracy: 0.8413 - val_loss: 0.4554 - val_accuracy: 0.8300\n",
      "Epoch 30/200\n",
      "117/117 [==============================] - 1s 5ms/step - loss: 0.4442 - accuracy: 0.8436 - val_loss: 0.4558 - val_accuracy: 0.8300\n",
      "Epoch 31/200\n",
      "117/117 [==============================] - 1s 6ms/step - loss: 0.4457 - accuracy: 0.8444 - val_loss: 0.4476 - val_accuracy: 0.8283\n",
      "Epoch 32/200\n",
      "117/117 [==============================] - 1s 5ms/step - loss: 0.4397 - accuracy: 0.8471 - val_loss: 0.4481 - val_accuracy: 0.8333\n",
      "Epoch 33/200\n",
      "117/117 [==============================] - 1s 5ms/step - loss: 0.4472 - accuracy: 0.8428 - val_loss: 0.4456 - val_accuracy: 0.8317\n",
      "Epoch 34/200\n",
      "117/117 [==============================] - 1s 5ms/step - loss: 0.4416 - accuracy: 0.8464 - val_loss: 0.4451 - val_accuracy: 0.8333\n",
      "Epoch 35/200\n",
      "117/117 [==============================] - 1s 6ms/step - loss: 0.4310 - accuracy: 0.8487 - val_loss: 0.4438 - val_accuracy: 0.8283\n",
      "Epoch 36/200\n",
      "117/117 [==============================] - 1s 5ms/step - loss: 0.4355 - accuracy: 0.8475 - val_loss: 0.4369 - val_accuracy: 0.8333\n",
      "Epoch 37/200\n",
      "117/117 [==============================] - 1s 5ms/step - loss: 0.4308 - accuracy: 0.8490 - val_loss: 0.4384 - val_accuracy: 0.8317\n",
      "Epoch 38/200\n",
      "117/117 [==============================] - 1s 5ms/step - loss: 0.4362 - accuracy: 0.8487 - val_loss: 0.4345 - val_accuracy: 0.8333\n",
      "Epoch 39/200\n",
      "117/117 [==============================] - 1s 5ms/step - loss: 0.4287 - accuracy: 0.8496 - val_loss: 0.4336 - val_accuracy: 0.8400\n",
      "Epoch 40/200\n",
      "117/117 [==============================] - 1s 5ms/step - loss: 0.4312 - accuracy: 0.8494 - val_loss: 0.4272 - val_accuracy: 0.8300\n",
      "Epoch 41/200\n",
      "117/117 [==============================] - 1s 6ms/step - loss: 0.4286 - accuracy: 0.8490 - val_loss: 0.4313 - val_accuracy: 0.8300\n",
      "Epoch 42/200\n",
      "117/117 [==============================] - 1s 6ms/step - loss: 0.4162 - accuracy: 0.8528 - val_loss: 0.4218 - val_accuracy: 0.8367\n",
      "Epoch 43/200\n",
      "117/117 [==============================] - 1s 5ms/step - loss: 0.4174 - accuracy: 0.8527 - val_loss: 0.4296 - val_accuracy: 0.8350\n",
      "Epoch 44/200\n",
      "117/117 [==============================] - 1s 5ms/step - loss: 0.4150 - accuracy: 0.8534 - val_loss: 0.4240 - val_accuracy: 0.8417\n",
      "Epoch 45/200\n",
      "117/117 [==============================] - 1s 5ms/step - loss: 0.4189 - accuracy: 0.8536 - val_loss: 0.4214 - val_accuracy: 0.8367\n",
      "Epoch 46/200\n",
      "117/117 [==============================] - 1s 5ms/step - loss: 0.4136 - accuracy: 0.8555 - val_loss: 0.4186 - val_accuracy: 0.8350\n",
      "Epoch 47/200\n",
      "117/117 [==============================] - 1s 5ms/step - loss: 0.4121 - accuracy: 0.8564 - val_loss: 0.4197 - val_accuracy: 0.8367\n",
      "Epoch 48/200\n",
      "117/117 [==============================] - 1s 5ms/step - loss: 0.4096 - accuracy: 0.8584 - val_loss: 0.4168 - val_accuracy: 0.8383\n",
      "Epoch 49/200\n",
      "117/117 [==============================] - 1s 5ms/step - loss: 0.4028 - accuracy: 0.8603 - val_loss: 0.4174 - val_accuracy: 0.8350\n",
      "Epoch 50/200\n",
      "117/117 [==============================] - 1s 5ms/step - loss: 0.4034 - accuracy: 0.8597 - val_loss: 0.4153 - val_accuracy: 0.8333\n",
      "Epoch 51/200\n",
      "117/117 [==============================] - 1s 5ms/step - loss: 0.4050 - accuracy: 0.8582 - val_loss: 0.4097 - val_accuracy: 0.8417\n",
      "Epoch 52/200\n",
      "117/117 [==============================] - 1s 5ms/step - loss: 0.3998 - accuracy: 0.8600 - val_loss: 0.4099 - val_accuracy: 0.8350\n",
      "Epoch 53/200\n",
      "117/117 [==============================] - 1s 5ms/step - loss: 0.4024 - accuracy: 0.8582 - val_loss: 0.4083 - val_accuracy: 0.8383\n",
      "Epoch 54/200\n",
      "117/117 [==============================] - 1s 5ms/step - loss: 0.4013 - accuracy: 0.8589 - val_loss: 0.4074 - val_accuracy: 0.8417\n",
      "Epoch 55/200\n",
      "117/117 [==============================] - 1s 5ms/step - loss: 0.4007 - accuracy: 0.8589 - val_loss: 0.4027 - val_accuracy: 0.8367\n",
      "Epoch 56/200\n",
      "117/117 [==============================] - 1s 6ms/step - loss: 0.4037 - accuracy: 0.8596 - val_loss: 0.4110 - val_accuracy: 0.8283\n",
      "Epoch 57/200\n",
      "117/117 [==============================] - 1s 5ms/step - loss: 0.4039 - accuracy: 0.8594 - val_loss: 0.4054 - val_accuracy: 0.8383\n",
      "Epoch 58/200\n",
      "117/117 [==============================] - 1s 6ms/step - loss: 0.3943 - accuracy: 0.8605 - val_loss: 0.4023 - val_accuracy: 0.8400\n",
      "Epoch 59/200\n",
      "117/117 [==============================] - 1s 5ms/step - loss: 0.3902 - accuracy: 0.8637 - val_loss: 0.4007 - val_accuracy: 0.8400\n",
      "Epoch 60/200\n",
      "117/117 [==============================] - 1s 5ms/step - loss: 0.3922 - accuracy: 0.8624 - val_loss: 0.3982 - val_accuracy: 0.8367\n",
      "Epoch 61/200\n",
      "117/117 [==============================] - 1s 5ms/step - loss: 0.3942 - accuracy: 0.8621 - val_loss: 0.4044 - val_accuracy: 0.8417\n",
      "Epoch 62/200\n",
      "117/117 [==============================] - 1s 5ms/step - loss: 0.3961 - accuracy: 0.8621 - val_loss: 0.3984 - val_accuracy: 0.8450\n",
      "Epoch 63/200\n",
      "117/117 [==============================] - 1s 5ms/step - loss: 0.3865 - accuracy: 0.8622 - val_loss: 0.3981 - val_accuracy: 0.8383\n",
      "Epoch 64/200\n",
      "117/117 [==============================] - 1s 5ms/step - loss: 0.3897 - accuracy: 0.8624 - val_loss: 0.3948 - val_accuracy: 0.8433\n",
      "Epoch 65/200\n",
      "117/117 [==============================] - 1s 5ms/step - loss: 0.3878 - accuracy: 0.8637 - val_loss: 0.3923 - val_accuracy: 0.8417\n",
      "Epoch 66/200\n",
      "117/117 [==============================] - 1s 6ms/step - loss: 0.3905 - accuracy: 0.8626 - val_loss: 0.3916 - val_accuracy: 0.8400\n",
      "Epoch 67/200\n",
      "117/117 [==============================] - 1s 6ms/step - loss: 0.3869 - accuracy: 0.8646 - val_loss: 0.3909 - val_accuracy: 0.8417\n",
      "Epoch 68/200\n",
      "117/117 [==============================] - 1s 5ms/step - loss: 0.3805 - accuracy: 0.8672 - val_loss: 0.3901 - val_accuracy: 0.8400\n",
      "Epoch 69/200\n",
      "117/117 [==============================] - 1s 5ms/step - loss: 0.3865 - accuracy: 0.8638 - val_loss: 0.3903 - val_accuracy: 0.8367\n",
      "Epoch 70/200\n",
      "117/117 [==============================] - 1s 5ms/step - loss: 0.3763 - accuracy: 0.8668 - val_loss: 0.3869 - val_accuracy: 0.8450\n",
      "Epoch 71/200\n",
      "117/117 [==============================] - 1s 5ms/step - loss: 0.3842 - accuracy: 0.8655 - val_loss: 0.3940 - val_accuracy: 0.8433\n",
      "Epoch 72/200\n",
      "117/117 [==============================] - 1s 5ms/step - loss: 0.3811 - accuracy: 0.8665 - val_loss: 0.3906 - val_accuracy: 0.8433\n",
      "Epoch 73/200\n",
      "117/117 [==============================] - 1s 5ms/step - loss: 0.3776 - accuracy: 0.8680 - val_loss: 0.3859 - val_accuracy: 0.8400\n",
      "Epoch 74/200\n",
      "117/117 [==============================] - 1s 5ms/step - loss: 0.3712 - accuracy: 0.8693 - val_loss: 0.3839 - val_accuracy: 0.8383\n",
      "Epoch 75/200\n",
      "117/117 [==============================] - 1s 5ms/step - loss: 0.3814 - accuracy: 0.8663 - val_loss: 0.3830 - val_accuracy: 0.8333\n",
      "Epoch 76/200\n",
      "117/117 [==============================] - 1s 6ms/step - loss: 0.3748 - accuracy: 0.8680 - val_loss: 0.3848 - val_accuracy: 0.8383\n",
      "Epoch 77/200\n",
      "117/117 [==============================] - 1s 5ms/step - loss: 0.3761 - accuracy: 0.8673 - val_loss: 0.3854 - val_accuracy: 0.8433\n",
      "Epoch 78/200\n",
      "117/117 [==============================] - 1s 5ms/step - loss: 0.3768 - accuracy: 0.8665 - val_loss: 0.3808 - val_accuracy: 0.8383\n",
      "Epoch 79/200\n",
      "117/117 [==============================] - 1s 5ms/step - loss: 0.3703 - accuracy: 0.8686 - val_loss: 0.3812 - val_accuracy: 0.8417\n",
      "Epoch 80/200\n",
      "117/117 [==============================] - 1s 5ms/step - loss: 0.3698 - accuracy: 0.8696 - val_loss: 0.3854 - val_accuracy: 0.8450\n",
      "Epoch 81/200\n",
      "117/117 [==============================] - 1s 6ms/step - loss: 0.3690 - accuracy: 0.8699 - val_loss: 0.3836 - val_accuracy: 0.8417\n",
      "Epoch 82/200\n",
      "117/117 [==============================] - 1s 5ms/step - loss: 0.3682 - accuracy: 0.8716 - val_loss: 0.3801 - val_accuracy: 0.8467\n",
      "Epoch 83/200\n",
      "117/117 [==============================] - 1s 5ms/step - loss: 0.3731 - accuracy: 0.8676 - val_loss: 0.3775 - val_accuracy: 0.8367\n",
      "Epoch 84/200\n",
      "117/117 [==============================] - 1s 5ms/step - loss: 0.3663 - accuracy: 0.8706 - val_loss: 0.3772 - val_accuracy: 0.8400\n",
      "Epoch 85/200\n",
      "117/117 [==============================] - 1s 6ms/step - loss: 0.3677 - accuracy: 0.8717 - val_loss: 0.3739 - val_accuracy: 0.8400\n",
      "Epoch 86/200\n",
      "117/117 [==============================] - 1s 5ms/step - loss: 0.3680 - accuracy: 0.8700 - val_loss: 0.3757 - val_accuracy: 0.8417\n",
      "Epoch 87/200\n",
      "117/117 [==============================] - 1s 5ms/step - loss: 0.3647 - accuracy: 0.8721 - val_loss: 0.3744 - val_accuracy: 0.8367\n",
      "Epoch 88/200\n",
      "117/117 [==============================] - 1s 5ms/step - loss: 0.3637 - accuracy: 0.8726 - val_loss: 0.3739 - val_accuracy: 0.8483\n",
      "Epoch 89/200\n",
      "117/117 [==============================] - 1s 5ms/step - loss: 0.3654 - accuracy: 0.8709 - val_loss: 0.3735 - val_accuracy: 0.8417\n",
      "Epoch 90/200\n",
      "117/117 [==============================] - 1s 5ms/step - loss: 0.3625 - accuracy: 0.8723 - val_loss: 0.3745 - val_accuracy: 0.8400\n",
      "Epoch 91/200\n",
      "117/117 [==============================] - 1s 5ms/step - loss: 0.3613 - accuracy: 0.8722 - val_loss: 0.3720 - val_accuracy: 0.8433\n",
      "Epoch 92/200\n",
      "117/117 [==============================] - 1s 5ms/step - loss: 0.3580 - accuracy: 0.8741 - val_loss: 0.3713 - val_accuracy: 0.8417\n",
      "Epoch 93/200\n",
      "117/117 [==============================] - 1s 5ms/step - loss: 0.3537 - accuracy: 0.8748 - val_loss: 0.3721 - val_accuracy: 0.8417\n",
      "Epoch 94/200\n",
      "117/117 [==============================] - 1s 6ms/step - loss: 0.3541 - accuracy: 0.8761 - val_loss: 0.3741 - val_accuracy: 0.8400\n",
      "Epoch 95/200\n",
      "117/117 [==============================] - 1s 6ms/step - loss: 0.3569 - accuracy: 0.8754 - val_loss: 0.3686 - val_accuracy: 0.8383\n",
      "Epoch 96/200\n",
      "117/117 [==============================] - 1s 6ms/step - loss: 0.3600 - accuracy: 0.8732 - val_loss: 0.3716 - val_accuracy: 0.8417\n",
      "Epoch 97/200\n",
      "117/117 [==============================] - 1s 6ms/step - loss: 0.3547 - accuracy: 0.8751 - val_loss: 0.3663 - val_accuracy: 0.8400\n",
      "Epoch 98/200\n",
      "117/117 [==============================] - 1s 5ms/step - loss: 0.3510 - accuracy: 0.8768 - val_loss: 0.3700 - val_accuracy: 0.8467\n",
      "Epoch 99/200\n",
      "117/117 [==============================] - 1s 6ms/step - loss: 0.3605 - accuracy: 0.8720 - val_loss: 0.3668 - val_accuracy: 0.8467\n",
      "Epoch 100/200\n",
      "117/117 [==============================] - 1s 5ms/step - loss: 0.3550 - accuracy: 0.8752 - val_loss: 0.3680 - val_accuracy: 0.8417\n",
      "Epoch 101/200\n",
      "117/117 [==============================] - 1s 5ms/step - loss: 0.3565 - accuracy: 0.8740 - val_loss: 0.3688 - val_accuracy: 0.8483\n",
      "Epoch 102/200\n",
      "117/117 [==============================] - 1s 5ms/step - loss: 0.3454 - accuracy: 0.8802 - val_loss: 0.3652 - val_accuracy: 0.8383\n",
      "Epoch 103/200\n",
      "117/117 [==============================] - 1s 6ms/step - loss: 0.3513 - accuracy: 0.8773 - val_loss: 0.3650 - val_accuracy: 0.8467\n",
      "Epoch 104/200\n",
      "117/117 [==============================] - 1s 5ms/step - loss: 0.3546 - accuracy: 0.8773 - val_loss: 0.3668 - val_accuracy: 0.8450\n",
      "Epoch 105/200\n",
      "117/117 [==============================] - 1s 5ms/step - loss: 0.3477 - accuracy: 0.8781 - val_loss: 0.3638 - val_accuracy: 0.8483\n",
      "Epoch 106/200\n",
      "117/117 [==============================] - 1s 5ms/step - loss: 0.3494 - accuracy: 0.8772 - val_loss: 0.3659 - val_accuracy: 0.8533\n",
      "Epoch 107/200\n",
      "117/117 [==============================] - 1s 5ms/step - loss: 0.3475 - accuracy: 0.8790 - val_loss: 0.3654 - val_accuracy: 0.8450\n",
      "Epoch 108/200\n",
      "117/117 [==============================] - 1s 5ms/step - loss: 0.3450 - accuracy: 0.8769 - val_loss: 0.3626 - val_accuracy: 0.8500\n",
      "Epoch 109/200\n",
      "117/117 [==============================] - 1s 5ms/step - loss: 0.3444 - accuracy: 0.8788 - val_loss: 0.3677 - val_accuracy: 0.8483\n",
      "Epoch 110/200\n",
      "117/117 [==============================] - 1s 5ms/step - loss: 0.3527 - accuracy: 0.8738 - val_loss: 0.3610 - val_accuracy: 0.8467\n",
      "Epoch 111/200\n",
      "117/117 [==============================] - 1s 5ms/step - loss: 0.3470 - accuracy: 0.8783 - val_loss: 0.3635 - val_accuracy: 0.8433\n",
      "Epoch 112/200\n",
      "117/117 [==============================] - 1s 6ms/step - loss: 0.3416 - accuracy: 0.8786 - val_loss: 0.3613 - val_accuracy: 0.8467\n",
      "Epoch 113/200\n",
      "117/117 [==============================] - 1s 5ms/step - loss: 0.3418 - accuracy: 0.8788 - val_loss: 0.3585 - val_accuracy: 0.8467\n",
      "Epoch 114/200\n",
      "117/117 [==============================] - 1s 5ms/step - loss: 0.3421 - accuracy: 0.8795 - val_loss: 0.3610 - val_accuracy: 0.8450\n",
      "Epoch 115/200\n",
      "117/117 [==============================] - 1s 5ms/step - loss: 0.3425 - accuracy: 0.8803 - val_loss: 0.3658 - val_accuracy: 0.8500\n",
      "Epoch 116/200\n",
      "117/117 [==============================] - 1s 6ms/step - loss: 0.3375 - accuracy: 0.8816 - val_loss: 0.3627 - val_accuracy: 0.8483\n",
      "Epoch 117/200\n",
      "117/117 [==============================] - 1s 5ms/step - loss: 0.3366 - accuracy: 0.8807 - val_loss: 0.3643 - val_accuracy: 0.8450\n",
      "Epoch 118/200\n",
      "117/117 [==============================] - 1s 5ms/step - loss: 0.3378 - accuracy: 0.8803 - val_loss: 0.3601 - val_accuracy: 0.8450\n",
      "Epoch 119/200\n",
      "117/117 [==============================] - 1s 5ms/step - loss: 0.3407 - accuracy: 0.8809 - val_loss: 0.3594 - val_accuracy: 0.8483\n",
      "Epoch 120/200\n",
      "117/117 [==============================] - 1s 5ms/step - loss: 0.3409 - accuracy: 0.8799 - val_loss: 0.3541 - val_accuracy: 0.8450\n",
      "Epoch 121/200\n",
      "117/117 [==============================] - 1s 5ms/step - loss: 0.3326 - accuracy: 0.8833 - val_loss: 0.3604 - val_accuracy: 0.8567\n",
      "Epoch 122/200\n",
      "117/117 [==============================] - 1s 6ms/step - loss: 0.3391 - accuracy: 0.8813 - val_loss: 0.3556 - val_accuracy: 0.8467\n",
      "Epoch 123/200\n",
      "117/117 [==============================] - 1s 5ms/step - loss: 0.3351 - accuracy: 0.8826 - val_loss: 0.3572 - val_accuracy: 0.8467\n",
      "Epoch 124/200\n",
      "117/117 [==============================] - 1s 5ms/step - loss: 0.3340 - accuracy: 0.8819 - val_loss: 0.3594 - val_accuracy: 0.8533\n",
      "Epoch 125/200\n",
      "117/117 [==============================] - 1s 5ms/step - loss: 0.3390 - accuracy: 0.8793 - val_loss: 0.3551 - val_accuracy: 0.8450\n",
      "Epoch 126/200\n",
      "117/117 [==============================] - 0s 3ms/step - loss: 0.3383 - accuracy: 0.8817 - val_loss: 0.3552 - val_accuracy: 0.8483\n",
      "Epoch 127/200\n",
      "117/117 [==============================] - 0s 3ms/step - loss: 0.3374 - accuracy: 0.8800 - val_loss: 0.3571 - val_accuracy: 0.8483\n",
      "Epoch 128/200\n",
      "117/117 [==============================] - 0s 3ms/step - loss: 0.3361 - accuracy: 0.8819 - val_loss: 0.3560 - val_accuracy: 0.8467\n",
      "Epoch 129/200\n",
      "117/117 [==============================] - 0s 3ms/step - loss: 0.3386 - accuracy: 0.8791 - val_loss: 0.3525 - val_accuracy: 0.8483\n",
      "Epoch 130/200\n",
      "117/117 [==============================] - 0s 3ms/step - loss: 0.3331 - accuracy: 0.8818 - val_loss: 0.3548 - val_accuracy: 0.8467\n",
      "Epoch 131/200\n",
      "117/117 [==============================] - 0s 3ms/step - loss: 0.3316 - accuracy: 0.8825 - val_loss: 0.3514 - val_accuracy: 0.8517\n",
      "Epoch 132/200\n",
      "117/117 [==============================] - 0s 3ms/step - loss: 0.3310 - accuracy: 0.8837 - val_loss: 0.3495 - val_accuracy: 0.8483\n",
      "Epoch 133/200\n",
      "117/117 [==============================] - 0s 3ms/step - loss: 0.3219 - accuracy: 0.8850 - val_loss: 0.3528 - val_accuracy: 0.8500\n",
      "Epoch 134/200\n",
      "117/117 [==============================] - 0s 3ms/step - loss: 0.3296 - accuracy: 0.8847 - val_loss: 0.3517 - val_accuracy: 0.8583\n",
      "Epoch 135/200\n",
      "117/117 [==============================] - 0s 3ms/step - loss: 0.3277 - accuracy: 0.8847 - val_loss: 0.3513 - val_accuracy: 0.8483\n",
      "Epoch 136/200\n",
      "117/117 [==============================] - 0s 3ms/step - loss: 0.3244 - accuracy: 0.8849 - val_loss: 0.3520 - val_accuracy: 0.8533\n",
      "Epoch 137/200\n",
      "117/117 [==============================] - 0s 3ms/step - loss: 0.3314 - accuracy: 0.8817 - val_loss: 0.3473 - val_accuracy: 0.8483\n",
      "Epoch 138/200\n",
      "117/117 [==============================] - 0s 3ms/step - loss: 0.3211 - accuracy: 0.8851 - val_loss: 0.3493 - val_accuracy: 0.8517\n",
      "Epoch 139/200\n",
      "117/117 [==============================] - 0s 3ms/step - loss: 0.3273 - accuracy: 0.8846 - val_loss: 0.3499 - val_accuracy: 0.8483\n",
      "Epoch 140/200\n",
      "117/117 [==============================] - 0s 3ms/step - loss: 0.3255 - accuracy: 0.8838 - val_loss: 0.3461 - val_accuracy: 0.8550\n",
      "Epoch 141/200\n",
      "117/117 [==============================] - 0s 3ms/step - loss: 0.3230 - accuracy: 0.8853 - val_loss: 0.3514 - val_accuracy: 0.8583\n",
      "Epoch 142/200\n",
      "117/117 [==============================] - 0s 3ms/step - loss: 0.3272 - accuracy: 0.8849 - val_loss: 0.3506 - val_accuracy: 0.8550\n",
      "Epoch 143/200\n",
      "117/117 [==============================] - 0s 3ms/step - loss: 0.3254 - accuracy: 0.8848 - val_loss: 0.3461 - val_accuracy: 0.8567\n",
      "Epoch 144/200\n",
      "117/117 [==============================] - 0s 3ms/step - loss: 0.3219 - accuracy: 0.8850 - val_loss: 0.3454 - val_accuracy: 0.8550\n",
      "Epoch 145/200\n",
      "117/117 [==============================] - 0s 3ms/step - loss: 0.3205 - accuracy: 0.8872 - val_loss: 0.3486 - val_accuracy: 0.8567\n",
      "Epoch 146/200\n",
      "117/117 [==============================] - 0s 3ms/step - loss: 0.3214 - accuracy: 0.8870 - val_loss: 0.3467 - val_accuracy: 0.8567\n",
      "Epoch 147/200\n",
      "117/117 [==============================] - 0s 3ms/step - loss: 0.3274 - accuracy: 0.8844 - val_loss: 0.3448 - val_accuracy: 0.8517\n",
      "Epoch 148/200\n",
      "117/117 [==============================] - 0s 3ms/step - loss: 0.3225 - accuracy: 0.8855 - val_loss: 0.3463 - val_accuracy: 0.8600\n",
      "Epoch 149/200\n",
      "117/117 [==============================] - 0s 3ms/step - loss: 0.3222 - accuracy: 0.8864 - val_loss: 0.3454 - val_accuracy: 0.8550\n",
      "Epoch 150/200\n",
      "117/117 [==============================] - 0s 3ms/step - loss: 0.3218 - accuracy: 0.8871 - val_loss: 0.3464 - val_accuracy: 0.8533\n",
      "Epoch 151/200\n",
      "117/117 [==============================] - 0s 3ms/step - loss: 0.3202 - accuracy: 0.8878 - val_loss: 0.3474 - val_accuracy: 0.8583\n",
      "Epoch 152/200\n",
      "117/117 [==============================] - 0s 3ms/step - loss: 0.3204 - accuracy: 0.8873 - val_loss: 0.3464 - val_accuracy: 0.8550\n",
      "Epoch 153/200\n",
      "117/117 [==============================] - 0s 3ms/step - loss: 0.3230 - accuracy: 0.8858 - val_loss: 0.3443 - val_accuracy: 0.8567\n",
      "Epoch 154/200\n",
      "117/117 [==============================] - 0s 3ms/step - loss: 0.3242 - accuracy: 0.8864 - val_loss: 0.3394 - val_accuracy: 0.8700\n",
      "Epoch 155/200\n",
      "117/117 [==============================] - 0s 3ms/step - loss: 0.3232 - accuracy: 0.8860 - val_loss: 0.3419 - val_accuracy: 0.8550\n",
      "Epoch 156/200\n",
      "117/117 [==============================] - 0s 3ms/step - loss: 0.3168 - accuracy: 0.8876 - val_loss: 0.3434 - val_accuracy: 0.8550\n",
      "Epoch 157/200\n",
      "117/117 [==============================] - 0s 3ms/step - loss: 0.3181 - accuracy: 0.8887 - val_loss: 0.3428 - val_accuracy: 0.8583\n",
      "Epoch 158/200\n",
      "117/117 [==============================] - 0s 3ms/step - loss: 0.3126 - accuracy: 0.8914 - val_loss: 0.3420 - val_accuracy: 0.8550\n",
      "Epoch 159/200\n",
      "117/117 [==============================] - 0s 3ms/step - loss: 0.3117 - accuracy: 0.8893 - val_loss: 0.3409 - val_accuracy: 0.8567\n",
      "Epoch 160/200\n",
      "117/117 [==============================] - 0s 3ms/step - loss: 0.3156 - accuracy: 0.8899 - val_loss: 0.3409 - val_accuracy: 0.8583\n",
      "Epoch 161/200\n",
      "117/117 [==============================] - 0s 3ms/step - loss: 0.3110 - accuracy: 0.8889 - val_loss: 0.3453 - val_accuracy: 0.8583\n",
      "Epoch 162/200\n",
      "117/117 [==============================] - 0s 3ms/step - loss: 0.3174 - accuracy: 0.8879 - val_loss: 0.3387 - val_accuracy: 0.8567\n",
      "Epoch 163/200\n",
      "117/117 [==============================] - 0s 3ms/step - loss: 0.3037 - accuracy: 0.8918 - val_loss: 0.3386 - val_accuracy: 0.8583\n",
      "Epoch 164/200\n",
      "117/117 [==============================] - 0s 3ms/step - loss: 0.3146 - accuracy: 0.8876 - val_loss: 0.3391 - val_accuracy: 0.8600\n",
      "Epoch 165/200\n",
      "117/117 [==============================] - 0s 3ms/step - loss: 0.3118 - accuracy: 0.8902 - val_loss: 0.3393 - val_accuracy: 0.8600\n",
      "Epoch 166/200\n",
      "117/117 [==============================] - 0s 3ms/step - loss: 0.3086 - accuracy: 0.8908 - val_loss: 0.3380 - val_accuracy: 0.8633\n",
      "Epoch 167/200\n",
      "117/117 [==============================] - 0s 3ms/step - loss: 0.3130 - accuracy: 0.8890 - val_loss: 0.3377 - val_accuracy: 0.8650\n",
      "Epoch 168/200\n",
      "117/117 [==============================] - 0s 3ms/step - loss: 0.3124 - accuracy: 0.8881 - val_loss: 0.3446 - val_accuracy: 0.8550\n",
      "Epoch 169/200\n",
      "117/117 [==============================] - 0s 3ms/step - loss: 0.3123 - accuracy: 0.8887 - val_loss: 0.3411 - val_accuracy: 0.8567\n",
      "Epoch 170/200\n",
      "117/117 [==============================] - 0s 3ms/step - loss: 0.3056 - accuracy: 0.8922 - val_loss: 0.3368 - val_accuracy: 0.8600\n",
      "Epoch 171/200\n",
      "117/117 [==============================] - 0s 3ms/step - loss: 0.3090 - accuracy: 0.8898 - val_loss: 0.3373 - val_accuracy: 0.8650\n",
      "Epoch 172/200\n",
      "117/117 [==============================] - 0s 3ms/step - loss: 0.3062 - accuracy: 0.8890 - val_loss: 0.3399 - val_accuracy: 0.8683\n",
      "Epoch 173/200\n",
      "117/117 [==============================] - 0s 3ms/step - loss: 0.3134 - accuracy: 0.8874 - val_loss: 0.3375 - val_accuracy: 0.8617\n",
      "Epoch 174/200\n",
      "117/117 [==============================] - 0s 3ms/step - loss: 0.3070 - accuracy: 0.8922 - val_loss: 0.3393 - val_accuracy: 0.8600\n",
      "Epoch 175/200\n",
      "117/117 [==============================] - 0s 3ms/step - loss: 0.3008 - accuracy: 0.8932 - val_loss: 0.3369 - val_accuracy: 0.8617\n",
      "Epoch 176/200\n",
      "117/117 [==============================] - 0s 3ms/step - loss: 0.3091 - accuracy: 0.8905 - val_loss: 0.3348 - val_accuracy: 0.8583\n",
      "Epoch 177/200\n",
      "117/117 [==============================] - 0s 3ms/step - loss: 0.3051 - accuracy: 0.8914 - val_loss: 0.3369 - val_accuracy: 0.8583\n",
      "Epoch 178/200\n",
      "117/117 [==============================] - 0s 3ms/step - loss: 0.3024 - accuracy: 0.8926 - val_loss: 0.3407 - val_accuracy: 0.8600\n",
      "Epoch 179/200\n",
      "117/117 [==============================] - 0s 3ms/step - loss: 0.3019 - accuracy: 0.8937 - val_loss: 0.3369 - val_accuracy: 0.8600\n",
      "Epoch 180/200\n",
      "117/117 [==============================] - 0s 3ms/step - loss: 0.3037 - accuracy: 0.8918 - val_loss: 0.3404 - val_accuracy: 0.8633\n",
      "Epoch 181/200\n",
      "117/117 [==============================] - 0s 3ms/step - loss: 0.3034 - accuracy: 0.8900 - val_loss: 0.3350 - val_accuracy: 0.8633\n",
      "Epoch 182/200\n",
      "117/117 [==============================] - 0s 3ms/step - loss: 0.3049 - accuracy: 0.8925 - val_loss: 0.3375 - val_accuracy: 0.8617\n",
      "Epoch 183/200\n",
      "117/117 [==============================] - 0s 3ms/step - loss: 0.3016 - accuracy: 0.8916 - val_loss: 0.3326 - val_accuracy: 0.8650\n",
      "Epoch 184/200\n",
      "117/117 [==============================] - 0s 3ms/step - loss: 0.3024 - accuracy: 0.8920 - val_loss: 0.3333 - val_accuracy: 0.8717\n",
      "Epoch 185/200\n",
      "117/117 [==============================] - 0s 3ms/step - loss: 0.2964 - accuracy: 0.8943 - val_loss: 0.3331 - val_accuracy: 0.8617\n",
      "Epoch 186/200\n",
      "117/117 [==============================] - 0s 3ms/step - loss: 0.2950 - accuracy: 0.8958 - val_loss: 0.3346 - val_accuracy: 0.8583\n",
      "Epoch 187/200\n",
      "117/117 [==============================] - 0s 3ms/step - loss: 0.3003 - accuracy: 0.8947 - val_loss: 0.3351 - val_accuracy: 0.8600\n",
      "Epoch 188/200\n",
      "117/117 [==============================] - 0s 3ms/step - loss: 0.2993 - accuracy: 0.8928 - val_loss: 0.3361 - val_accuracy: 0.8633\n",
      "Epoch 189/200\n",
      "117/117 [==============================] - 0s 3ms/step - loss: 0.3042 - accuracy: 0.8944 - val_loss: 0.3336 - val_accuracy: 0.8667\n",
      "Epoch 190/200\n",
      "117/117 [==============================] - 0s 3ms/step - loss: 0.3014 - accuracy: 0.8923 - val_loss: 0.3377 - val_accuracy: 0.8667\n",
      "Epoch 191/200\n",
      "117/117 [==============================] - 0s 3ms/step - loss: 0.3006 - accuracy: 0.8936 - val_loss: 0.3313 - val_accuracy: 0.8667\n",
      "Epoch 192/200\n",
      "117/117 [==============================] - 0s 3ms/step - loss: 0.2953 - accuracy: 0.8952 - val_loss: 0.3337 - val_accuracy: 0.8633\n",
      "Epoch 193/200\n",
      "117/117 [==============================] - 0s 3ms/step - loss: 0.2971 - accuracy: 0.8941 - val_loss: 0.3374 - val_accuracy: 0.8650\n",
      "Epoch 194/200\n",
      "117/117 [==============================] - 0s 3ms/step - loss: 0.2939 - accuracy: 0.8953 - val_loss: 0.3337 - val_accuracy: 0.8683\n",
      "Epoch 195/200\n",
      "117/117 [==============================] - 0s 3ms/step - loss: 0.2925 - accuracy: 0.8954 - val_loss: 0.3303 - val_accuracy: 0.8667\n",
      "Epoch 196/200\n",
      "117/117 [==============================] - 0s 3ms/step - loss: 0.2962 - accuracy: 0.8938 - val_loss: 0.3281 - val_accuracy: 0.8683\n",
      "Epoch 197/200\n",
      "117/117 [==============================] - 0s 3ms/step - loss: 0.2974 - accuracy: 0.8928 - val_loss: 0.3348 - val_accuracy: 0.8650\n",
      "Epoch 198/200\n",
      "117/117 [==============================] - 0s 3ms/step - loss: 0.2949 - accuracy: 0.8958 - val_loss: 0.3304 - val_accuracy: 0.8667\n",
      "Epoch 199/200\n",
      "117/117 [==============================] - 0s 3ms/step - loss: 0.2907 - accuracy: 0.8962 - val_loss: 0.3346 - val_accuracy: 0.8683\n",
      "Epoch 200/200\n",
      "117/117 [==============================] - 0s 3ms/step - loss: 0.2964 - accuracy: 0.8949 - val_loss: 0.3292 - val_accuracy: 0.8683\n"
     ]
    }
   ],
   "source": [
    "X_train, X_valid, y_train, y_valid = train_test_split(train_images, train_labels, test_size=0.01, random_state=101)\n",
    "X_train = X_train / 255.0\n",
    "X_valid = X_valid / 255.0\n",
    "\n",
    "#Dense layer만으로 만들어 낸 classification 모델입니다.\n",
    "model = keras.Sequential([\n",
    "    keras.layers.Flatten(input_shape=(28, 28)),\n",
    "    keras.layers.Dense(256, activation='relu'),\n",
    "    keras.layers.Dense(10, activation='softmax')\n",
    "])\n",
    "\n",
    "model.compile(optimizer='adam',loss='sparse_categorical_crossentropy',\n",
    "              metrics=['accuracy'])\n",
    "\n",
    "history= model.fit(X_train, y_train, epochs=200, batch_size=512, validation_data=(X_valid, y_valid))"
   ]
  },
  {
   "cell_type": "code",
   "execution_count": 32,
   "id": "former-windows",
   "metadata": {},
   "outputs": [
    {
     "data": {
      "image/png": "[encoded data removed]",
      "text/plain": [
       "<Figure size 432x288 with 1 Axes>"
      ]
     },
     "metadata": {
      "needs_background": "light"
     },
     "output_type": "display_data"
    }
   ],
   "source": [
    "# loss 값을 plot 해보겠습니다.\n",
    "y_vloss = history.history['val_loss']\n",
    "y_loss = history.history['loss']\n",
    "x_len = np.arange(len(y_loss))\n",
    "\n",
    "plt.plot(x_len, y_vloss, marker='.', c='red', label=\"Validation-set Loss\")\n",
    "plt.plot(x_len, y_loss, marker='.', c='blue', label=\"Train-set Loss\")\n",
    "plt.legend(loc='upper right')\n",
    "plt.grid()\n",
    "plt.title('Loss graph without dropout layer') \n",
    "plt.ylim(0,1)\n",
    "plt.xlabel('epoch')\n",
    "plt.ylabel('loss')\n",
    "plt.show()"
   ]
  },
  {
   "cell_type": "code",
   "execution_count": 33,
   "id": "sealed-treasury",
   "metadata": {},
   "outputs": [
    {
     "data": {
      "image/png": "[encoded data removed]",
      "text/plain": [
       "<Figure size 432x288 with 1 Axes>"
      ]
     },
     "metadata": {
      "needs_background": "light"
     },
     "output_type": "display_data"
    }
   ],
   "source": [
    "# accuracy 값을 plot 해보겠습니다.\n",
    "y_vacc = history.history['val_accuracy']\n",
    "y_acc = history.history['accuracy']\n",
    "x_len = np.arange(len(y_acc))\n",
    "\n",
    "plt.plot(x_len, y_vacc, marker='.', c='red', label=\"Validation-set accuracy\")\n",
    "plt.plot(x_len, y_acc, marker='.', c='blue', label=\"Train-set accuracy\")\n",
    "plt.legend(loc='lower right')\n",
    "plt.grid()\n",
    "plt.ylim(0.5,1) \n",
    "plt.title('Accuracy graph without dropout layer') \n",
    "plt.xlabel('epoch')\n",
    "plt.ylabel('accuracy')\n",
    "plt.show()"
   ]
  },
  {
   "cell_type": "markdown",
   "id": "technological-vocabulary",
   "metadata": {},
   "source": [
    "위의 droupout layer가 없는 fully connected layer에서 200번 정도의 학습을 하니 train set의 accuracy는 올라가고, loss는 점점 떨어졌습니다. 그러나 validation set의 accuracy와 loss는 어느 정도 값에서 수렴함을 볼 수 있었습니다.\n",
    "이렇게 오버피팅을 만든 환경에서 Dropout layer를 추가한 뒤 나머지 환경은 같게 한 실험을 살펴보도록 하겠습니다."
   ]
  },
  {
   "cell_type": "code",
   "execution_count": 34,
   "id": "cardiac-replica",
   "metadata": {},
   "outputs": [
    {
     "name": "stdout",
     "output_type": "stream",
     "text": [
      "Epoch 1/200\n",
      "117/117 [==============================] - 1s 4ms/step - loss: 2.2067 - accuracy: 0.3958 - val_loss: 1.6740 - val_accuracy: 0.5767\n",
      "Epoch 2/200\n",
      "117/117 [==============================] - 0s 3ms/step - loss: 1.5656 - accuracy: 0.5394 - val_loss: 1.2159 - val_accuracy: 0.6583\n",
      "Epoch 3/200\n",
      "117/117 [==============================] - 0s 3ms/step - loss: 1.2036 - accuracy: 0.6100 - val_loss: 1.0038 - val_accuracy: 0.7017\n",
      "Epoch 4/200\n",
      "117/117 [==============================] - 0s 3ms/step - loss: 1.0161 - accuracy: 0.6639 - val_loss: 0.8748 - val_accuracy: 0.7383\n",
      "Epoch 5/200\n",
      "117/117 [==============================] - 0s 3ms/step - loss: 0.9093 - accuracy: 0.6881 - val_loss: 0.7879 - val_accuracy: 0.7617\n",
      "Epoch 6/200\n",
      "117/117 [==============================] - 0s 3ms/step - loss: 0.8316 - accuracy: 0.7129 - val_loss: 0.7335 - val_accuracy: 0.7683\n",
      "Epoch 7/200\n",
      "117/117 [==============================] - 0s 3ms/step - loss: 0.7795 - accuracy: 0.7269 - val_loss: 0.6942 - val_accuracy: 0.7750\n",
      "Epoch 8/200\n",
      "117/117 [==============================] - 0s 3ms/step - loss: 0.7394 - accuracy: 0.7380 - val_loss: 0.6677 - val_accuracy: 0.7833\n",
      "Epoch 9/200\n",
      "117/117 [==============================] - 0s 3ms/step - loss: 0.7131 - accuracy: 0.7451 - val_loss: 0.6450 - val_accuracy: 0.7900\n",
      "Epoch 10/200\n",
      "117/117 [==============================] - 0s 3ms/step - loss: 0.6947 - accuracy: 0.7517 - val_loss: 0.6261 - val_accuracy: 0.7917\n",
      "Epoch 11/200\n",
      "117/117 [==============================] - 0s 3ms/step - loss: 0.6797 - accuracy: 0.7569 - val_loss: 0.6127 - val_accuracy: 0.7900\n",
      "Epoch 12/200\n",
      "117/117 [==============================] - 0s 3ms/step - loss: 0.6541 - accuracy: 0.7662 - val_loss: 0.5978 - val_accuracy: 0.7917\n",
      "Epoch 13/200\n",
      "117/117 [==============================] - 0s 3ms/step - loss: 0.6394 - accuracy: 0.7693 - val_loss: 0.5859 - val_accuracy: 0.7917\n",
      "Epoch 14/200\n",
      "117/117 [==============================] - 0s 3ms/step - loss: 0.6227 - accuracy: 0.7759 - val_loss: 0.5712 - val_accuracy: 0.7967\n",
      "Epoch 15/200\n",
      "117/117 [==============================] - 0s 3ms/step - loss: 0.6120 - accuracy: 0.7820 - val_loss: 0.5601 - val_accuracy: 0.7933\n",
      "Epoch 16/200\n",
      "117/117 [==============================] - 0s 3ms/step - loss: 0.5974 - accuracy: 0.7871 - val_loss: 0.5494 - val_accuracy: 0.8000\n",
      "Epoch 17/200\n",
      "117/117 [==============================] - 0s 3ms/step - loss: 0.5878 - accuracy: 0.7899 - val_loss: 0.5442 - val_accuracy: 0.7983\n",
      "Epoch 18/200\n",
      "117/117 [==============================] - 0s 3ms/step - loss: 0.5790 - accuracy: 0.7939 - val_loss: 0.5362 - val_accuracy: 0.8017\n",
      "Epoch 19/200\n",
      "117/117 [==============================] - 0s 3ms/step - loss: 0.5756 - accuracy: 0.7939 - val_loss: 0.5236 - val_accuracy: 0.8033\n",
      "Epoch 20/200\n",
      "117/117 [==============================] - 0s 3ms/step - loss: 0.5606 - accuracy: 0.8007 - val_loss: 0.5180 - val_accuracy: 0.8050\n",
      "Epoch 21/200\n",
      "117/117 [==============================] - 0s 3ms/step - loss: 0.5525 - accuracy: 0.8035 - val_loss: 0.5132 - val_accuracy: 0.8083\n",
      "Epoch 22/200\n",
      "117/117 [==============================] - 0s 3ms/step - loss: 0.5442 - accuracy: 0.8090 - val_loss: 0.5077 - val_accuracy: 0.8083\n",
      "Epoch 23/200\n",
      "117/117 [==============================] - 0s 3ms/step - loss: 0.5381 - accuracy: 0.8090 - val_loss: 0.5001 - val_accuracy: 0.8167\n",
      "Epoch 24/200\n",
      "117/117 [==============================] - 0s 3ms/step - loss: 0.5355 - accuracy: 0.8076 - val_loss: 0.4951 - val_accuracy: 0.8200\n",
      "Epoch 25/200\n",
      "117/117 [==============================] - 0s 3ms/step - loss: 0.5228 - accuracy: 0.8148 - val_loss: 0.4904 - val_accuracy: 0.8150\n",
      "Epoch 26/200\n",
      "117/117 [==============================] - 0s 3ms/step - loss: 0.5201 - accuracy: 0.8158 - val_loss: 0.4842 - val_accuracy: 0.8200\n",
      "Epoch 27/200\n",
      "117/117 [==============================] - 0s 3ms/step - loss: 0.5179 - accuracy: 0.8158 - val_loss: 0.4783 - val_accuracy: 0.8183\n",
      "Epoch 28/200\n",
      "117/117 [==============================] - 0s 3ms/step - loss: 0.5056 - accuracy: 0.8203 - val_loss: 0.4770 - val_accuracy: 0.8183\n",
      "Epoch 29/200\n",
      "117/117 [==============================] - 0s 3ms/step - loss: 0.5060 - accuracy: 0.8218 - val_loss: 0.4691 - val_accuracy: 0.8200\n",
      "Epoch 30/200\n",
      "117/117 [==============================] - 0s 3ms/step - loss: 0.4968 - accuracy: 0.8240 - val_loss: 0.4655 - val_accuracy: 0.8233\n",
      "Epoch 31/200\n",
      "117/117 [==============================] - 0s 3ms/step - loss: 0.4983 - accuracy: 0.8236 - val_loss: 0.4609 - val_accuracy: 0.8217\n",
      "Epoch 32/200\n",
      "117/117 [==============================] - 0s 3ms/step - loss: 0.4950 - accuracy: 0.8261 - val_loss: 0.4630 - val_accuracy: 0.8183\n",
      "Epoch 33/200\n",
      "117/117 [==============================] - 0s 3ms/step - loss: 0.4878 - accuracy: 0.8284 - val_loss: 0.4569 - val_accuracy: 0.8183\n",
      "Epoch 34/200\n",
      "117/117 [==============================] - 0s 3ms/step - loss: 0.4878 - accuracy: 0.8272 - val_loss: 0.4536 - val_accuracy: 0.8217\n",
      "Epoch 35/200\n",
      "117/117 [==============================] - 0s 3ms/step - loss: 0.4808 - accuracy: 0.8299 - val_loss: 0.4491 - val_accuracy: 0.8250\n",
      "Epoch 36/200\n",
      "117/117 [==============================] - 0s 3ms/step - loss: 0.4735 - accuracy: 0.8315 - val_loss: 0.4468 - val_accuracy: 0.8217\n",
      "Epoch 37/200\n",
      "117/117 [==============================] - 0s 3ms/step - loss: 0.4725 - accuracy: 0.8308 - val_loss: 0.4486 - val_accuracy: 0.8267\n",
      "Epoch 38/200\n",
      "117/117 [==============================] - 0s 3ms/step - loss: 0.4727 - accuracy: 0.8307 - val_loss: 0.4409 - val_accuracy: 0.8317\n",
      "Epoch 39/200\n",
      "117/117 [==============================] - 0s 3ms/step - loss: 0.4671 - accuracy: 0.8333 - val_loss: 0.4399 - val_accuracy: 0.8267\n",
      "Epoch 40/200\n",
      "117/117 [==============================] - 0s 3ms/step - loss: 0.4615 - accuracy: 0.8368 - val_loss: 0.4378 - val_accuracy: 0.8233\n",
      "Epoch 41/200\n",
      "117/117 [==============================] - 0s 3ms/step - loss: 0.4575 - accuracy: 0.8371 - val_loss: 0.4354 - val_accuracy: 0.8267\n",
      "Epoch 42/200\n",
      "117/117 [==============================] - 0s 3ms/step - loss: 0.4561 - accuracy: 0.8413 - val_loss: 0.4309 - val_accuracy: 0.8267\n",
      "Epoch 43/200\n",
      "117/117 [==============================] - 0s 3ms/step - loss: 0.4504 - accuracy: 0.8391 - val_loss: 0.4298 - val_accuracy: 0.8317\n",
      "Epoch 44/200\n",
      "117/117 [==============================] - 0s 3ms/step - loss: 0.4599 - accuracy: 0.8344 - val_loss: 0.4298 - val_accuracy: 0.8333\n",
      "Epoch 45/200\n",
      "117/117 [==============================] - 0s 3ms/step - loss: 0.4498 - accuracy: 0.8401 - val_loss: 0.4277 - val_accuracy: 0.8333\n",
      "Epoch 46/200\n",
      "117/117 [==============================] - 0s 3ms/step - loss: 0.4526 - accuracy: 0.8400 - val_loss: 0.4257 - val_accuracy: 0.8300\n",
      "Epoch 47/200\n",
      "117/117 [==============================] - 0s 3ms/step - loss: 0.4465 - accuracy: 0.8393 - val_loss: 0.4247 - val_accuracy: 0.8333\n",
      "Epoch 48/200\n",
      "117/117 [==============================] - 0s 3ms/step - loss: 0.4464 - accuracy: 0.8438 - val_loss: 0.4197 - val_accuracy: 0.8250\n",
      "Epoch 49/200\n",
      "117/117 [==============================] - 0s 3ms/step - loss: 0.4419 - accuracy: 0.8433 - val_loss: 0.4163 - val_accuracy: 0.8317\n",
      "Epoch 50/200\n",
      "117/117 [==============================] - 0s 3ms/step - loss: 0.4383 - accuracy: 0.8438 - val_loss: 0.4157 - val_accuracy: 0.8333\n",
      "Epoch 51/200\n",
      "117/117 [==============================] - 0s 3ms/step - loss: 0.4344 - accuracy: 0.8465 - val_loss: 0.4164 - val_accuracy: 0.8350\n",
      "Epoch 52/200\n",
      "117/117 [==============================] - 0s 3ms/step - loss: 0.4426 - accuracy: 0.8412 - val_loss: 0.4139 - val_accuracy: 0.8350\n",
      "Epoch 53/200\n",
      "117/117 [==============================] - 0s 3ms/step - loss: 0.4346 - accuracy: 0.8466 - val_loss: 0.4106 - val_accuracy: 0.8350\n",
      "Epoch 54/200\n",
      "117/117 [==============================] - 0s 3ms/step - loss: 0.4328 - accuracy: 0.8482 - val_loss: 0.4126 - val_accuracy: 0.8350\n",
      "Epoch 55/200\n",
      "117/117 [==============================] - 0s 3ms/step - loss: 0.4233 - accuracy: 0.8507 - val_loss: 0.4081 - val_accuracy: 0.8333\n",
      "Epoch 56/200\n",
      "117/117 [==============================] - 0s 3ms/step - loss: 0.4203 - accuracy: 0.8511 - val_loss: 0.4051 - val_accuracy: 0.8317\n",
      "Epoch 57/200\n",
      "117/117 [==============================] - 0s 3ms/step - loss: 0.4286 - accuracy: 0.8483 - val_loss: 0.4038 - val_accuracy: 0.8350\n",
      "Epoch 58/200\n",
      "117/117 [==============================] - 0s 3ms/step - loss: 0.4265 - accuracy: 0.8497 - val_loss: 0.4047 - val_accuracy: 0.8383\n",
      "Epoch 59/200\n",
      "117/117 [==============================] - 0s 3ms/step - loss: 0.4272 - accuracy: 0.8512 - val_loss: 0.4005 - val_accuracy: 0.8367\n",
      "Epoch 60/200\n",
      "117/117 [==============================] - 0s 3ms/step - loss: 0.4215 - accuracy: 0.8511 - val_loss: 0.3982 - val_accuracy: 0.8350\n",
      "Epoch 61/200\n",
      "117/117 [==============================] - 0s 3ms/step - loss: 0.4163 - accuracy: 0.8506 - val_loss: 0.3998 - val_accuracy: 0.8383\n",
      "Epoch 62/200\n",
      "117/117 [==============================] - 0s 3ms/step - loss: 0.4126 - accuracy: 0.8530 - val_loss: 0.3945 - val_accuracy: 0.8383\n",
      "Epoch 63/200\n",
      "117/117 [==============================] - 0s 3ms/step - loss: 0.4180 - accuracy: 0.8560 - val_loss: 0.3967 - val_accuracy: 0.8350\n",
      "Epoch 64/200\n",
      "117/117 [==============================] - 0s 3ms/step - loss: 0.4154 - accuracy: 0.8540 - val_loss: 0.3962 - val_accuracy: 0.8433\n",
      "Epoch 65/200\n",
      "117/117 [==============================] - 0s 3ms/step - loss: 0.4175 - accuracy: 0.8529 - val_loss: 0.3930 - val_accuracy: 0.8417\n",
      "Epoch 66/200\n",
      "117/117 [==============================] - 0s 3ms/step - loss: 0.4115 - accuracy: 0.8540 - val_loss: 0.3904 - val_accuracy: 0.8367\n",
      "Epoch 67/200\n",
      "117/117 [==============================] - 0s 3ms/step - loss: 0.4128 - accuracy: 0.8552 - val_loss: 0.3897 - val_accuracy: 0.8367\n",
      "Epoch 68/200\n",
      "117/117 [==============================] - 0s 3ms/step - loss: 0.4080 - accuracy: 0.8540 - val_loss: 0.3885 - val_accuracy: 0.8367\n",
      "Epoch 69/200\n",
      "117/117 [==============================] - 0s 3ms/step - loss: 0.4113 - accuracy: 0.8525 - val_loss: 0.3892 - val_accuracy: 0.8383\n",
      "Epoch 70/200\n",
      "117/117 [==============================] - 0s 3ms/step - loss: 0.4113 - accuracy: 0.8535 - val_loss: 0.3863 - val_accuracy: 0.8400\n",
      "Epoch 71/200\n",
      "117/117 [==============================] - 0s 3ms/step - loss: 0.4017 - accuracy: 0.8580 - val_loss: 0.3873 - val_accuracy: 0.8367\n",
      "Epoch 72/200\n",
      "117/117 [==============================] - 0s 3ms/step - loss: 0.4118 - accuracy: 0.8530 - val_loss: 0.3880 - val_accuracy: 0.8417\n",
      "Epoch 73/200\n",
      "117/117 [==============================] - 0s 3ms/step - loss: 0.4005 - accuracy: 0.8584 - val_loss: 0.3826 - val_accuracy: 0.8383\n",
      "Epoch 74/200\n",
      "117/117 [==============================] - 0s 3ms/step - loss: 0.4023 - accuracy: 0.8589 - val_loss: 0.3811 - val_accuracy: 0.8383\n",
      "Epoch 75/200\n",
      "117/117 [==============================] - 0s 3ms/step - loss: 0.3975 - accuracy: 0.8581 - val_loss: 0.3818 - val_accuracy: 0.8467\n",
      "Epoch 76/200\n",
      "117/117 [==============================] - 0s 3ms/step - loss: 0.3966 - accuracy: 0.8606 - val_loss: 0.3818 - val_accuracy: 0.8450\n",
      "Epoch 77/200\n",
      "117/117 [==============================] - 0s 3ms/step - loss: 0.4024 - accuracy: 0.8570 - val_loss: 0.3822 - val_accuracy: 0.8433\n",
      "Epoch 78/200\n",
      "117/117 [==============================] - 0s 3ms/step - loss: 0.3953 - accuracy: 0.8603 - val_loss: 0.3767 - val_accuracy: 0.8433\n",
      "Epoch 79/200\n",
      "117/117 [==============================] - 0s 3ms/step - loss: 0.3953 - accuracy: 0.8582 - val_loss: 0.3804 - val_accuracy: 0.8433\n",
      "Epoch 80/200\n",
      "117/117 [==============================] - 0s 3ms/step - loss: 0.3869 - accuracy: 0.8610 - val_loss: 0.3795 - val_accuracy: 0.8367\n",
      "Epoch 81/200\n",
      "117/117 [==============================] - 0s 3ms/step - loss: 0.3912 - accuracy: 0.8623 - val_loss: 0.3789 - val_accuracy: 0.8467\n",
      "Epoch 82/200\n",
      "117/117 [==============================] - 0s 3ms/step - loss: 0.3943 - accuracy: 0.8604 - val_loss: 0.3756 - val_accuracy: 0.8400\n",
      "Epoch 83/200\n",
      "117/117 [==============================] - 0s 3ms/step - loss: 0.3951 - accuracy: 0.8590 - val_loss: 0.3756 - val_accuracy: 0.8450\n",
      "Epoch 84/200\n",
      "117/117 [==============================] - 0s 3ms/step - loss: 0.3886 - accuracy: 0.8616 - val_loss: 0.3737 - val_accuracy: 0.8383\n",
      "Epoch 85/200\n",
      "117/117 [==============================] - 0s 3ms/step - loss: 0.3951 - accuracy: 0.8614 - val_loss: 0.3750 - val_accuracy: 0.8450\n",
      "Epoch 86/200\n",
      "117/117 [==============================] - 0s 3ms/step - loss: 0.3957 - accuracy: 0.8601 - val_loss: 0.3717 - val_accuracy: 0.8467\n",
      "Epoch 87/200\n",
      "117/117 [==============================] - 0s 3ms/step - loss: 0.3815 - accuracy: 0.8671 - val_loss: 0.3716 - val_accuracy: 0.8483\n",
      "Epoch 88/200\n",
      "117/117 [==============================] - 0s 3ms/step - loss: 0.3834 - accuracy: 0.8638 - val_loss: 0.3689 - val_accuracy: 0.8383\n",
      "Epoch 89/200\n",
      "117/117 [==============================] - 0s 3ms/step - loss: 0.3871 - accuracy: 0.8625 - val_loss: 0.3686 - val_accuracy: 0.8417\n",
      "Epoch 90/200\n",
      "117/117 [==============================] - 0s 3ms/step - loss: 0.3916 - accuracy: 0.8612 - val_loss: 0.3669 - val_accuracy: 0.8383\n",
      "Epoch 91/200\n",
      "117/117 [==============================] - 0s 3ms/step - loss: 0.3799 - accuracy: 0.8651 - val_loss: 0.3677 - val_accuracy: 0.8450\n",
      "Epoch 92/200\n",
      "117/117 [==============================] - 0s 3ms/step - loss: 0.3850 - accuracy: 0.8623 - val_loss: 0.3655 - val_accuracy: 0.8417\n",
      "Epoch 93/200\n",
      "117/117 [==============================] - 0s 3ms/step - loss: 0.3801 - accuracy: 0.8640 - val_loss: 0.3704 - val_accuracy: 0.8467\n",
      "Epoch 94/200\n",
      "117/117 [==============================] - 0s 3ms/step - loss: 0.3848 - accuracy: 0.8640 - val_loss: 0.3634 - val_accuracy: 0.8400\n",
      "Epoch 95/200\n",
      "117/117 [==============================] - 0s 3ms/step - loss: 0.3806 - accuracy: 0.8639 - val_loss: 0.3659 - val_accuracy: 0.8450\n",
      "Epoch 96/200\n",
      "117/117 [==============================] - 0s 3ms/step - loss: 0.3739 - accuracy: 0.8686 - val_loss: 0.3642 - val_accuracy: 0.8433\n",
      "Epoch 97/200\n",
      "117/117 [==============================] - 0s 3ms/step - loss: 0.3776 - accuracy: 0.8666 - val_loss: 0.3619 - val_accuracy: 0.8400\n",
      "Epoch 98/200\n",
      "117/117 [==============================] - 0s 3ms/step - loss: 0.3792 - accuracy: 0.8656 - val_loss: 0.3670 - val_accuracy: 0.8383\n",
      "Epoch 99/200\n",
      "117/117 [==============================] - 0s 3ms/step - loss: 0.3755 - accuracy: 0.8678 - val_loss: 0.3585 - val_accuracy: 0.8367\n",
      "Epoch 100/200\n",
      "117/117 [==============================] - 0s 3ms/step - loss: 0.3754 - accuracy: 0.8667 - val_loss: 0.3614 - val_accuracy: 0.8433\n",
      "Epoch 101/200\n",
      "117/117 [==============================] - 0s 3ms/step - loss: 0.3725 - accuracy: 0.8675 - val_loss: 0.3620 - val_accuracy: 0.8483\n",
      "Epoch 102/200\n",
      "117/117 [==============================] - 0s 3ms/step - loss: 0.3767 - accuracy: 0.8650 - val_loss: 0.3598 - val_accuracy: 0.8433\n",
      "Epoch 103/200\n",
      "117/117 [==============================] - 0s 3ms/step - loss: 0.3685 - accuracy: 0.8684 - val_loss: 0.3585 - val_accuracy: 0.8450\n",
      "Epoch 104/200\n",
      "117/117 [==============================] - 0s 3ms/step - loss: 0.3702 - accuracy: 0.8683 - val_loss: 0.3586 - val_accuracy: 0.8467\n",
      "Epoch 105/200\n",
      "117/117 [==============================] - 0s 3ms/step - loss: 0.3711 - accuracy: 0.8687 - val_loss: 0.3597 - val_accuracy: 0.8567\n",
      "Epoch 106/200\n",
      "117/117 [==============================] - 0s 3ms/step - loss: 0.3736 - accuracy: 0.8663 - val_loss: 0.3566 - val_accuracy: 0.8433\n",
      "Epoch 107/200\n",
      "117/117 [==============================] - 0s 3ms/step - loss: 0.3747 - accuracy: 0.8686 - val_loss: 0.3576 - val_accuracy: 0.8450\n",
      "Epoch 108/200\n",
      "117/117 [==============================] - 0s 3ms/step - loss: 0.3646 - accuracy: 0.8704 - val_loss: 0.3544 - val_accuracy: 0.8533\n",
      "Epoch 109/200\n",
      "117/117 [==============================] - 0s 3ms/step - loss: 0.3646 - accuracy: 0.8699 - val_loss: 0.3583 - val_accuracy: 0.8517\n",
      "Epoch 110/200\n",
      "117/117 [==============================] - 0s 3ms/step - loss: 0.3696 - accuracy: 0.8687 - val_loss: 0.3548 - val_accuracy: 0.8517\n",
      "Epoch 111/200\n",
      "117/117 [==============================] - 0s 3ms/step - loss: 0.3659 - accuracy: 0.8697 - val_loss: 0.3536 - val_accuracy: 0.8500\n",
      "Epoch 112/200\n",
      "117/117 [==============================] - 0s 3ms/step - loss: 0.3712 - accuracy: 0.8695 - val_loss: 0.3544 - val_accuracy: 0.8550\n",
      "Epoch 113/200\n",
      "117/117 [==============================] - 0s 3ms/step - loss: 0.3690 - accuracy: 0.8704 - val_loss: 0.3530 - val_accuracy: 0.8500\n",
      "Epoch 114/200\n",
      "117/117 [==============================] - 0s 3ms/step - loss: 0.3650 - accuracy: 0.8713 - val_loss: 0.3548 - val_accuracy: 0.8500\n",
      "Epoch 115/200\n",
      "117/117 [==============================] - 0s 3ms/step - loss: 0.3591 - accuracy: 0.8741 - val_loss: 0.3543 - val_accuracy: 0.8450\n",
      "Epoch 116/200\n",
      "117/117 [==============================] - 0s 3ms/step - loss: 0.3614 - accuracy: 0.8702 - val_loss: 0.3508 - val_accuracy: 0.8483\n",
      "Epoch 117/200\n",
      "117/117 [==============================] - 0s 3ms/step - loss: 0.3630 - accuracy: 0.8714 - val_loss: 0.3530 - val_accuracy: 0.8467\n",
      "Epoch 118/200\n",
      "117/117 [==============================] - 0s 3ms/step - loss: 0.3608 - accuracy: 0.8721 - val_loss: 0.3497 - val_accuracy: 0.8550\n",
      "Epoch 119/200\n",
      "117/117 [==============================] - 0s 3ms/step - loss: 0.3611 - accuracy: 0.8724 - val_loss: 0.3510 - val_accuracy: 0.8533\n",
      "Epoch 120/200\n",
      "117/117 [==============================] - 0s 3ms/step - loss: 0.3642 - accuracy: 0.8696 - val_loss: 0.3499 - val_accuracy: 0.8517\n",
      "Epoch 121/200\n",
      "117/117 [==============================] - 0s 3ms/step - loss: 0.3581 - accuracy: 0.8735 - val_loss: 0.3505 - val_accuracy: 0.8467\n",
      "Epoch 122/200\n",
      "117/117 [==============================] - 0s 3ms/step - loss: 0.3553 - accuracy: 0.8738 - val_loss: 0.3498 - val_accuracy: 0.8500\n",
      "Epoch 123/200\n",
      "117/117 [==============================] - 0s 3ms/step - loss: 0.3579 - accuracy: 0.8730 - val_loss: 0.3499 - val_accuracy: 0.8467\n",
      "Epoch 124/200\n",
      "117/117 [==============================] - 0s 3ms/step - loss: 0.3548 - accuracy: 0.8735 - val_loss: 0.3496 - val_accuracy: 0.8550\n",
      "Epoch 125/200\n",
      "117/117 [==============================] - 1s 5ms/step - loss: 0.3528 - accuracy: 0.8755 - val_loss: 0.3458 - val_accuracy: 0.8533\n",
      "Epoch 126/200\n",
      "117/117 [==============================] - 1s 9ms/step - loss: 0.3516 - accuracy: 0.8757 - val_loss: 0.3483 - val_accuracy: 0.8467\n",
      "Epoch 127/200\n",
      "117/117 [==============================] - 0s 3ms/step - loss: 0.3524 - accuracy: 0.8732 - val_loss: 0.3505 - val_accuracy: 0.8483\n",
      "Epoch 128/200\n",
      "117/117 [==============================] - 0s 3ms/step - loss: 0.3592 - accuracy: 0.8722 - val_loss: 0.3452 - val_accuracy: 0.8500\n",
      "Epoch 129/200\n",
      "117/117 [==============================] - 0s 3ms/step - loss: 0.3486 - accuracy: 0.8750 - val_loss: 0.3473 - val_accuracy: 0.8467\n",
      "Epoch 130/200\n",
      "117/117 [==============================] - 0s 3ms/step - loss: 0.3588 - accuracy: 0.8726 - val_loss: 0.3426 - val_accuracy: 0.8550\n",
      "Epoch 131/200\n",
      "117/117 [==============================] - 0s 3ms/step - loss: 0.3419 - accuracy: 0.8789 - val_loss: 0.3471 - val_accuracy: 0.8450\n",
      "Epoch 132/200\n",
      "117/117 [==============================] - 0s 3ms/step - loss: 0.3457 - accuracy: 0.8779 - val_loss: 0.3455 - val_accuracy: 0.8533\n",
      "Epoch 133/200\n",
      "117/117 [==============================] - 0s 3ms/step - loss: 0.3485 - accuracy: 0.8755 - val_loss: 0.3425 - val_accuracy: 0.8567\n",
      "Epoch 134/200\n",
      "117/117 [==============================] - 0s 3ms/step - loss: 0.3470 - accuracy: 0.8752 - val_loss: 0.3425 - val_accuracy: 0.8483\n",
      "Epoch 135/200\n",
      "117/117 [==============================] - 0s 3ms/step - loss: 0.3536 - accuracy: 0.8766 - val_loss: 0.3432 - val_accuracy: 0.8533\n",
      "Epoch 136/200\n",
      "117/117 [==============================] - 0s 3ms/step - loss: 0.3470 - accuracy: 0.8762 - val_loss: 0.3432 - val_accuracy: 0.8550\n",
      "Epoch 137/200\n",
      "117/117 [==============================] - 0s 3ms/step - loss: 0.3500 - accuracy: 0.8733 - val_loss: 0.3433 - val_accuracy: 0.8483\n",
      "Epoch 138/200\n",
      "117/117 [==============================] - 0s 3ms/step - loss: 0.3482 - accuracy: 0.8761 - val_loss: 0.3407 - val_accuracy: 0.8517\n",
      "Epoch 139/200\n",
      "117/117 [==============================] - 0s 3ms/step - loss: 0.3425 - accuracy: 0.8779 - val_loss: 0.3399 - val_accuracy: 0.8500\n",
      "Epoch 140/200\n",
      "117/117 [==============================] - 0s 3ms/step - loss: 0.3489 - accuracy: 0.8769 - val_loss: 0.3399 - val_accuracy: 0.8517\n",
      "Epoch 141/200\n",
      "117/117 [==============================] - 0s 3ms/step - loss: 0.3468 - accuracy: 0.8773 - val_loss: 0.3411 - val_accuracy: 0.8550\n",
      "Epoch 142/200\n",
      "117/117 [==============================] - 0s 3ms/step - loss: 0.3485 - accuracy: 0.8748 - val_loss: 0.3407 - val_accuracy: 0.8600\n",
      "Epoch 143/200\n",
      "117/117 [==============================] - 0s 3ms/step - loss: 0.3412 - accuracy: 0.8783 - val_loss: 0.3414 - val_accuracy: 0.8567\n",
      "Epoch 144/200\n",
      "117/117 [==============================] - 0s 3ms/step - loss: 0.3472 - accuracy: 0.8774 - val_loss: 0.3398 - val_accuracy: 0.8550\n",
      "Epoch 145/200\n",
      "117/117 [==============================] - 0s 3ms/step - loss: 0.3451 - accuracy: 0.8772 - val_loss: 0.3375 - val_accuracy: 0.8600\n",
      "Epoch 146/200\n",
      "117/117 [==============================] - 0s 3ms/step - loss: 0.3395 - accuracy: 0.8791 - val_loss: 0.3371 - val_accuracy: 0.8600\n",
      "Epoch 147/200\n",
      "117/117 [==============================] - 0s 3ms/step - loss: 0.3408 - accuracy: 0.8779 - val_loss: 0.3384 - val_accuracy: 0.8550\n",
      "Epoch 148/200\n",
      "117/117 [==============================] - 0s 3ms/step - loss: 0.3442 - accuracy: 0.8782 - val_loss: 0.3388 - val_accuracy: 0.8583\n",
      "Epoch 149/200\n",
      "117/117 [==============================] - 0s 3ms/step - loss: 0.3342 - accuracy: 0.8810 - val_loss: 0.3391 - val_accuracy: 0.8583\n",
      "Epoch 150/200\n",
      "117/117 [==============================] - 0s 3ms/step - loss: 0.3409 - accuracy: 0.8779 - val_loss: 0.3377 - val_accuracy: 0.8517\n",
      "Epoch 151/200\n",
      "117/117 [==============================] - 0s 3ms/step - loss: 0.3393 - accuracy: 0.8802 - val_loss: 0.3373 - val_accuracy: 0.8517\n",
      "Epoch 152/200\n",
      "117/117 [==============================] - 0s 3ms/step - loss: 0.3394 - accuracy: 0.8815 - val_loss: 0.3389 - val_accuracy: 0.8550\n",
      "Epoch 153/200\n",
      "117/117 [==============================] - 0s 3ms/step - loss: 0.3388 - accuracy: 0.8790 - val_loss: 0.3400 - val_accuracy: 0.8600\n",
      "Epoch 154/200\n",
      "117/117 [==============================] - 0s 3ms/step - loss: 0.3385 - accuracy: 0.8809 - val_loss: 0.3335 - val_accuracy: 0.8550\n",
      "Epoch 155/200\n",
      "117/117 [==============================] - 0s 3ms/step - loss: 0.3375 - accuracy: 0.8818 - val_loss: 0.3345 - val_accuracy: 0.8600\n",
      "Epoch 156/200\n",
      "117/117 [==============================] - 0s 3ms/step - loss: 0.3426 - accuracy: 0.8798 - val_loss: 0.3364 - val_accuracy: 0.8617\n",
      "Epoch 157/200\n",
      "117/117 [==============================] - 0s 3ms/step - loss: 0.3380 - accuracy: 0.8792 - val_loss: 0.3334 - val_accuracy: 0.8567\n",
      "Epoch 158/200\n",
      "117/117 [==============================] - 0s 3ms/step - loss: 0.3376 - accuracy: 0.8793 - val_loss: 0.3354 - val_accuracy: 0.8600\n",
      "Epoch 159/200\n",
      "117/117 [==============================] - 0s 3ms/step - loss: 0.3339 - accuracy: 0.8800 - val_loss: 0.3338 - val_accuracy: 0.8550\n",
      "Epoch 160/200\n",
      "117/117 [==============================] - 0s 3ms/step - loss: 0.3393 - accuracy: 0.8806 - val_loss: 0.3332 - val_accuracy: 0.8600\n",
      "Epoch 161/200\n",
      "117/117 [==============================] - 0s 3ms/step - loss: 0.3338 - accuracy: 0.8822 - val_loss: 0.3343 - val_accuracy: 0.8600\n",
      "Epoch 162/200\n",
      "117/117 [==============================] - 0s 3ms/step - loss: 0.3309 - accuracy: 0.8828 - val_loss: 0.3348 - val_accuracy: 0.8550\n",
      "Epoch 163/200\n",
      "117/117 [==============================] - 0s 3ms/step - loss: 0.3303 - accuracy: 0.8819 - val_loss: 0.3306 - val_accuracy: 0.8583\n",
      "Epoch 164/200\n",
      "117/117 [==============================] - 0s 3ms/step - loss: 0.3398 - accuracy: 0.8795 - val_loss: 0.3296 - val_accuracy: 0.8567\n",
      "Epoch 165/200\n",
      "117/117 [==============================] - 0s 3ms/step - loss: 0.3308 - accuracy: 0.8819 - val_loss: 0.3308 - val_accuracy: 0.8533\n",
      "Epoch 166/200\n",
      "117/117 [==============================] - 0s 3ms/step - loss: 0.3320 - accuracy: 0.8829 - val_loss: 0.3323 - val_accuracy: 0.8633\n",
      "Epoch 167/200\n",
      "117/117 [==============================] - 0s 3ms/step - loss: 0.3269 - accuracy: 0.8839 - val_loss: 0.3316 - val_accuracy: 0.8583\n",
      "Epoch 168/200\n",
      "117/117 [==============================] - 0s 3ms/step - loss: 0.3296 - accuracy: 0.8816 - val_loss: 0.3281 - val_accuracy: 0.8600\n",
      "Epoch 169/200\n",
      "117/117 [==============================] - 0s 3ms/step - loss: 0.3252 - accuracy: 0.8840 - val_loss: 0.3320 - val_accuracy: 0.8600\n",
      "Epoch 170/200\n",
      "117/117 [==============================] - 0s 3ms/step - loss: 0.3324 - accuracy: 0.8817 - val_loss: 0.3312 - val_accuracy: 0.8583\n",
      "Epoch 171/200\n",
      "117/117 [==============================] - 0s 3ms/step - loss: 0.3324 - accuracy: 0.8813 - val_loss: 0.3281 - val_accuracy: 0.8533\n",
      "Epoch 172/200\n",
      "117/117 [==============================] - 0s 3ms/step - loss: 0.3241 - accuracy: 0.8849 - val_loss: 0.3239 - val_accuracy: 0.8583\n",
      "Epoch 173/200\n",
      "117/117 [==============================] - 0s 3ms/step - loss: 0.3264 - accuracy: 0.8829 - val_loss: 0.3258 - val_accuracy: 0.8667\n",
      "Epoch 174/200\n",
      "117/117 [==============================] - 0s 3ms/step - loss: 0.3324 - accuracy: 0.8825 - val_loss: 0.3268 - val_accuracy: 0.8567\n",
      "Epoch 175/200\n",
      "117/117 [==============================] - 0s 3ms/step - loss: 0.3273 - accuracy: 0.8822 - val_loss: 0.3284 - val_accuracy: 0.8617\n",
      "Epoch 176/200\n",
      "117/117 [==============================] - 0s 3ms/step - loss: 0.3230 - accuracy: 0.8857 - val_loss: 0.3279 - val_accuracy: 0.8550\n",
      "Epoch 177/200\n",
      "117/117 [==============================] - 0s 3ms/step - loss: 0.3314 - accuracy: 0.8826 - val_loss: 0.3265 - val_accuracy: 0.8583\n",
      "Epoch 178/200\n",
      "117/117 [==============================] - 0s 3ms/step - loss: 0.3198 - accuracy: 0.8856 - val_loss: 0.3261 - val_accuracy: 0.8567\n",
      "Epoch 179/200\n",
      "117/117 [==============================] - 0s 3ms/step - loss: 0.3248 - accuracy: 0.8843 - val_loss: 0.3259 - val_accuracy: 0.8567\n",
      "Epoch 180/200\n",
      "117/117 [==============================] - 0s 3ms/step - loss: 0.3271 - accuracy: 0.8849 - val_loss: 0.3243 - val_accuracy: 0.8617\n",
      "Epoch 181/200\n",
      "117/117 [==============================] - 0s 3ms/step - loss: 0.3260 - accuracy: 0.8861 - val_loss: 0.3272 - val_accuracy: 0.8600\n",
      "Epoch 182/200\n",
      "117/117 [==============================] - 0s 3ms/step - loss: 0.3284 - accuracy: 0.8851 - val_loss: 0.3212 - val_accuracy: 0.8600\n",
      "Epoch 183/200\n",
      "117/117 [==============================] - 0s 3ms/step - loss: 0.3228 - accuracy: 0.8865 - val_loss: 0.3255 - val_accuracy: 0.8650\n",
      "Epoch 184/200\n",
      "117/117 [==============================] - 0s 3ms/step - loss: 0.3279 - accuracy: 0.8836 - val_loss: 0.3217 - val_accuracy: 0.8567\n",
      "Epoch 185/200\n",
      "117/117 [==============================] - 1s 11ms/step - loss: 0.3185 - accuracy: 0.8852 - val_loss: 0.3230 - val_accuracy: 0.8667\n",
      "Epoch 186/200\n",
      "117/117 [==============================] - 1s 8ms/step - loss: 0.3252 - accuracy: 0.8848 - val_loss: 0.3248 - val_accuracy: 0.8600\n",
      "Epoch 187/200\n",
      "117/117 [==============================] - 0s 3ms/step - loss: 0.3199 - accuracy: 0.8868 - val_loss: 0.3248 - val_accuracy: 0.8633\n",
      "Epoch 188/200\n",
      "117/117 [==============================] - 0s 3ms/step - loss: 0.3215 - accuracy: 0.8860 - val_loss: 0.3214 - val_accuracy: 0.8633\n",
      "Epoch 189/200\n",
      "117/117 [==============================] - 0s 3ms/step - loss: 0.3252 - accuracy: 0.8852 - val_loss: 0.3236 - val_accuracy: 0.8600\n",
      "Epoch 190/200\n",
      "117/117 [==============================] - 0s 3ms/step - loss: 0.3226 - accuracy: 0.8843 - val_loss: 0.3247 - val_accuracy: 0.8567\n",
      "Epoch 191/200\n",
      "117/117 [==============================] - 0s 3ms/step - loss: 0.3200 - accuracy: 0.8851 - val_loss: 0.3206 - val_accuracy: 0.8617\n",
      "Epoch 192/200\n",
      "117/117 [==============================] - 0s 3ms/step - loss: 0.3145 - accuracy: 0.8878 - val_loss: 0.3225 - val_accuracy: 0.8617\n",
      "Epoch 193/200\n",
      "117/117 [==============================] - 0s 3ms/step - loss: 0.3188 - accuracy: 0.8844 - val_loss: 0.3214 - val_accuracy: 0.8583\n",
      "Epoch 194/200\n",
      "117/117 [==============================] - 0s 3ms/step - loss: 0.3214 - accuracy: 0.8867 - val_loss: 0.3196 - val_accuracy: 0.8617\n",
      "Epoch 195/200\n",
      "117/117 [==============================] - 0s 3ms/step - loss: 0.3219 - accuracy: 0.8858 - val_loss: 0.3206 - val_accuracy: 0.8667\n",
      "Epoch 196/200\n",
      "117/117 [==============================] - 0s 3ms/step - loss: 0.3185 - accuracy: 0.8874 - val_loss: 0.3203 - val_accuracy: 0.8617\n",
      "Epoch 197/200\n",
      "117/117 [==============================] - 0s 3ms/step - loss: 0.3235 - accuracy: 0.8848 - val_loss: 0.3199 - val_accuracy: 0.8600\n",
      "Epoch 198/200\n",
      "117/117 [==============================] - 0s 3ms/step - loss: 0.3192 - accuracy: 0.8858 - val_loss: 0.3212 - val_accuracy: 0.8667\n",
      "Epoch 199/200\n",
      "117/117 [==============================] - 0s 3ms/step - loss: 0.3210 - accuracy: 0.8857 - val_loss: 0.3208 - val_accuracy: 0.8633\n",
      "Epoch 200/200\n",
      "117/117 [==============================] - 0s 3ms/step - loss: 0.3161 - accuracy: 0.8857 - val_loss: 0.3212 - val_accuracy: 0.8600\n"
     ]
    }
   ],
   "source": [
    "model = keras.Sequential([\n",
    "    keras.layers.Flatten(input_shape=(28, 28)),\n",
    "    keras.layers.Dense(256, activation='relu'),\n",
    "    # 여기에 dropout layer를 추가해보았습니다. 나머지 layer는 위의 실습과 같습니다. \n",
    "    keras.layers.Dropout(0.5),\n",
    "    keras.layers.Dense(10, activation='softmax')\n",
    "])\n",
    "\n",
    "model.compile(optimizer='adam',loss='sparse_categorical_crossentropy',\n",
    "              metrics=['accuracy'])\n",
    "\n",
    "history= model.fit(X_train, y_train, epochs=200, batch_size=512, validation_data=(X_valid, y_valid))"
   ]
  },
  {
   "cell_type": "code",
   "execution_count": 35,
   "id": "sized-express",
   "metadata": {},
   "outputs": [
    {
     "data": {
      "image/png": "[encoded data removed]",
      "text/plain": [
       "<Figure size 432x288 with 1 Axes>"
      ]
     },
     "metadata": {
      "needs_background": "light"
     },
     "output_type": "display_data"
    }
   ],
   "source": [
    "# loss 값을 plot 해보겠습니다. \n",
    "y_vloss = history.history['val_loss']\n",
    "y_loss = history.history['loss']\n",
    "x_len = np.arange(len(y_loss))\n",
    "\n",
    "plt.plot(x_len, y_vloss, marker='.', c='red', label=\"Validation-set Loss\")\n",
    "plt.plot(x_len, y_loss, marker='.', c='blue', label=\"Train-set Loss\")\n",
    "plt.legend(loc='upper right')\n",
    "plt.grid()\n",
    "plt.ylim(0,1)\n",
    "plt.title('Loss graph with dropout layer') \n",
    "plt.xlabel('epoch')\n",
    "plt.ylabel('loss')\n",
    "plt.show()"
   ]
  },
  {
   "cell_type": "code",
   "execution_count": 36,
   "id": "bronze-extreme",
   "metadata": {},
   "outputs": [
    {
     "data": {
      "image/png": "[encoded data removed]",
      "text/plain": [
       "<Figure size 432x288 with 1 Axes>"
      ]
     },
     "metadata": {
      "needs_background": "light"
     },
     "output_type": "display_data"
    }
   ],
   "source": [
    "# accuracy 값을 plot 해보겠습니다. \n",
    "y_vacc = history.history['val_accuracy']\n",
    "y_acc = history.history['accuracy']\n",
    "x_len = np.arange(len(y_acc))\n",
    "\n",
    "plt.plot(x_len, y_vacc, marker='.', c='red', label=\"Validation-set accuracy\")\n",
    "plt.plot(x_len, y_acc, marker='.', c='blue', label=\"Train-set accuracy\")\n",
    "plt.legend(loc='lower right')\n",
    "plt.grid()\n",
    "plt.ylim(0.5,1) \n",
    "plt.title('Accuracy graph with dropout layer') \n",
    "plt.xlabel('epoch')\n",
    "plt.ylabel('accuracy')\n",
    "plt.show()"
   ]
  },
  {
   "cell_type": "markdown",
   "id": "automotive-geneva",
   "metadata": {},
   "source": [
    "좋은 데이터를 가지고 오버피팅을 만드는 환경이 조금 어렵긴 했지만, Dropout layer 하나만으로도 오버피팅을 막고, 두 데이터 셋이 정확도도 비슷하게 나옴을 확인하였습니다. 사실 더 복잡한 네트워크나, 더 어려운 데이터의 경우에는 이러한 오버피팅이 더 자주 있는 일이므로, Dropout layer를 추가하는 경우가 많습니다. 하지만 이 또한 확률 값이 파라미터로 들어가므로, 어떠한 값을 선택하느냐는 데이터와 네트워크에 따라 달린 일입니다.\n",
    "\n"
   ]
  },
  {
   "cell_type": "markdown",
   "id": "alert-charger",
   "metadata": {},
   "source": [
    "# Batch Normalization\n",
    "\n",
    "Batch Normalization은 gradient vanishing, explode 문제를 해결하는 방법입니다.\n",
    "\n",
    "논문 제목 : Batch Normalization: Accelerating Deep Network Training by Reducing Internal Covariate Shift\n",
    "\n",
    "논문 발표 시점 : 2015년\n",
    "\n",
    "논문 링크 : [논문 PDF](https://arxiv.org/pdf/1502.03167.pdf)\n",
    "\n",
    "\n",
    "논문의 알고리즘을 아래에 적어보도록 하겠습니다.\n",
    "\n",
    "Input: Values of x over a mini-batch: B = \\{x_1,...,x_m\\}B={x \n",
    "1\n",
    "​\n",
    " ,...,x \n",
    "m\n",
    "​\n",
    " } Parameters to be learned: \\gamma, \\betaγ,β\n",
    "\n",
    "Output: \\{y_i = BN_{\\gamma, \\beta}(x_i)\\}{y \n",
    "i\n",
    "​\n",
    " =BN \n",
    "γ,β\n",
    "​\n",
    " (x \n",
    "i\n",
    "​\n",
    " )}"
   ]
  },
  {
   "cell_type": "code",
   "execution_count": 37,
   "id": "apart-personality",
   "metadata": {},
   "outputs": [
    {
     "name": "stdout",
     "output_type": "stream",
     "text": [
      "=3\n"
     ]
    }
   ],
   "source": [
    "import tensorflow as tf\n",
    "from tensorflow import keras\n",
    "import numpy as np\n",
    "import matplotlib.pyplot as plt\n",
    "\n",
    "fashion_mnist = keras.datasets.fashion_mnist\n",
    "print('=3')"
   ]
  },
  {
   "cell_type": "markdown",
   "id": "macro-exclusion",
   "metadata": {},
   "source": [
    "이미지 데이터인 fashion mnist 데이터 셋을 불러오겠습니다. 총 10개의 클래스로 나누어져있습니다.\n",
    "\n"
   ]
  },
  {
   "cell_type": "code",
   "execution_count": 39,
   "id": "standing-birthday",
   "metadata": {},
   "outputs": [],
   "source": [
    "(train_images, train_labels), (test_images, test_labels) = fashion_mnist.load_data()\n",
    "class_names = ['T-shirt/top', 'Trouser', 'Pullover', 'Dress', 'Coat',\n",
    "               'Sandal', 'Shirt', 'Sneaker', 'Bag', 'Ankle boot']\n",
    "\n",
    "train_images = train_images / 255.0\n",
    "test_images = test_images / 255.0"
   ]
  },
  {
   "cell_type": "code",
   "execution_count": 40,
   "id": "funded-marking",
   "metadata": {},
   "outputs": [
    {
     "name": "stdout",
     "output_type": "stream",
     "text": [
      "Epoch 1/20\n",
      "21/21 [==============================] - 1s 25ms/step - loss: 1.6545 - accuracy: 0.4670 - val_loss: 0.7675 - val_accuracy: 0.7382\n",
      "Epoch 2/20\n",
      "21/21 [==============================] - 0s 15ms/step - loss: 0.7118 - accuracy: 0.7579 - val_loss: 0.6165 - val_accuracy: 0.7917\n",
      "Epoch 3/20\n",
      "21/21 [==============================] - 0s 13ms/step - loss: 0.5818 - accuracy: 0.8062 - val_loss: 0.5434 - val_accuracy: 0.8204\n",
      "Epoch 4/20\n",
      "21/21 [==============================] - 0s 14ms/step - loss: 0.5246 - accuracy: 0.8243 - val_loss: 0.5078 - val_accuracy: 0.8302\n",
      "Epoch 5/20\n",
      "21/21 [==============================] - 0s 12ms/step - loss: 0.4931 - accuracy: 0.8365 - val_loss: 0.4874 - val_accuracy: 0.8364\n",
      "Epoch 6/20\n",
      "21/21 [==============================] - 0s 13ms/step - loss: 0.4701 - accuracy: 0.8436 - val_loss: 0.4650 - val_accuracy: 0.8423\n",
      "Epoch 7/20\n",
      "21/21 [==============================] - 0s 14ms/step - loss: 0.4487 - accuracy: 0.8484 - val_loss: 0.4492 - val_accuracy: 0.8462\n",
      "Epoch 8/20\n",
      "21/21 [==============================] - 0s 15ms/step - loss: 0.4328 - accuracy: 0.8558 - val_loss: 0.4398 - val_accuracy: 0.8502\n",
      "Epoch 9/20\n",
      "21/21 [==============================] - 0s 15ms/step - loss: 0.4247 - accuracy: 0.8553 - val_loss: 0.4315 - val_accuracy: 0.8516\n",
      "Epoch 10/20\n",
      "21/21 [==============================] - 0s 15ms/step - loss: 0.4120 - accuracy: 0.8602 - val_loss: 0.4209 - val_accuracy: 0.8573\n",
      "Epoch 11/20\n",
      "21/21 [==============================] - 0s 13ms/step - loss: 0.4004 - accuracy: 0.8656 - val_loss: 0.4150 - val_accuracy: 0.8561\n",
      "Epoch 12/20\n",
      "21/21 [==============================] - 0s 17ms/step - loss: 0.3905 - accuracy: 0.8678 - val_loss: 0.4118 - val_accuracy: 0.8575\n",
      "Epoch 13/20\n",
      "21/21 [==============================] - 0s 14ms/step - loss: 0.3882 - accuracy: 0.8662 - val_loss: 0.4081 - val_accuracy: 0.8596\n",
      "Epoch 14/20\n",
      "21/21 [==============================] - 0s 13ms/step - loss: 0.3775 - accuracy: 0.8725 - val_loss: 0.3999 - val_accuracy: 0.8621\n",
      "Epoch 15/20\n",
      "21/21 [==============================] - 0s 13ms/step - loss: 0.3646 - accuracy: 0.8745 - val_loss: 0.3977 - val_accuracy: 0.8626\n",
      "Epoch 16/20\n",
      "21/21 [==============================] - 0s 13ms/step - loss: 0.3685 - accuracy: 0.8757 - val_loss: 0.3886 - val_accuracy: 0.8662\n",
      "Epoch 17/20\n",
      "21/21 [==============================] - 0s 15ms/step - loss: 0.3569 - accuracy: 0.8769 - val_loss: 0.3932 - val_accuracy: 0.8629\n",
      "Epoch 18/20\n",
      "21/21 [==============================] - 0s 15ms/step - loss: 0.3532 - accuracy: 0.8785 - val_loss: 0.3838 - val_accuracy: 0.8676\n",
      "Epoch 19/20\n",
      "21/21 [==============================] - 0s 11ms/step - loss: 0.3421 - accuracy: 0.8819 - val_loss: 0.3776 - val_accuracy: 0.8693\n",
      "Epoch 20/20\n",
      "21/21 [==============================] - 0s 7ms/step - loss: 0.3400 - accuracy: 0.8829 - val_loss: 0.3736 - val_accuracy: 0.8704\n"
     ]
    }
   ],
   "source": [
    "from sklearn.model_selection import train_test_split\n",
    "\n",
    "X_train, X_valid, y_train, y_valid = train_test_split(train_images, train_labels, test_size=0.3, random_state=101)\n",
    "\n",
    "model = keras.Sequential([\n",
    "    keras.layers.Flatten(input_shape=(28, 28)),\n",
    "    keras.layers.Dense(128, activation='relu'),\n",
    "    keras.layers.Dense(10, activation='softmax')\n",
    "])\n",
    "\n",
    "model.compile(optimizer='adam',loss='sparse_categorical_crossentropy',\n",
    "              metrics=['accuracy'])\n",
    "\n",
    "history= model.fit(X_train, y_train, epochs=20, batch_size=2048, validation_data=(X_valid, y_valid))"
   ]
  },
  {
   "cell_type": "code",
   "execution_count": 41,
   "id": "forty-advocacy",
   "metadata": {},
   "outputs": [
    {
     "data": {
      "image/png": "[encoded data removed]",
      "text/plain": [
       "<Figure size 432x288 with 1 Axes>"
      ]
     },
     "metadata": {
      "needs_background": "light"
     },
     "output_type": "display_data"
    }
   ],
   "source": [
    "# loss 값을 plot 해보겠습니다. \n",
    "y_vloss = history.history['val_loss']\n",
    "y_loss = history.history['loss']\n",
    "x_len = np.arange(len(y_loss))\n",
    "\n",
    "plt.plot(x_len, y_vloss, marker='.', c='red', label=\"Validation-set Loss\")\n",
    "plt.plot(x_len, y_loss, marker='.', c='blue', label=\"Train-set Loss\")\n",
    "plt.legend(loc='upper right')\n",
    "plt.grid()\n",
    "plt.ylim(0,1)\n",
    "plt.title('Loss graph without batch normalization') \n",
    "plt.xlabel('epoch')\n",
    "plt.ylabel('loss')\n",
    "plt.show()"
   ]
  },
  {
   "cell_type": "code",
   "execution_count": 43,
   "id": "closing-creativity",
   "metadata": {},
   "outputs": [
    {
     "data": {
      "image/png": "[encoded data removed]",
      "text/plain": [
       "<Figure size 432x288 with 1 Axes>"
      ]
     },
     "metadata": {
      "needs_background": "light"
     },
     "output_type": "display_data"
    }
   ],
   "source": [
    "# accuracy 값을 plot 해보겠습니다. \n",
    "y_vacc = history.history['val_accuracy']\n",
    "y_acc = history.history['accuracy']\n",
    "x_len = np.arange(len(y_acc))\n",
    "\n",
    "plt.plot(x_len, y_vacc, marker='.', c='red', label=\"Validation-set accuracy\")\n",
    "plt.plot(x_len, y_acc, marker='.', c='blue', label=\"Train-set accuracy\")\n",
    "plt.legend(loc='lower right')\n",
    "plt.grid()\n",
    "plt.ylim(0.5,1)\n",
    "plt.title('Accuracy graph without batch normalization') \n",
    "plt.xlabel('epoch')\n",
    "plt.ylabel('accuracy')\n",
    "plt.show()"
   ]
  },
  {
   "cell_type": "code",
   "execution_count": 44,
   "id": "passing-sharing",
   "metadata": {},
   "outputs": [
    {
     "name": "stdout",
     "output_type": "stream",
     "text": [
      "Epoch 1/20\n",
      "21/21 [==============================] - 1s 33ms/step - loss: 1.3051 - accuracy: 0.5452 - val_loss: 1.0367 - val_accuracy: 0.6674\n",
      "Epoch 2/20\n",
      "21/21 [==============================] - 0s 16ms/step - loss: 0.5358 - accuracy: 0.8157 - val_loss: 0.8307 - val_accuracy: 0.7554\n",
      "Epoch 3/20\n",
      "21/21 [==============================] - 0s 15ms/step - loss: 0.4550 - accuracy: 0.8442 - val_loss: 0.7427 - val_accuracy: 0.7779\n",
      "Epoch 4/20\n",
      "21/21 [==============================] - 0s 15ms/step - loss: 0.4229 - accuracy: 0.8549 - val_loss: 0.6467 - val_accuracy: 0.8252\n",
      "Epoch 5/20\n",
      "21/21 [==============================] - 0s 14ms/step - loss: 0.3858 - accuracy: 0.8683 - val_loss: 0.6028 - val_accuracy: 0.8341\n",
      "Epoch 6/20\n",
      "21/21 [==============================] - 0s 15ms/step - loss: 0.3639 - accuracy: 0.8742 - val_loss: 0.5745 - val_accuracy: 0.8393\n",
      "Epoch 7/20\n",
      "21/21 [==============================] - 0s 18ms/step - loss: 0.3486 - accuracy: 0.8791 - val_loss: 0.5329 - val_accuracy: 0.8505\n",
      "Epoch 8/20\n",
      "21/21 [==============================] - 0s 16ms/step - loss: 0.3308 - accuracy: 0.8853 - val_loss: 0.5050 - val_accuracy: 0.8601\n",
      "Epoch 9/20\n",
      "21/21 [==============================] - 0s 18ms/step - loss: 0.3209 - accuracy: 0.8875 - val_loss: 0.4951 - val_accuracy: 0.8409\n",
      "Epoch 10/20\n",
      "21/21 [==============================] - 0s 16ms/step - loss: 0.3178 - accuracy: 0.8896 - val_loss: 0.4575 - val_accuracy: 0.8642\n",
      "Epoch 11/20\n",
      "21/21 [==============================] - 0s 13ms/step - loss: 0.2935 - accuracy: 0.8955 - val_loss: 0.4463 - val_accuracy: 0.8585\n",
      "Epoch 12/20\n",
      "21/21 [==============================] - 0s 15ms/step - loss: 0.2919 - accuracy: 0.8966 - val_loss: 0.4208 - val_accuracy: 0.8632\n",
      "Epoch 13/20\n",
      "21/21 [==============================] - 0s 15ms/step - loss: 0.2709 - accuracy: 0.9043 - val_loss: 0.4114 - val_accuracy: 0.8644\n",
      "Epoch 14/20\n",
      "21/21 [==============================] - 0s 16ms/step - loss: 0.2658 - accuracy: 0.9070 - val_loss: 0.3870 - val_accuracy: 0.8744\n",
      "Epoch 15/20\n",
      "21/21 [==============================] - 0s 16ms/step - loss: 0.2557 - accuracy: 0.9112 - val_loss: 0.3759 - val_accuracy: 0.8739\n",
      "Epoch 16/20\n",
      "21/21 [==============================] - 0s 16ms/step - loss: 0.2544 - accuracy: 0.9103 - val_loss: 0.3750 - val_accuracy: 0.8717\n",
      "Epoch 17/20\n",
      "21/21 [==============================] - 0s 17ms/step - loss: 0.2478 - accuracy: 0.9139 - val_loss: 0.3646 - val_accuracy: 0.8753\n",
      "Epoch 18/20\n",
      "21/21 [==============================] - 0s 11ms/step - loss: 0.2308 - accuracy: 0.9181 - val_loss: 0.3534 - val_accuracy: 0.8757\n",
      "Epoch 19/20\n",
      "21/21 [==============================] - 0s 9ms/step - loss: 0.2242 - accuracy: 0.9222 - val_loss: 0.3480 - val_accuracy: 0.8781\n",
      "Epoch 20/20\n",
      "21/21 [==============================] - 0s 9ms/step - loss: 0.2220 - accuracy: 0.9217 - val_loss: 0.3443 - val_accuracy: 0.8772\n"
     ]
    }
   ],
   "source": [
    "model = keras.Sequential([\n",
    "    keras.layers.Flatten(input_shape=(28, 28)),\n",
    "    keras.layers.Dense(128, activation='relu'),\n",
    "    #여기에 batchnormalization layer를 추가해보았습니다. 나머지 layer는 위의 실습과 같습니다.\n",
    "    keras.layers.BatchNormalization(),\n",
    "    keras.layers.Dense(10, activation='softmax')\n",
    "])\n",
    "\n",
    "model.compile(optimizer='adam',loss='sparse_categorical_crossentropy',\n",
    "              metrics=['accuracy'])\n",
    "\n",
    "history= model.fit(X_train, y_train, epochs=20, batch_size=2048, validation_data=(X_valid, y_valid))"
   ]
  },
  {
   "cell_type": "code",
   "execution_count": 45,
   "id": "olympic-witch",
   "metadata": {},
   "outputs": [
    {
     "data": {
      "image/png": "[encoded data removed]",
      "text/plain": [
       "<Figure size 432x288 with 1 Axes>"
      ]
     },
     "metadata": {
      "needs_background": "light"
     },
     "output_type": "display_data"
    }
   ],
   "source": [
    "# loss 값을 plot 해보겠습니다. \n",
    "y_vloss = history.history['val_loss']\n",
    "y_loss = history.history['loss']\n",
    "x_len = np.arange(len(y_loss))\n",
    "\n",
    "plt.plot(x_len, y_vloss, marker='.', c='red', label=\"Validation-set Loss\")\n",
    "plt.plot(x_len, y_loss, marker='.', c='blue', label=\"Train-set Loss\")\n",
    "plt.legend(loc='upper right')\n",
    "plt.grid()\n",
    "plt.ylim(0,1)\n",
    "plt.title('Loss graph with batch normalization') \n",
    "plt.xlabel('epoch')\n",
    "plt.ylabel('loss')\n",
    "plt.show()"
   ]
  },
  {
   "cell_type": "code",
   "execution_count": 46,
   "id": "secondary-construction",
   "metadata": {},
   "outputs": [
    {
     "data": {
      "image/png": "[encoded data removed]",
      "text/plain": [
       "<Figure size 432x288 with 1 Axes>"
      ]
     },
     "metadata": {
      "needs_background": "light"
     },
     "output_type": "display_data"
    }
   ],
   "source": [
    "# accuracy 값을 plot 해보겠습니다. \n",
    "y_vacc = history.history['val_accuracy']\n",
    "y_acc = history.history['accuracy']\n",
    "x_len = np.arange(len(y_acc))\n",
    "\n",
    "plt.plot(x_len, y_vacc, marker='.', c='red', label=\"Validation-set accuracy\")\n",
    "plt.plot(x_len, y_acc, marker='.', c='blue', label=\"Train-set accuracy\")\n",
    "plt.legend(loc='lower right')\n",
    "plt.grid()\n",
    "plt.ylim(0.5,1) \n",
    "plt.title('Accurcy graph with batch normalization') \n",
    "plt.xlabel('epoch')\n",
    "plt.ylabel('accuracy')\n",
    "plt.show()"
   ]
  },
  {
   "cell_type": "markdown",
   "id": "personal-alert",
   "metadata": {},
   "source": [
    "기존의 fully connected layer도 낮지 않은 결과를 가져오지만, Batch Normalization을 추가하니 좀 더 빠르게 정확도 상승이 있음을 확인할 수 있습니다. 또한 loss 함수의 감소도 더 빨라짐을 확인할 수 있었습니다. 즉 Batch Normalization으로 인해 이미지가 정규화되면서 좀 더 고른 분포를 가지기도 하며, 앞서 설명해 드린 \\epsilonϵ 부분으로 인해 안정적인 학습이 가능해집니다."
   ]
  },
  {
   "cell_type": "code",
   "execution_count": null,
   "id": "variable-detection",
   "metadata": {},
   "outputs": [],
   "source": []
  }
 ],
 "metadata": {
  "kernelspec": {
   "display_name": "Python 3",
   "language": "python",
   "name": "python3"
  },
  "language_info": {
   "codemirror_mode": {
    "name": "ipython",
    "version": 3
   },
   "file_extension": ".py",
   "mimetype": "text/x-python",
   "name": "python",
   "nbconvert_exporter": "python",
   "pygments_lexer": "ipython3",
   "version": "3.7.9"
  }
 },
 "nbformat": 4,
 "nbformat_minor": 5
}
