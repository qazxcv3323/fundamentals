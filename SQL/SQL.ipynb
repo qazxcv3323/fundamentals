{
 "cells": [
  {
   "cell_type": "code",
   "execution_count": 1,
   "id": "rocky-carry",
   "metadata": {},
   "outputs": [],
   "source": [
    "from IPython.display import Image"
   ]
  },
  {
   "cell_type": "markdown",
   "id": "agreed-ticket",
   "metadata": {},
   "source": [
    "# SQLite\n",
    "\n",
    "SQLite는 서버의 필요 없이 DB의 파일에 기초하여 DB 처리를 구현한 임베디드 SQL DB 엔진입니다. \n",
    "\n",
    "SQLite는 별도의 설치 없이, 쉽고 편리하게 사용할 수 있다는 점에서 많이 사용되고 있습니다.\n",
    "\n",
    "Mac OS X나 Linux에는 SQLite가 기본적으로 설치되어 있습니다. 파이썬은 버전 2.5 이상일 경우 SQLite 사용을 위한 모듈이 기본 내장되어 있습니다.\n",
    "\n",
    "\n",
    "\n",
    "#### 파이썬과 DB\n",
    "\n",
    "이썬과 DB를 서로 다른 대륙에 살고 있는 사람이라고 생각해 보겠습니다. 파이썬 대륙과 DB 대륙에 있는 사람이 함께 이야기를 하려면 어떻게 해야 할까요? \n",
    "\n",
    "전화, 이메일과 같은 방법들을 이용해 시도해볼 수 있겠죠. 이처럼 파이썬과 DB는 sqlite3라는 전화 중계기를 이용해 대화를 한답니다.\n",
    "\n",
    "![](https://d3s0tskafalll9.cloudfront.net/media/images/Untitled_ATL5wsL.max-800x600.png)\n",
    "\n"
   ]
  },
  {
   "cell_type": "markdown",
   "id": "successful-throat",
   "metadata": {},
   "source": [
    "#### Python DB API\n",
    "\n",
    "\n",
    "자, 그럼 파이썬과 DB가 서로 대화할 수 있도록 준비해 볼까요?\n",
    "\n",
    "일단 파이썬에서 DB 연결을 위한 전화선인 sqlite3 모듈을 import해 보겠습니다."
   ]
  },
  {
   "cell_type": "code",
   "execution_count": 2,
   "id": "hidden-turner",
   "metadata": {},
   "outputs": [
    {
     "name": "stdout",
     "output_type": "stream",
     "text": [
      "뿅💛\n"
     ]
    }
   ],
   "source": [
    "import sqlite3\n",
    "print(\"뿅💛\")"
   ]
  },
  {
   "cell_type": "markdown",
   "id": "complicated-company",
   "metadata": {},
   "source": [
    "sqlite3 모듈은 파이썬 표준 라이브러리로 SQLite에 대한 인터페이스를 기본적으로 제공합니다.\n",
    "\n",
    "잠깐, 표준 라이브러리가 뭐냐구요? \n",
    "\n",
    "우리가 파이썬을 처음 설치할 때 기본적으로 설치되는 모듈이라고 이해하면 됩니다. 정리하면, 표준 라이브러리인 sqlite3로 DB를 쉽게 이용할 수 있습니다.\n",
    "\n",
    "이제 파이썬과 DB를 연결해 보겠습니다. conn에 DB 이름을 정하여 입력합니다.\n",
    "\n",
    "저는 mydb로 지었는데요. [이름].[확장자명]의 형태로 저장하면 됩니다."
   ]
  },
  {
   "cell_type": "code",
   "execution_count": 3,
   "id": "interracial-preview",
   "metadata": {},
   "outputs": [
    {
     "name": "stdout",
     "output_type": "stream",
     "text": [
      "<sqlite3.Connection object at 0x7faae72ace30>\n"
     ]
    }
   ],
   "source": [
    "import os\n",
    "db_path = os.getenv('HOME')+'/mydb.db'\n",
    "conn = sqlite3.connect(db_path)  # mydb.db에 연결합니다.\n",
    "print(conn)"
   ]
  },
  {
   "cell_type": "markdown",
   "id": "animal-pontiac",
   "metadata": {},
   "source": [
    "conn 객체에는 SQL 연결과 관련된 셋팅이 포함되어 있습니다. \n",
    "\n",
    "- 이번에는 Connect() 함수의 연결을 사용하는 새로운 Cursor 객체를 만듭니다."
   ]
  },
  {
   "cell_type": "code",
   "execution_count": 4,
   "id": "healthy-visibility",
   "metadata": {},
   "outputs": [
    {
     "name": "stdout",
     "output_type": "stream",
     "text": [
      "<sqlite3.Cursor object at 0x7faae7231c70>\n"
     ]
    }
   ],
   "source": [
    "c = conn.cursor()\n",
    "print(c)"
   ]
  },
  {
   "cell_type": "markdown",
   "id": "weekly-payment",
   "metadata": {},
   "source": [
    "Cursor는 SQL 질의(Query)를 수행하고 결과를 얻는데 사용하는 객체입니다. \n",
    "\n",
    "INSERT처럼 DB에만 적용되는 명령어를 사용한다면 Cursor를 안 사용할 수 있지만 SELECT와 같이 데이터를 불러올 때는 SQL 질의 수행 결과에 접근하기 위한 Cursor가 반드시 필요합니다. \n",
    "\n",
    "이러한 이유로 습관적으로 conn.cursor()를 사용하는 것을 권해 드립니다.\n",
    "\n",
    "참고로, 파이썬 공식 개발 가이드에서도 Cursor를 사용하는 것을 표준으로 안내하고 있습니다.\n",
    "\n",
    "    - SQL INSERT문 : 테이블에 데이터를 삽입(추가)하는 질의입니다.\n",
    "    \n",
    "    - SQL SELECT문 : 테이블에 데이터를 조건에 따라 조회하는 질의입니다."
   ]
  },
  {
   "cell_type": "code",
   "execution_count": 5,
   "id": "occupational-journalism",
   "metadata": {},
   "outputs": [
    {
     "name": "stdout",
     "output_type": "stream",
     "text": [
      "('20200701', 'TEST', 'AIFFEL', 1.0, 10000.0)\n"
     ]
    }
   ],
   "source": [
    "# stocks이라는 이름의 테이블을 하나 생성합니다. 혹시 이미 생성되었다면 생략합니다. \n",
    "c.execute(\"CREATE TABLE  IF NOT EXISTS  stocks (date text, trans text, symbol text, qty real, price real)\")\n",
    "\n",
    "# stocks 테이블에 데이터를 하나 인서트합니다. \n",
    "c.execute(\"INSERT INTO stocks VALUES ('20200701', 'TEST', 'AIFFEL', 1, 10000)\")\n",
    "\n",
    "# 방금 인서트한 데이터를 조회해 봅니다.\n",
    "c.execute(\"SELECT * FROM stocks\")\n",
    "\n",
    "# 조회된 내역을 커서를 통해 가져와 출력해 봅니다.\n",
    "print(c.fetchone())"
   ]
  },
  {
   "cell_type": "markdown",
   "id": "northern-death",
   "metadata": {},
   "source": [
    "방금 우리는 sqlite3 모듈을 이용해 데이터베이스에 테이블을 하나 만들고 데이터를 인서트 한 후, 그 데이터를 조회해 보는 아주 기본적인 DB 핸들링 시나리오를 수행해 보았습니다."
   ]
  },
  {
   "cell_type": "markdown",
   "id": "embedded-affiliation",
   "metadata": {},
   "source": [
    "## commit\n",
    "\n",
    "삽입, 갱신, 삭제 등의 SQL 질의가 끝났다면 conn.commit()를 호출해야 DB가 실제로 업데이트 됩니다 . \n",
    "\n",
    "commit()을 하기 전에는 DB에 데이터가 업데이트된 것 같아 보여도 임시로만 바뀐 것이니 주의해야 합니다. \n",
    "\n",
    "하지만 우리는 sqlite3를 이용해 데이터가 잘 인서트 되었음을 SELECT문의 결과를 통해서 이미 확인했습니다.\n",
    "\n",
    "이것이 데이터베이스를 사용할 때의 주의사항입니다.\n",
    "\n",
    "우리는 sqlite3를 이용해 데이터베이스에 connection을 하나 맺었습니다.\n",
    "\n",
    "이후 해당 connection을 통해 인서트 된 데이터는 conn.commit()를 호출하기 전까지는 그 connection 안에서만 유효합니다.\n",
    "\n",
    "그럼 원본 데이터에 실제로 적용하려면 어떻게 해야 할까요? \n",
    "\n",
    "이미 살짝 예상하셨을 것 같은데요. 아래와 같이 commit() 명령어를 이용하시면 된답니다. \n",
    "\n",
    "참고로 select처럼 데이터를 가져오기만 하는 질의문의 경우에는 commit()가 필요 없습니다. 데이터에 아무런 변경사항이 없었으니까요."
   ]
  },
  {
   "cell_type": "code",
   "execution_count": 6,
   "id": "light-kruger",
   "metadata": {},
   "outputs": [
    {
     "name": "stdout",
     "output_type": "stream",
     "text": [
      "뿅💛\n"
     ]
    }
   ],
   "source": [
    "conn.commit()   # commit()은 cursor의 메소드가 아니라 connection의 메소드입니다. \n",
    "print(\"뿅💛\")"
   ]
  },
  {
   "cell_type": "markdown",
   "id": "boxed-compromise",
   "metadata": {},
   "source": [
    "commit()을 통해 데이터베이스에 데이터 변경이 실제적으로 반영되었습니다.\n",
    "\n",
    "이런 것을 데이터베이스에서는 트랜잭션(transaction) 관리라고 합니다.\n",
    "\n",
    "트랜잭션의 개념에 대해 아래 글을 읽고 간단히 정리해 봅시다.\n",
    "\n",
    "   [트렌잭션이란](https://sjh836.tistory.com/11)\n",
    "   \n",
    "commit()을 완료했다면 DB와 대화하는 것을 마무리 지어야 합니다. \n",
    "\n",
    "대화의 마무리는 DB와의 연결을 끊는 것으로 이루어집니다. 바로 close()를 이용하면 되는데요. 한번 실행해 봅시다."
   ]
  },
  {
   "cell_type": "code",
   "execution_count": 7,
   "id": "remarkable-partnership",
   "metadata": {},
   "outputs": [
    {
     "name": "stdout",
     "output_type": "stream",
     "text": [
      "뿅💛\n"
     ]
    }
   ],
   "source": [
    "c.close()      # 먼저 커서를 닫은 후\n",
    "conn.close()    # DB 연결을 닫아 줍니다.\n",
    "print(\"뿅💛\")"
   ]
  },
  {
   "cell_type": "markdown",
   "id": "beginning-heather",
   "metadata": {},
   "source": [
    "## DDL문으로 테이블 생성하기\n",
    "\n",
    "- 다양한 테이블을 조회해 보기 앞서, 실제 예제 테이블들을 한번 생성해 보도록 하겠습니다. 테이블명과 컬럼명을 한글로도 지정할 수 있습니다."
   ]
  },
  {
   "cell_type": "code",
   "execution_count": 8,
   "id": "saving-compact",
   "metadata": {},
   "outputs": [
    {
     "name": "stdout",
     "output_type": "stream",
     "text": [
      "뿅💛\n"
     ]
    }
   ],
   "source": [
    "import sqlite3\n",
    "import os\n",
    "db_path = os.getenv('HOME')+'/mydb.db'\n",
    "\n",
    "conn = sqlite3.connect(db_path)\n",
    "c = conn.cursor()\n",
    "\n",
    "#- ! 재실행 시 테이블이 존재할 수 있으므로 아래처럼 해당 테이블들을 모두 지워줍니다.\n",
    "c.execute(\"DROP TABLE IF EXISTS 도서대출내역\")\n",
    "c.execute(\"DROP TABLE IF EXISTS 도서대출내역2\")\n",
    "c.execute(\"DROP TABLE IF EXISTS 대출내역\")\n",
    "c.execute(\"DROP TABLE IF EXISTS 도서명\")\n",
    "\n",
    "\n",
    "#----- 1st table : 도서대출내역 -----#\n",
    "c.execute(\"CREATE TABLE IF NOT EXISTS 도서대출내역 (ID varchar, 이름 varchar, 도서ID varchar, 대출일 varchar, 반납일 varchar)\")\n",
    "#- 생성(create)문 : 테이블명, 변수명, 변수타입을 지정\n",
    "\n",
    "data = [('101','문강태','aaa','2020-06-01','2020-06-05'),\n",
    "             ('101','문강태','ccc','2020-06-20','2020-06-25'),\n",
    "             ('102','고문영','bbb','2020-06-01',None),\n",
    "             ('102','고문영','ddd','2020-06-08',None),\n",
    "             ('103','문상태','ccc','2020-06-01','2020-06-05'),\n",
    "             ('104','강기둥',None,None,None)]\n",
    "#- 입력할 데이터를 그대로 입력 (변수명 순서 기준대로)\n",
    "\n",
    "c.executemany('INSERT INTO 도서대출내역 VALUES (?,?,?,?,?)', data)\n",
    "#- 입력할 데이터를 실제 테이블에 insert하기\n",
    "#-----------------------------------------------#\n",
    "\n",
    "\n",
    "#----- 2nd table : 도서대출내역2 -----#\n",
    "c.execute(\"CREATE TABLE IF NOT EXISTS 도서대출내역2 (ID varchar, 이름 varchar, 대출년월 varchar, 대출일수 varchar)\")\n",
    "\n",
    "data = [('101','문강태','2020-06','20일'),\n",
    "             ('102','고문영','2020-06','10일'),\n",
    "             ('103','문상태','2020-06','8일'),\n",
    "             ('104','강기둥','2020-06','3일')]\n",
    "c.executemany('INSERT INTO 도서대출내역2 VALUES (?,?,?,?)', data)\n",
    "#--------------------------------------------------#\n",
    "\n",
    "\n",
    "#----- 3rd table : 대출내역 -----#\n",
    "c.execute(\"CREATE TABLE IF NOT EXISTS 대출내역 (ID varchar, 이름 varchar, 도서ID varchar)\")\n",
    "\n",
    "data = [('101','문강태','aaa'),\n",
    "             ('102','고문영','bbb'),\n",
    "             ('102','고문영','fff'),\n",
    "             ('103','문상태','ccc'),\n",
    "             ('104','강기둥',None)]\n",
    "c.executemany('INSERT INTO 대출내역 VALUES (?,?,?)', data)\n",
    "#-----------------------------------------#\n",
    "\n",
    "\n",
    "#----- 4th table : 도서명 -----#\n",
    "c.execute(\"CREATE TABLE IF NOT EXISTS 도서명 (도서ID varchar, 도서명 varchar)\")\n",
    "\n",
    "data = [('aaa','악몽을 먹고 자란 소년'),\n",
    "             ('bbb','좀비아이'),\n",
    "             ('ccc','공룡백과사전'),\n",
    "             ('ddd','빨간구두'),\n",
    "             ('eee','잠자는 숲속의 미녀')]\n",
    "\n",
    "c.executemany('INSERT INTO 도서명 VALUES (?,?)', data)\n",
    "#--------------------------------------#\n",
    "\n",
    "conn.commit()\n",
    "conn.close()\n",
    "print(\"뿅💛\")"
   ]
  },
  {
   "cell_type": "markdown",
   "id": "reflected-wholesale",
   "metadata": {},
   "source": [
    "    # ----- 4th table : 도서명 -----#\n",
    "\n",
    "    # [1]\n",
    "    c.execute(\"CREATE TABLE IF NOT EXISTS 도서명 (도서ID varchar, 도서명 varchar)\")\n",
    "\n",
    "    # [2]\n",
    "    data = [('aaa','악몽을 먹고 자란 소년'),\n",
    "                 ('bbb','좀비아이'),\n",
    "                 ('ccc','공룡백과사전'),\n",
    "                 ('ddd','빨간구두'),\n",
    "                 ('eee','잠자는 숲속의 미녀')]\n",
    "\n",
    "    # [3]\n",
    "    c.executemany('INSERT INTO 도서명 VALUES (?,?)', data)\n",
    "\n",
    "    # --------------------------------------#\n",
    "\n",
    "\n",
    "\n",
    "1번의 CREATE TABLE IF NOT EXISTS 도서명 (도서ID varchar, 도서명 varchar) 코드를 주목해 봅시다. \n",
    "\n",
    "이 부분은 \"만약 테이블이 존재하지 않으면 테이블을 생성해 주세요. \n",
    "\n",
    "그리고 변수명과 각 변수의 타입은 다음과 같이 설정해 주세요!\"라는 의미입니다. \n",
    "\n",
    "예제에서 테이블은 도서명 테이블이겠죠?\n",
    "\n",
    "2번의 코드는 각 변수명에 맞게 데이터를 실제로 생성하는 것이구요.\n",
    "\n",
    "마지막 3번에서 INSERT INTO 도서명 VALES (?, ?) 부분은 각 테이블의 변수(도서ID, 도서명)에 2번에서 입력한 데이터(data)를 넣겠다는 뜻입니다.\n",
    "\n",
    "이렇게 ?를 사용해서 데이터를 쿼리에 바인딩하는 기법을 매우 흔히 사용하니 잘 알아둡시다.\n",
    "\n",
    "또 하나 눈에 띄는 부분은, c.executemany() 메소드입니다. \n",
    "\n",
    "이것은 한꺼번에 여러 개의 데이터 처리를 가능하게 해 줍니다. \n",
    "\n",
    "입력해야 할 데이터를 위와 같이 list로 관리하고 있는 경우 매우 유용합니다.\n",
    "\n"
   ]
  },
  {
   "cell_type": "code",
   "execution_count": 9,
   "id": "central-violin",
   "metadata": {},
   "outputs": [
    {
     "name": "stdout",
     "output_type": "stream",
     "text": [
      "('aaa', '악몽을 먹고 자란 소년')\n",
      "('bbb', '좀비아이')\n",
      "('ccc', '공룡백과사전')\n",
      "('ddd', '빨간구두')\n",
      "('eee', '잠자는 숲속의 미녀')\n"
     ]
    }
   ],
   "source": [
    "conn = sqlite3.connect(db_path)\n",
    "c = conn.cursor()\n",
    "\n",
    "for row in c.execute('SELECT * FROM 도서명'):\n",
    "  print(row)"
   ]
  },
  {
   "cell_type": "markdown",
   "id": "thick-express",
   "metadata": {},
   "source": [
    "## SQL의 기본\n",
    "\n",
    "SQL이란 무엇을 의미하는 것일까요?\n",
    "\n",
    "SQL의 약자는 Structured Query Language입니다. 구조화된... 쿼리... 언어?\n",
    "\n",
    "조금 더 풀어서 써보자면 데이터베이스(DB)에서 데이터를 조회하고자 할 때 필요한 컴퓨터 언어라고 할 수 있겠네요.\n",
    "\n",
    "DB라는 공간에 ‘정형화된’(일정한 형식으로 수집되는) 데이터가 차곡차곡 저장되어 있습니다. 이러한 DB를 특정 언어로 조회해서 가져오는데, 그때 사용하는 언어가 바로 SQL입니다.\n",
    "\n",
    "테이블을 삽입하거나 삭제, 갱신, 조회하는 등 본인이 원하는 형태로 데이터를 만들어 가져올 수 있습니다. \n",
    "\n",
    "이번에는 주로 데이터를 조회하고 조작하는 부분에 대해 다뤄보도록 하겠습니다.\n",
    "\n",
    "![](https://d3s0tskafalll9.cloudfront.net/media/original_images/Untitled_1_h3s3VGU.png)\n",
    "\n",
    "위와 같이 DB에서 특정 테이블(도서대출내역)을 조회하고 그것을 가지고 올 때 사용한 SELECT * FROM 도서대출내역 이 바로 SQL입니다.\n",
    "\n",
    "#### 쿼리의 기본 구조\n",
    "\n",
    "- SELECT ~ : 조회할 컬럼명을 선택\n",
    "\n",
    "\n",
    "- FROM ~ : 조회할 테이블명을 지정 (위치와 테이블명을 입력)\n",
    "\n",
    "\n",
    "- WHERE ~ : 질의할 때 필요한 조건을 설정\n",
    "\n",
    "\n",
    "- GROUP BY ~ : 특정 컬럼을 기준으로 그룹을 지어 출력\n",
    "\n",
    "\n",
    "- ORDER BY ~ : SELECT 다음에 오는 컬럼 중 정렬이 필요한 부분을 정렬 (기본 설정 : 오름차순)\n",
    "\n",
    "\n",
    "- LIMIT 숫자 : Display하고자 하는 행의 수를 설정\n",
    "\n",
    "![title](https://d3s0tskafalll9.cloudfront.net/media/images/F-29-3A.max-800x600.png)\n",
    "![title](https://d3s0tskafalll9.cloudfront.net/media/images/Untitled_3_esNgMRX.max-800x600.png)\n",
    "\n",
    "### < 테이블 명 : 도서대출내역 >\n",
    "![title](https://d3s0tskafalll9.cloudfront.net/media/original_images/Untitled_4_zyTZEE7.png)\n",
    "\n",
    "'싸이코지만 괜찮아' 이 드라마의 등장인물을 담은 테이블을 만들어 보았습니다.\n",
    "\n",
    "테이블을 보시면 도서관에서 관리하고 있는 DB라는 점을 알 수 있죠. 그리고 사람들이 각자 어떤 도서를 대출했는지, 언제 대출/반납했는지를 파악할 수가 있네요.\n",
    "\n",
    "- ID : 대출을 한 사람의 ID\n",
    "\n",
    "\n",
    "- 이름 : 대출자의 이름\n",
    "\n",
    "\n",
    "- 도서ID : 대출한 도서의 ID\n",
    "\n",
    "\n",
    "- 대출일 : 도서를 대출한 날짜\n",
    "\n",
    "\n",
    "- 반납일 : 도서를 반납한 날짜\n",
    "\n",
    "자세히 보시면, 이렇게 5개의 열:컬럼(column)이 있습니다. 반대로 가로 줄은 행:로우(row)라고 부르죠.\n",
    "\n",
    "![title](https://d3s0tskafalll9.cloudfront.net/media/original_images/Untitled_5_XoeqyR5.png)\n",
    "\n",
    "지금까지 설명한 기본 구조를 위의 테이블을 활용해 검증해 봅시다.\n",
    "\n"
   ]
  },
  {
   "cell_type": "code",
   "execution_count": 10,
   "id": "amazing-passing",
   "metadata": {},
   "outputs": [
    {
     "name": "stdout",
     "output_type": "stream",
     "text": [
      "('101', '문강태', 'aaa', '2020-06-01', '2020-06-05')\n",
      "('101', '문강태', 'ccc', '2020-06-20', '2020-06-25')\n",
      "('102', '고문영', 'bbb', '2020-06-01', None)\n",
      "('102', '고문영', 'ddd', '2020-06-08', None)\n",
      "('103', '문상태', 'ccc', '2020-06-01', '2020-06-05')\n",
      "('104', '강기둥', None, None, None)\n"
     ]
    }
   ],
   "source": [
    "#- 참고 : 실제 조회를 해보시려면 아래처럼 쓰시면 됩니다.\n",
    "#- c.execute() 괄호 안에 SQL문을 넣으시면 됩니다.\n",
    "\n",
    "import os\n",
    "db_path = os.getenv('HOME')+'/mydb.db'\n",
    "conn = sqlite3.connect(db_path)  # mydb.db에 연결합니다.\n",
    "c = conn.cursor()\n",
    "\n",
    "for row in c.execute('SELECT * FROM 도서대출내역'):\n",
    "  print(row)\n",
    "\n",
    "#- ! 출력 시 'NULL' 대신 'None'으로 출력될 수 있으나 동일하게 이해하시면 됩니다."
   ]
  },
  {
   "cell_type": "code",
   "execution_count": 11,
   "id": "amazing-lawyer",
   "metadata": {},
   "outputs": [
    {
     "name": "stdout",
     "output_type": "stream",
     "text": [
      "('101', '문강태', 'aaa', '2020-06-01', '2020-06-05')\n",
      "('101', '문강태', 'ccc', '2020-06-20', '2020-06-25')\n",
      "('102', '고문영', 'bbb', '2020-06-01', None)\n",
      "('102', '고문영', 'ddd', '2020-06-08', None)\n",
      "('103', '문상태', 'ccc', '2020-06-01', '2020-06-05')\n",
      "('104', '강기둥', None, None, None)\n"
     ]
    }
   ],
   "source": [
    "# 전체조회\n",
    "\n",
    "for row in c.execute('SELECT * FROM 도서대출내역'):\n",
    "  print(row)"
   ]
  },
  {
   "cell_type": "markdown",
   "id": "parental-sister",
   "metadata": {},
   "source": [
    "![](https://d3s0tskafalll9.cloudfront.net/media/original_images/Untitled_7_FKSgb5e.png)\n",
    "\n",
    "SELECT와 FROM 사이에는 특정 컬럼을 넣어 출력하곤 하는데요. \n",
    "\n",
    "위의 쿼리처럼 별(*)을 입력하게 되면 '테이블 전체를 다 가져와라'라는 명령어가 됩니다.\n",
    "\n",
    "그럼 특정 컬럼을 지정해 볼까요?\n",
    "\n"
   ]
  },
  {
   "cell_type": "code",
   "execution_count": 12,
   "id": "dirty-referral",
   "metadata": {},
   "outputs": [
    {
     "name": "stdout",
     "output_type": "stream",
     "text": [
      "('101',)\n",
      "('101',)\n",
      "('102',)\n",
      "('102',)\n",
      "('103',)\n",
      "('104',)\n"
     ]
    }
   ],
   "source": [
    "for row in c.execute('SELECT ID FROM 도서대출내역'):\n",
    "  print(row)"
   ]
  },
  {
   "cell_type": "markdown",
   "id": "assured-aruba",
   "metadata": {},
   "source": [
    "### |특정컬럼을 지정|\n",
    "![](https://d3s0tskafalll9.cloudfront.net/media/original_images/Untitled_8_U5zAppm.png)\n",
    "\n",
    "SELECT와 FROM 사이에 ‘ID’를 넣으면 '전체 테이블 중에 ID 컬럼만 가져와라'라는 명령어가 됩니다."
   ]
  },
  {
   "cell_type": "markdown",
   "id": "treated-approach",
   "metadata": {},
   "source": [
    "### | 조건을 입력하기 |"
   ]
  },
  {
   "cell_type": "code",
   "execution_count": 13,
   "id": "median-failure",
   "metadata": {},
   "outputs": [
    {
     "name": "stdout",
     "output_type": "stream",
     "text": [
      "('101', '문강태', 'aaa', '2020-06-01', '2020-06-05')\n",
      "('101', '문강태', 'ccc', '2020-06-20', '2020-06-25')\n"
     ]
    }
   ],
   "source": [
    "for row in c.execute('SELECT * FROM 도서대출내역 WHERE 이름 = \"문강태\";'):\n",
    "  print(row)"
   ]
  },
  {
   "cell_type": "markdown",
   "id": "meaningful-income",
   "metadata": {},
   "source": [
    "![title](https://d3s0tskafalll9.cloudfront.net/media/original_images/Untitled_9_YQ4562W.png)\n",
    "\n",
    "일단 SELECT와 FROM 사이에 별(*)이 있으니 전체 컬럼을 모두 가져온다는 것이겠죠?\n",
    "\n",
    "근데 위와 달라진 점이 바로 WHERE절이 추가되었다는 점입니다. \n",
    "\n",
    "WHERE절 이후에는 특정 조건을 입력할 수 있습니다. \n",
    "\n",
    "위에서는 이름 = \"문강태\"라고 적어 놓았는데요. ‘이름이 문강태인 행(row)만 가져와라’라는 의미입니다. \n",
    "\n",
    "그래서 위처럼 5개 컬럼(column) * 2개의 로우(row)가 출력되는 것이랍니다."
   ]
  },
  {
   "cell_type": "markdown",
   "id": "roman-diary",
   "metadata": {},
   "source": [
    "### | GROUP BY로 중복을 제거해 보기 |\n",
    "\n",
    "SELECT 이름 FROM 도서대출내역\n",
    "\n",
    "GROUP BY 이름;"
   ]
  },
  {
   "cell_type": "code",
   "execution_count": 14,
   "id": "accessible-association",
   "metadata": {},
   "outputs": [
    {
     "name": "stdout",
     "output_type": "stream",
     "text": [
      "('강기둥',)\n",
      "('고문영',)\n",
      "('문강태',)\n",
      "('문상태',)\n"
     ]
    }
   ],
   "source": [
    "for row in c.execute('SELECT 이름 FROM 도서대출내역 GROUP BY 이름;'):\n",
    "  print(row)"
   ]
  },
  {
   "cell_type": "markdown",
   "id": "relevant-vector",
   "metadata": {},
   "source": [
    "![](https://d3s0tskafalll9.cloudfront.net/media/original_images/Untitled_10_YLwMSrF.png)\n",
    "\n",
    "GROUP BY는 이름 그대로 데이터를 그룹화시키는 역할을 합니다. \n",
    "\n",
    "'가나다라' 순으로 재정렬해서 뱉어주는 것도 확인할 수 있네요.\n",
    "\n",
    "GROUP BY는 보통 집계성 함수와 함께 사용되는데요. 이는 뒤에서 집계성 함수에 대해 다룰 때 좀 더 자세히 살펴보도록 하고 넘어가겠습니다."
   ]
  },
  {
   "cell_type": "markdown",
   "id": "fancy-agriculture",
   "metadata": {},
   "source": [
    "### | DISTINCT로 중복을 제거해보기 |\n",
    "\n",
    "SELECT DISTINCT 이름 FROM 도서대출내역;"
   ]
  },
  {
   "cell_type": "code",
   "execution_count": 15,
   "id": "friendly-portable",
   "metadata": {},
   "outputs": [
    {
     "name": "stdout",
     "output_type": "stream",
     "text": [
      "('문강태',)\n",
      "('고문영',)\n",
      "('문상태',)\n",
      "('강기둥',)\n"
     ]
    }
   ],
   "source": [
    "for row in c.execute('SELECT DISTINCT 이름 FROM 도서대출내역;'):\n",
    "  print(row)"
   ]
  },
  {
   "cell_type": "markdown",
   "id": "empty-machinery",
   "metadata": {},
   "source": [
    "위 GROUP BY 결과와 비슷하죠?\n",
    "\n",
    "DISTINCT를 특정 컬럼 앞에 쓰면 해당 컬럼 값 중에서 중복되는 값들을 모두 제거한 후 출력해 줍니다."
   ]
  },
  {
   "cell_type": "markdown",
   "id": "transsexual-going",
   "metadata": {},
   "source": [
    "### | ORDER BY로 정렬해보기 |\n",
    "\n",
    "SELECT * FROM 도서대출내역\n",
    "\n",
    "ORDER BY ID ;"
   ]
  },
  {
   "cell_type": "code",
   "execution_count": 16,
   "id": "existing-advocacy",
   "metadata": {},
   "outputs": [
    {
     "name": "stdout",
     "output_type": "stream",
     "text": [
      "('101', '문강태', 'aaa', '2020-06-01', '2020-06-05')\n",
      "('101', '문강태', 'ccc', '2020-06-20', '2020-06-25')\n",
      "('102', '고문영', 'bbb', '2020-06-01', None)\n",
      "('102', '고문영', 'ddd', '2020-06-08', None)\n",
      "('103', '문상태', 'ccc', '2020-06-01', '2020-06-05')\n",
      "('104', '강기둥', None, None, None)\n"
     ]
    }
   ],
   "source": [
    "for row in c.execute('SELECT * FROM 도서대출내역 ORDER BY ID ;'):\n",
    "  print(row)"
   ]
  },
  {
   "cell_type": "markdown",
   "id": "affecting-official",
   "metadata": {},
   "source": [
    "![](https://d3s0tskafalll9.cloudfront.net/media/original_images/Untitled_12_WHxK4Ap.png)\n",
    "\n",
    "ORDER BY 뒤에 특정 컬럼명을 적으면, 그 컬럼을 기준 값으로 정렬을 해서 보여줍니다. \n",
    "\n",
    "위 쿼리문에서 보시면 SELECT와 FROM 사이에 별(*)이 들어 있으므로 '전체 컬럼을 가져오되 ID를 기준으로 정렬해달라'라는 뜻이 됩니다.\n",
    "\n",
    "일반적으로 ORDER BY 뒤에는 (ASC)가 생략돼 있습니다. \n",
    "\n",
    "오름차순이 기본적으로 설정되어 있다는 것이지요. 반대는 내림차순으로 DESC라고 씁니다.\n",
    "\n",
    "## ----------------------------------------------\n",
    "\n",
    "SELECT * FROM 도서대출내역 \n",
    "\n",
    "ORDER BY ID DESC ;"
   ]
  },
  {
   "cell_type": "code",
   "execution_count": 17,
   "id": "dirty-differential",
   "metadata": {},
   "outputs": [
    {
     "name": "stdout",
     "output_type": "stream",
     "text": [
      "('104', '강기둥', None, None, None)\n",
      "('103', '문상태', 'ccc', '2020-06-01', '2020-06-05')\n",
      "('102', '고문영', 'bbb', '2020-06-01', None)\n",
      "('102', '고문영', 'ddd', '2020-06-08', None)\n",
      "('101', '문강태', 'aaa', '2020-06-01', '2020-06-05')\n",
      "('101', '문강태', 'ccc', '2020-06-20', '2020-06-25')\n"
     ]
    }
   ],
   "source": [
    "for row in c.execute('SELECT * FROM 도서대출내역 ORDER BY ID DESC ;'):\n",
    "  print(row)"
   ]
  },
  {
   "cell_type": "markdown",
   "id": "mighty-discipline",
   "metadata": {},
   "source": [
    "![](https://d3s0tskafalll9.cloudfront.net/media/original_images/Untitled_13_kngfh2m.png)\n",
    "\n",
    "위와의 차이가 보이시죠? 이렇게 적으면 ID를 기준으로 내림차순 정렬이 됩니다."
   ]
  },
  {
   "cell_type": "markdown",
   "id": "cellular-mailing",
   "metadata": {},
   "source": [
    "### | 몇개의 row만 조회하기 |\n",
    "\n",
    "SELECT * FROM 도서대출내역 LIMIT 5 ;"
   ]
  },
  {
   "cell_type": "code",
   "execution_count": 18,
   "id": "known-shore",
   "metadata": {},
   "outputs": [
    {
     "name": "stdout",
     "output_type": "stream",
     "text": [
      "('101', '문강태', 'aaa', '2020-06-01', '2020-06-05')\n",
      "('101', '문강태', 'ccc', '2020-06-20', '2020-06-25')\n",
      "('102', '고문영', 'bbb', '2020-06-01', None)\n",
      "('102', '고문영', 'ddd', '2020-06-08', None)\n",
      "('103', '문상태', 'ccc', '2020-06-01', '2020-06-05')\n"
     ]
    }
   ],
   "source": [
    "for row in c.execute('SELECT * FROM 도서대출내역 LIMIT 5 ;'):\n",
    "  print(row)"
   ]
  },
  {
   "cell_type": "markdown",
   "id": "growing-baseline",
   "metadata": {},
   "source": [
    "![](https://d3s0tskafalll9.cloudfront.net/media/original_images/Untitled_14_5wtwgMS.png)\n",
    "\n",
    "LIMIT 구문 뒤에 숫자를 적으면 그 숫자만큼의 행(row)만 출력됩니다. \n",
    "\n",
    "LIMIT 구문은 주로 처음 테이블들을 조회할 때 그 테이블의 구조를 파악하고, 어떤 값들이 존재하는지를 샘플로 파악하고자 할 때 사용됩니다.\n",
    "\n",
    "그럼 이제 아래의 코드를 직접 실행창에 실행시켜 볼까요?\n",
    "\n",
    "\n",
    "## ----------------------------------------------\n",
    "\n",
    "SELECT 이름, 대출일, 반납일   \n",
    "FROM 도서대출내역   \n",
    "ORDER BY 대출일 DESC   \n",
    "LIMIT 1;"
   ]
  },
  {
   "cell_type": "code",
   "execution_count": 19,
   "id": "dressed-smell",
   "metadata": {},
   "outputs": [
    {
     "name": "stdout",
     "output_type": "stream",
     "text": [
      "('문강태', '2020-06-20', '2020-06-25')\n"
     ]
    }
   ],
   "source": [
    "for row in c.execute('SELECT 이름, 대출일, 반납일 FROM 도서대출내역 ORDER BY 대출일 DESC LIMIT 1;'):\n",
    "  print(row)"
   ]
  },
  {
   "cell_type": "markdown",
   "id": "appreciated-aviation",
   "metadata": {},
   "source": [
    "#### DISTINCT와 GROUP BY\n",
    "\n",
    "중복을 제거한다는 의미를 떠올렸을 때, DISTINCT와 GROUP BY의 차이는 무엇일까요? 아래 표를 통해 살펴 보도록 하겠습니다.\n",
    "\n",
    "![](https://d3s0tskafalll9.cloudfront.net/media/images/Untitled_15_2gRlUx0.max-800x600.png)\n",
    "\n",
    "한 눈에 정리가 되는 것 같네요.\n",
    "\n",
    "추가로, '기준 별로 중복없이 집계를 하고 싶다!'라고 할 때에는 집계함수와 더불어 DISTINCT, GROUP BY를 모두 활용해야 한답니다. 아래 사진을 참고해주세요.\n",
    "\n",
    "![title](https://d3s0tskafalll9.cloudfront.net/media/original_images/Untitled_16_UKpCPxq.png)\n",
    "\n"
   ]
  },
  {
   "cell_type": "markdown",
   "id": "animated-address",
   "metadata": {},
   "source": [
    "# SQL data type\n",
    "\n",
    "Oracle, SQL Server, PostgreSQL, MySQL, SQLite 등등... SQL의 종류가 다양한 만큼 데이터 타입도 다양하고 조회 및 조작어도 세밀하게 다른데요. \n",
    "\n",
    "기본적으로 알아 놓으면 좋은 형식들을 아래에 정리해 보았습니다.\n",
    "\n",
    "![title](https://d3s0tskafalll9.cloudfront.net/media/original_images/Untitled_17_sVyiJI8.png)\n",
    "\n",
    "위 테이블을 보시면 숫자는 거의 INT로 끝납니다. \n",
    "\n",
    "INT는 종류별로 그 안에 넣을 수 있는 바이트(bite) 수가 다른데요.\n",
    "\n",
    "따라서 우리가 넣을 숫자의 범위(최솟값, 최댓값)와 크기가 어느 정도 될지를 생각하여 타입을 정해주는 것을 권장합니다.\n",
    "\n",
    "문자형과 날짜형도 마찬가지입니다.\n",
    "\n",
    "데이터의 타입(형)을 바꾸는 실습을 해보도록 하겠습니다."
   ]
  },
  {
   "cell_type": "code",
   "execution_count": 20,
   "id": "logical-component",
   "metadata": {},
   "outputs": [
    {
     "name": "stdout",
     "output_type": "stream",
     "text": [
      "('101', '문강태', '2020-06', '20일')\n",
      "('102', '고문영', '2020-06', '10일')\n",
      "('103', '문상태', '2020-06', '8일')\n",
      "('104', '강기둥', '2020-06', '3일')\n"
     ]
    }
   ],
   "source": [
    "for row in c.execute('SELECT * FROM 도서대출내역2;'):\n",
    "  print(row)"
   ]
  },
  {
   "cell_type": "markdown",
   "id": "above-color",
   "metadata": {},
   "source": [
    "#### <테이블 명 : 도서대출내역 2>\n",
    "\n",
    "![](https://d3s0tskafalll9.cloudfront.net/media/original_images/Untitled_18_owwKcqu.png)\n",
    "\n",
    "대출자 별 대출 연월 정보와 해당 월에 총 며칠을 대출했는지에 대한 정보가 들어가 있네요.\n",
    "\n",
    "위 네 명의 사람들의 평균 대출일수 가 궁금하다면 어떻게 해야 할까요? 평균은 AVG() 함수를 사용하면 되는데요.\n",
    "\n",
    "평균을 구하기 위해서는 일단 대출일수라는 컬럼이 숫자 타입을 지니고 있어야 합니다.\n",
    "\n",
    "음...🧐 '~일'로 표기되어 있는 것으로 보아 문자형이라고 예상해볼 수 있을 것 같네요.\n",
    "\n",
    "우선, 각 데이터들의 타입을 확인해 봅시다. sqlite에서는 테이블의 데이터 타입 정의를 확인할 수 있도록 pragma table_info('테이블명') 문을 제공합니다.\n",
    "\n",
    "이것은 표준 SQL 쿼리가 아니라 데이터베이스마다 달라지는 유틸리티 쿼리라고 할 수 있겠습니다.\n",
    "\n"
   ]
  },
  {
   "cell_type": "code",
   "execution_count": 21,
   "id": "productive-india",
   "metadata": {},
   "outputs": [
    {
     "name": "stdout",
     "output_type": "stream",
     "text": [
      "(0, 'ID', 'varchar', 0, None, 0)\n",
      "(1, '이름', 'varchar', 0, None, 0)\n",
      "(2, '도서ID', 'varchar', 0, None, 0)\n",
      "(3, '대출일', 'varchar', 0, None, 0)\n",
      "(4, '반납일', 'varchar', 0, None, 0)\n"
     ]
    }
   ],
   "source": [
    "import os\n",
    "db_path = os.getenv('HOME')+'/mydb.db'\n",
    "conn = sqlite3.connect(db_path)  # mydb.db에 연결합니다.\n",
    "c = conn.cursor()\n",
    "\n",
    "for row in c.execute('pragma table_info(도서대출내역)'):\n",
    "  print(row)"
   ]
  },
  {
   "cell_type": "markdown",
   "id": "purple-metro",
   "metadata": {},
   "source": [
    "데이터 타입을 보니 모두 VARCHAR로 되어 있네요. 그럼 '문자형'인 거겠죠?\n",
    "\n",
    "먼저, '대출일수' 컬럼을 문자형에서 숫자형으로 변환해 보겠습니다. 그래야 평균을 구할 수 있을 테니까요!\n",
    "\n",
    "그런데 말입니다.🤔 한 가지 걸리는 부분이 있습니다. '대출일수' 컬럼을 보면 숫자와 함께 '일'이라는 문자가 붙어 있지요? 이 문자를 일단 떼어 내야겠네요.\n",
    "\n",
    "문자형의 특정 부분을 떼어 내는 함수는 LEFT, RIGHT, SUBSTRING를 사용하면 된답니다.\n",
    "\n",
    "언어에 따라 SUBSTRING 함수는 substring() 또는 substr()으로 골라서 사용해야 할 수 있으므로 주의해 주세요.\n",
    "\n",
    "저희는 SQLite를 사용하니까 SUBSTR() 함수를 사용해야 합니다."
   ]
  },
  {
   "cell_type": "markdown",
   "id": "geological-slide",
   "metadata": {},
   "source": [
    "![](https://d3s0tskafalll9.cloudfront.net/media/original_images/Untitled_19_lGwzIpP.png)\n",
    "\n",
    "SELECT *, SUBSTR(대출일수, 1, (length(대출일수)-1)) AS 대출일수_수정   \n",
    "FROM 도서대출내역2;\n",
    "\n",
    "#### ==================================================\n",
    "'대출일수'의 마지막 컬럼 값이 항상 '일'로 끝나므로 마지막 자리만 삭제하기 위해 위와 같은 쿼리를 작성하였습니다.\n",
    "\n",
    "만약 무조건 'OO일'과 같이 3자리라면 앞에서부터 2개만 잘라내면 되겠지만, 20일/10일/8일과 같이 '일'의 앞 자리수가 다른 경우 위처럼 하거나 sqlite에서 제공하는 split_part() 함수를 사용하면 됩니다.\n",
    "\n",
    "\n",
    "\n",
    "그리고 AS를 사용해 수정한 값을 '대출일수_수정'이라는 컬럼으로 새롭게 저장합니다.\n",
    "\n",
    "조회해보면 한 개의 컬럼이 맨 뒤에 추가된 것을 확인할 수 있을 거예요.\n",
    "\n"
   ]
  },
  {
   "cell_type": "code",
   "execution_count": 22,
   "id": "valued-adventure",
   "metadata": {},
   "outputs": [
    {
     "name": "stdout",
     "output_type": "stream",
     "text": [
      "('101', '문강태', '2020-06', '20일', '20')\n",
      "('102', '고문영', '2020-06', '10일', '10')\n",
      "('103', '문상태', '2020-06', '8일', '8')\n",
      "('104', '강기둥', '2020-06', '3일', '3')\n"
     ]
    }
   ],
   "source": [
    "for row in c.execute('SELECT *, SUBSTR(대출일수, 1, (length(대출일수)-1)) AS 대출일수_수정 FROM 도서대출내역2;'):\n",
    "  print(row)"
   ]
  },
  {
   "cell_type": "markdown",
   "id": "baking-cutting",
   "metadata": {},
   "source": [
    "그 다음은 CAST 함수를 이용하여, 잘라낸 부분에 더하여 숫자로 변환해 보겠습니다.\n",
    "\n",
    "#### ==================================================\n",
    "\n",
    "SELECT *, CAST(SUBSTR(대출일수, 1, (length(대출일수)-1)) AS INT) AS 대출일수_수정   \n",
    "FROM 도서대출내역2 ;"
   ]
  },
  {
   "cell_type": "code",
   "execution_count": 23,
   "id": "crazy-radar",
   "metadata": {},
   "outputs": [
    {
     "name": "stdout",
     "output_type": "stream",
     "text": [
      "('101', '문강태', '2020-06', '20일', 20)\n",
      "('102', '고문영', '2020-06', '10일', 10)\n",
      "('103', '문상태', '2020-06', '8일', 8)\n",
      "('104', '강기둥', '2020-06', '3일', 3)\n"
     ]
    }
   ],
   "source": [
    "for row in c.execute('SELECT *, CAST(SUBSTR(대출일수, 1, (length(대출일수)-1)) AS INT) AS 대출일수_수정 FROM 도서대출내역2 ;'):\n",
    "  print(row)"
   ]
  },
  {
   "cell_type": "markdown",
   "id": "realistic-constant",
   "metadata": {},
   "source": [
    "코드를 보시면 CAST 라는 게 나왔죠? CAST()는 형 변환을 위한 함수입니다.\n",
    "\n",
    "CAST(형 변환하고 싶은 컬럼명 AS 변환하고 싶은 타입)과 같이 쓰시면 간단히 형 변환을 할 수 있답니다.\n",
    "\n",
    "이렇게 총 '대출일수_수정' 컬럼을 만들어 냈습니다.\n",
    "\n",
    "마지막 컬럼은 INT로 바뀌었습니다.\n",
    "\n",
    "'대출일수_수정' 컬럼의 평균을 구해볼까요? 필요한 컬럼만 가져와 보도록 하겠습니다."
   ]
  },
  {
   "cell_type": "markdown",
   "id": "solid-protocol",
   "metadata": {},
   "source": [
    "SELECT ID, 이름, 대출년월   \n",
    ", AVG(CAST(SUBSTR(대출일수, 1, (length(대출일수)-1)) AS INT)) AS 대출일수_평균   \n",
    "FROM 도서대출내역2   \n",
    "GROUP BY 1,2,3;"
   ]
  },
  {
   "cell_type": "code",
   "execution_count": 24,
   "id": "golden-ocean",
   "metadata": {},
   "outputs": [
    {
     "name": "stdout",
     "output_type": "stream",
     "text": [
      "('101', '문강태', '2020-06', 20.0)\n",
      "('102', '고문영', '2020-06', 10.0)\n",
      "('103', '문상태', '2020-06', 8.0)\n",
      "('104', '강기둥', '2020-06', 3.0)\n"
     ]
    }
   ],
   "source": [
    "for row in c.execute('SELECT ID, 이름, 대출년월, AVG(CAST(SUBSTR(대출일수, 1, (length(대출일수)-1)) AS INT)) AS 대출일수_평균 FROM 도서대출내역2 GROUP BY 1,2,3;'):\n",
    "  print(row)"
   ]
  },
  {
   "cell_type": "markdown",
   "id": "satisfied-appeal",
   "metadata": {},
   "source": [
    "집계함수 등을 사용할 때는 GROUP BY를 사용해 주는 것을 유념해 주세요.\n",
    "\n",
    "또한 GROUP BY 이후에는 컬럼명 또는 숫자를 적어주면 됩니다.\n",
    "\n",
    "우리가 다룬 함수 외에도 굉장히 다양한 함수들이 존재합니다.\n",
    "\n",
    "필요할 때마다 구글 검색 등을 통해 찾아 보면서 사용하는 것을 추천드립니다.\n",
    "\n"
   ]
  },
  {
   "cell_type": "markdown",
   "id": "failing-consumer",
   "metadata": {},
   "source": [
    "#### WHERE 조건에 다양한 조건 입력하기\n",
    "\n",
    "SELECT * FROM 도서대출내역2   \n",
    "WHERE ~\n",
    "\n",
    "위와 같이 기본적인 형태는 아실 텐데요. WHERE 조건절을 몇 개씩 더 할 수도 있습니다.\n",
    "\n",
    "SELECT * FROM 도서대출내역2   \n",
    "WHERE   \n",
    "    조건1   \n",
    "AND 조건2   \n",
    "AND 조건3   \n",
    "AND (조건 4 OR 조건5);\n",
    "\n",
    "\n",
    "위와 같은 형태로 무수히 많은 조건들을 잇고 이어서, 우리가 원하는 형태로 테이블을 가져올 수 있습니다. 조건절을 잘 사용하는 것이야말로 SQL의 가장 중요한 기본기라고 할 수 있습니다.\n",
    "\n",
    "예제를 통해, WHERE 조건절 안에서 쓸 수 있는 몇 가지를 살펴보겠습니다.\n",
    "\n",
    "특정 문자를 포함하는 row를 가져오고 싶을 때\n",
    "\n",
    "특정 기간 혹은 특정 날짜의 전 또는 이후의 row를 가져오고 싶을 때\n",
    "\n",
    "특정 숫자 이상 또는 이하의 row를 가져오고 싶을 때\n",
    "\n",
    "1. 특정 문자를 포함하는 row를 가져오고 싶을 때\n",
    "\n",
    "    먼저 \"특정 문자를 포함하는 row를 가져오고 싶을 때\"부터 살펴보겠습니다.\n",
    "\n",
    "    저는 '도서대출내역 2' 테이블에서 문씨 형제의 결과만 가져오고 싶습니다. 즉, 문강태와 문상태의 결과만 조회하고 싶은 것이죠. 그럴 경우 어떻게 하면 좋을까요?\n",
    "    \n",
    "SELECT * FROM 도서대출내역2 \n",
    "WHERE 이름 LIKE \"문%\" ;\n",
    "\n"
   ]
  },
  {
   "cell_type": "code",
   "execution_count": 25,
   "id": "sunset-analyst",
   "metadata": {},
   "outputs": [
    {
     "name": "stdout",
     "output_type": "stream",
     "text": [
      "('101', '문강태', '2020-06', '20일')\n",
      "('103', '문상태', '2020-06', '8일')\n"
     ]
    }
   ],
   "source": [
    "for row in c.execute('SELECT * FROM 도서대출내역2 WHERE 이름 LIKE \"문%\" ;'):\n",
    "  print(row)"
   ]
  },
  {
   "cell_type": "markdown",
   "id": "under-harvey",
   "metadata": {},
   "source": [
    "LIKE는 문자열 컬럼에서 사용할 수 있는 것으로 해당 문자를 포함 또는 해당 문자로 시작 또는 종료하는 것을 불러올 수 있습니다.\n",
    "\n",
    "위 코드에서 \"문%\"은 '문'으로 시작하는 모든 문자열을 다 가져오라는 명령이 됩니다.\n",
    "\n",
    "만약 '%문%'으로 조회를 한다면 이름의 시작, 중간, 끝의 어딘가에 '문'이 존재한다면 모두 가져오라는 명령이 됩니다.\n",
    "\n",
    "자, 그럼 '%문'으로 조회한다면 어떨까요? '문'으로 끝나는 모든 문자열을 다 가져오라는 명령이 된답니다.\n",
    "\n",
    "매우 간단하지만 강력한 명령어 중 하나이니 꼭 유념해 주세요!\n",
    "\n",
    "    주의! 문자열은 꼭 큰따옴표(\")를 이용해 감싸주셔야 하는데요. 데이터베이스마다 작은 따옴표, 큰따옴표를 모두 지원하는 경우도 있고 아닌 경우도 있으니 잘 찾아보시기바랍니다.\n",
    "    \n",
    "2. 특정 기간 혹은 특정 날짜의 이전 또는 이후의 row를 가져오고 싶을 때\n",
    "\n",
    "    다음은 '특정 기간 혹은 특정 날짜의 이전 또는 이후의 row를 가져오고 싶을 때'를 살펴보겠습니다. 날짜 관련 데이터가 있을 때 사용하기 좋을 것 같죠?\n",
    "\n",
    "    자, 도서대출내역 테이블에서 6월 첫째 주에 대출을 한 사람들의 정보만 가져오고 싶다고 해봅시다. 어떻게 하면 될까요?\n",
    "    \n",
    "    SELECT * FROM 도서대출내역   \n",
    "    WHERE 대출일 >= \"2020-06-01\"   \n",
    "    AND 대출일 <= \"2020-06-07\" ;"
   ]
  },
  {
   "cell_type": "code",
   "execution_count": 26,
   "id": "pending-pepper",
   "metadata": {},
   "outputs": [
    {
     "name": "stdout",
     "output_type": "stream",
     "text": [
      "('101', '문강태', 'aaa', '2020-06-01', '2020-06-05')\n",
      "('102', '고문영', 'bbb', '2020-06-01', None)\n",
      "('103', '문상태', 'ccc', '2020-06-01', '2020-06-05')\n"
     ]
    }
   ],
   "source": [
    "for row in c.execute('SELECT * FROM 도서대출내역 WHERE 대출일 >= \"2020-06-01\" AND 대출일 <= \"2020-06-07\" ;'):\n",
    "  print(row)"
   ]
  },
  {
   "cell_type": "markdown",
   "id": "straight-extent",
   "metadata": {},
   "source": [
    "문강태, 고문영, 문상태 세 사람이 나오네요.\n",
    "\n",
    "위 코드처럼 간단히 부등호를 사용해 결과를 조회할 수도 있고, BETWEEN이라는 함수를 활용할 수도 있습니다.\n",
    "\n",
    "    SELECT * FROM 도서대출내역   \n",
    "    WHERE 대출일 BETWEEN \"2020-06-01\" AND \"2020-06-07\" ;\n",
    "    \n",
    "    "
   ]
  },
  {
   "cell_type": "code",
   "execution_count": 27,
   "id": "miniature-bennett",
   "metadata": {},
   "outputs": [
    {
     "name": "stdout",
     "output_type": "stream",
     "text": [
      "('101', '문강태', 'aaa', '2020-06-01', '2020-06-05')\n",
      "('102', '고문영', 'bbb', '2020-06-01', None)\n",
      "('103', '문상태', 'ccc', '2020-06-01', '2020-06-05')\n"
     ]
    }
   ],
   "source": [
    "for row in c.execute('SELECT * FROM 도서대출내역 WHERE 대출일 BETWEEN \"2020-06-01\" AND \"2020-06-07\" ;'):\n",
    "  print(row)"
   ]
  },
  {
   "cell_type": "markdown",
   "id": "pointed-compact",
   "metadata": {},
   "source": [
    "ETWEEN의 경우에는 BETWEEN(시작일 AND 종료일)로 범위를 정해 사용할 수 있는데요. 시작일과 종료일을 \"포함\"한다는 점을 꼭 기억해 주세요!\n",
    "\n",
    "#### 특정 숫자 이상 또는 이하의 row를 조회하고 싶을 때\n",
    "이 외에도 부등호를 통해 특정 숫자 이상 또는 이하의 row를 조회하고 싶을 때도 사용할 수 있습니다."
   ]
  },
  {
   "cell_type": "markdown",
   "id": "decreased-medium",
   "metadata": {},
   "source": [
    "SELECT *   \n",
    ", CAST(SUBSTR(대출일수, 1, (length(대출일수)-1)) AS INT) AS 대출일수_수정   \n",
    "FROM 도서대출내역2   \n",
    "WHERE  대출일수_수정 > 5 ;"
   ]
  },
  {
   "cell_type": "code",
   "execution_count": 28,
   "id": "proper-catholic",
   "metadata": {},
   "outputs": [
    {
     "name": "stdout",
     "output_type": "stream",
     "text": [
      "('101', '문강태', '2020-06', '20일', 20)\n",
      "('102', '고문영', '2020-06', '10일', 10)\n",
      "('103', '문상태', '2020-06', '8일', 8)\n"
     ]
    }
   ],
   "source": [
    "for row in c.execute('SELECT *, CAST(SUBSTR(대출일수, 1, (length(대출일수)-1)) AS INT) AS 대출일수_수정 FROM 도서대출내역2 WHERE 대출일수_수정 > 5 '):\n",
    "  print(row)"
   ]
  },
  {
   "cell_type": "markdown",
   "id": "processed-drive",
   "metadata": {},
   "source": [
    "우선 대출일수_수정이라는 컬럼을 만들고, 그 밑 조건절에서 '대출일수'가 5일을 초과하는 사람들의 정보를 가져온다는 것을 확인하실 수 있습니다.\n",
    "\n",
    "이번에도 문강태, 고문영, 문상태 세 사람이 조회가 되었군요.\n",
    "\n",
    "#### NULL 조건을 다루는 방법\n",
    "\n",
    "\n",
    "한 가지 짚고 넘어가 보겠습니다. 바로 NULL(None)인데요.\n",
    "테이블 내 특정 컬럼 안에 NULL이 들어가 있는 것을 보셨을 거예요.\n",
    "\n",
    "NULL은 이미 예상하셨겠지만 해당 컬럼에 '정보가 들어 있지 않은 상태'를 나타내는데 사용됩니다.\n",
    "\n",
    "테이블을 조회하다 보면 NULL만 가져오고 싶거나 NULL을 제외하고 가져오고 싶은 경우가 있을 텐데요. \n",
    "\n",
    "그럴 때도 WHERE 조건절을 활용하면 됩니다.\n",
    "\n",
    "SELECT * FROM 도서대출내역   \n",
    "WHERE 반납일 IS NOT NULL;"
   ]
  },
  {
   "cell_type": "code",
   "execution_count": 29,
   "id": "rational-warner",
   "metadata": {},
   "outputs": [
    {
     "name": "stdout",
     "output_type": "stream",
     "text": [
      "('101', '문강태', 'aaa', '2020-06-01', '2020-06-05')\n",
      "('101', '문강태', 'ccc', '2020-06-20', '2020-06-25')\n",
      "('103', '문상태', 'ccc', '2020-06-01', '2020-06-05')\n"
     ]
    }
   ],
   "source": [
    "for row in c.execute('SELECT * FROM 도서대출내역 WHERE 반납일 IS NOT NULL;'):\n",
    "  print(row)"
   ]
  },
  {
   "cell_type": "markdown",
   "id": "approved-shift",
   "metadata": {},
   "source": [
    "WHERE 반납일 IS NOT NULL 부분을 살펴 보겠습니다. \n",
    "\n",
    "직역하면 '반납일이 NULL이 아닌 것'이라는 뜻이 되겠죠?\n",
    "\n",
    "반납일이 NULL이라는 것은 미반납 상태 또는 반납일에 대한 정보가 없다는 뜻일 테니, NULL이 아닌 상태는 반납을 한 사람들을 의미하겠네요.\n",
    "\n",
    "조회해 보니 문강태, 문상태 두 형제의 데이터가 출력되었습니다.\n",
    "\n",
    "그렇다면 거꾸로 NULL인 사람들 즉, 아직 책을 반납하지 않은 사람(들)이 누구인지 조회해 볼까요?\n",
    "\n",
    "위 코드에서 NOT만 제외하면 되니 매우 간단하네요.\n",
    "\n",
    "\n",
    "SELECT * FROM 도서대출내역   \n",
    "WHERE 반납일 IS NULL ;"
   ]
  },
  {
   "cell_type": "code",
   "execution_count": 30,
   "id": "extraordinary-employee",
   "metadata": {},
   "outputs": [
    {
     "name": "stdout",
     "output_type": "stream",
     "text": [
      "('102', '고문영', 'bbb', '2020-06-01', None)\n",
      "('102', '고문영', 'ddd', '2020-06-08', None)\n",
      "('104', '강기둥', None, None, None)\n"
     ]
    }
   ],
   "source": [
    "for row in c.execute('SELECT * FROM 도서대출내역 WHERE 반납일 IS NULL;'):\n",
    "  print(row)"
   ]
  },
  {
   "cell_type": "markdown",
   "id": "blessed-spare",
   "metadata": {},
   "source": [
    "고문영, 강기둥 두 사람의 데이터가 출력되었습니다.\n",
    "\n",
    "자 그럼, 몇 개의 조건을 합쳐서 조회해 볼까요?\n",
    "\n",
    "- 조건 1 : 이 름이 '태'로 끝나는 데이터를 조회\n",
    "\n",
    "\n",
    "- 조건 2 : 대출일이 2020년 6월 19일 이후인 데이터를 조회\n",
    "\n",
    "\n",
    "- 조건 3 : ID가 102 아래인 데이터를 조회\n",
    "\n",
    "\n",
    "- 조건 4 : 반납일이 NULL이 아닌 데이터를 조회\n",
    "\n",
    "\n",
    "위의 모든 조건은 AND로 이어서 작성하셨나요? OUTPUT이 한 명의 이름만 조회되었나요?\n",
    "아마 '문강태'만 조회가 되었다면 여러분은 알맞게 조회한 것이니 안심해도 됩니다. :)\n",
    "\n"
   ]
  },
  {
   "cell_type": "markdown",
   "id": "direct-savings",
   "metadata": {},
   "source": [
    "# join\n",
    "\n",
    "![title](https://d3s0tskafalll9.cloudfront.net/media/images/Untitled_21_ns7QjSV.max-800x600.png)\n",
    "\n"
   ]
  },
  {
   "cell_type": "code",
   "execution_count": 31,
   "id": "prerequisite-right",
   "metadata": {},
   "outputs": [],
   "source": [
    "import os\n",
    "db_path = os.getenv('HOME')+'/mydb.db'\n",
    "conn = sqlite3.connect(db_path)  # mydb.db에 연결합니다.\n",
    "c = conn.cursor()"
   ]
  },
  {
   "cell_type": "markdown",
   "id": "contrary-employer",
   "metadata": {},
   "source": [
    "JOIN을 이해하기 위해서는 아스라이 사라져 있는 '집합'에 대한 개념을 끄집어내야 합니다.\n",
    "\n",
    "A 테이블과 B 테이블, 총 2개의 테이블이 있다고 가정을 해봅시다. 어떻게 결합해 조회할 수 있을까요? (LEFT TABLE : A 테이블, RIGHT TABLE : B 테이블 )\n",
    "\n",
    "- INNER JOIN : A 테이블과 B 테이블의 교집합을 조회\n",
    "\n",
    "\n",
    "- LEFT JOIN : (기준은 A 테이블) A 테이블을 기준으로 해서 B 테이블은 공통되는 부분만 조회\n",
    "\n",
    "\n",
    "- RIGHT JOIN : (기준은 B 테이블) B 테이블을 기준으로 해서 A 테이블은 공통되는 부분만 조회\n",
    "\n",
    "\n",
    "- FULL JOIN : A 테이블과 B 테이블 모두에서 빠트리는 부분 없이 모두 조회\n",
    "\n",
    "\n",
    "- JOIN의 기본 구문과 함께 하나씩 이해해 보도록 하겠습니다.\n",
    "\n",
    "먼저, INNER JOIN 입니다.\n",
    "\n",
    "앞에서부터 예제로 계속 사용했던 테이블을 활용해 2개의 테이블을 준비했습니다.\n",
    "\n",
    "< 대출내역, 도서명 테이블 >\n",
    "\n",
    "![title](https://d3s0tskafalll9.cloudfront.net/media/original_images/Untitled_22_kvwSJTr.png)\n",
    "\n",
    "문강태씨나 고문영씨가 각자 무엇을 빌렸는지가 궁금한데요. '대출내역' 테이블만 보면 어떤 도서를 빌렸는지 알 수가 없겠죠?\n",
    "\n",
    "이런 경우 2개의 테이블을 서로 JOIN하여 확인해 보도록 하겠습니다.\n",
    "\n",
    "먼저 대출내역과 도서명 테이블을 각각 조회해서 구조를 파악해보세요.\n",
    "\n",
    "SELECT * FROM 대출내역 ;   \n",
    "SELECT * FROM 도서명 ;"
   ]
  },
  {
   "cell_type": "code",
   "execution_count": 32,
   "id": "martial-joining",
   "metadata": {},
   "outputs": [
    {
     "name": "stdout",
     "output_type": "stream",
     "text": [
      "대출내역 테이블\n",
      "('101', '문강태', 'aaa')\n",
      "('102', '고문영', 'bbb')\n",
      "('102', '고문영', 'fff')\n",
      "('103', '문상태', 'ccc')\n",
      "('104', '강기둥', None)\n",
      "\n",
      "도서명 테이블\n",
      "('aaa', '악몽을 먹고 자란 소년')\n",
      "('bbb', '좀비아이')\n",
      "('ccc', '공룡백과사전')\n",
      "('ddd', '빨간구두')\n",
      "('eee', '잠자는 숲속의 미녀')\n"
     ]
    }
   ],
   "source": [
    "print('대출내역 테이블')\n",
    "for row in c.execute('SELECT * FROM 대출내역;'):\n",
    "  print(row)\n",
    "print('')\n",
    "print('도서명 테이블')\n",
    "for row in c.execute('SELECT * FROM 도서명;'):\n",
    "  print(row)"
   ]
  },
  {
   "cell_type": "markdown",
   "id": "structural-alignment",
   "metadata": {},
   "source": [
    "구조를 파악하셨으면 JOIN에서 제일 중요한 'KEY'를 포착하셔야 합니다. \n",
    "\n",
    "대체 'KEY'가 무엇일까요? 'KEY'는 JOIN을 수행할 때 두 테이블을 연결할 수 있는 중요한 다리 역할을 하는 컬럼입니다. \n",
    "\n",
    "위 두 개의 테이블을 보았을 때, 어떤 'KEY' 기준으로 테이블을 연결할 것인지 혹시 눈치 채셨나요?\n",
    "\n",
    "'도서ID'가 있네요. 해당 컬럼 기준으로 한번 연결해보도록 하겠습니다.\n",
    "\n"
   ]
  },
  {
   "cell_type": "markdown",
   "id": "resident-poison",
   "metadata": {},
   "source": [
    "#### JOIN의 기본 구문\n",
    "\n",
    "SELECT 컬럼1, 컬럼2, 컬럼3... FROM A테이블 AS A   \n",
    "{INNER/LEFT/RIGHT/FULL OUTER} JOIN B테이블 AS B    \n",
    "ON A.결합컬럼 = B.결합컬럼   \n",
    "WHERE ~"
   ]
  },
  {
   "cell_type": "markdown",
   "id": "advisory-patient",
   "metadata": {},
   "source": [
    "#### 1) INNER JOIN\n",
    "INNER JOIN은 두 테이블의 교집합을 뱉어주는 명령어였습니다.\n",
    "\n",
    "즉, 두 테이블에 모두 있는 정보만 들고 오는 것이죠. 한 쪽이라도 해당 정보가 없다면 조회가 불가능합니다.\n",
    "\n",
    "직접 조회를 해보겠습니다.\n",
    "\n",
    "SELECT A.*, B.도서명    \n",
    "FROM 대출내역 AS A    \n",
    "INNER JOIN 도서명 AS B   \n",
    "ON A.도서ID = B.도서ID;"
   ]
  },
  {
   "cell_type": "code",
   "execution_count": 33,
   "id": "lucky-connection",
   "metadata": {},
   "outputs": [
    {
     "name": "stdout",
     "output_type": "stream",
     "text": [
      "('101', '문강태', 'aaa', '악몽을 먹고 자란 소년')\n",
      "('102', '고문영', 'bbb', '좀비아이')\n",
      "('103', '문상태', 'ccc', '공룡백과사전')\n"
     ]
    }
   ],
   "source": [
    "query = '''\n",
    "SELECT A.*, B.도서명 \n",
    "FROM 대출내역 AS A \n",
    "INNER JOIN 도서명 AS B\n",
    "ON A.도서ID = B.도서ID;\n",
    "'''\n",
    "for row in c.execute(query):\n",
    "  print(row)"
   ]
  },
  {
   "cell_type": "markdown",
   "id": "transsexual-henry",
   "metadata": {},
   "source": [
    "![title](https://d3s0tskafalll9.cloudfront.net/media/original_images/Untitled_23_t85sid9.png)\n",
    "\n",
    "머릿속으로 그려보면, 도서ID를 기준으로 합친다고 했을 때 공통되는 부분은 'aaa, bbb, ccc' 세 개입니다.\n",
    "\n",
    "따라서 아래와 같이 결과가 나올 것입니다.\n",
    "\n",
    "\n",
    "\n",
    "![title](https://d3s0tskafalll9.cloudfront.net/media/original_images/Untitled_24_cM7OvJd.png)"
   ]
  },
  {
   "cell_type": "markdown",
   "id": "collect-holmes",
   "metadata": {},
   "source": [
    "#### 2) LEFT JOIN\n",
    "\n",
    "SELECT A.*, B.도서명   \n",
    "FROM 대출내역 AS A    \n",
    "LEFT JOIN 도서명 AS B   \n",
    "ON A.도서ID = B.도서ID;\n",
    "\n",
    "위와 똑같이 하되, LEFT JOIN으로만 바꿔서 조회하면 어떻게 될까요?\n",
    "\n",
    "LEFT JOIN은 왼쪽 A 테이블을 기준으로 오른쪽 테이블을 붙이는 것이라고 했었죠?\n",
    "\n",
    "즉, A 테이블에 있는 데이터는 모두 가져오고 B 테이블과 공통되는 부분만 오른쪽에 붙이게 됩니다.\n",
    "\n"
   ]
  },
  {
   "cell_type": "code",
   "execution_count": 34,
   "id": "statistical-reverse",
   "metadata": {},
   "outputs": [
    {
     "name": "stdout",
     "output_type": "stream",
     "text": [
      "('101', '문강태', 'aaa', '악몽을 먹고 자란 소년')\n",
      "('102', '고문영', 'bbb', '좀비아이')\n",
      "('102', '고문영', 'fff', None)\n",
      "('103', '문상태', 'ccc', '공룡백과사전')\n",
      "('104', '강기둥', None, None)\n"
     ]
    }
   ],
   "source": [
    "query = '''\n",
    "SELECT A.*, B.도서명 \n",
    "FROM 대출내역 AS A \n",
    "LEFT JOIN 도서명 AS B\n",
    "ON A.도서ID = B.도서ID;\n",
    "'''\n",
    "for row in c.execute(query):\n",
    "  print(row)"
   ]
  },
  {
   "cell_type": "markdown",
   "id": "standard-kuwait",
   "metadata": {},
   "source": [
    "![title](https://d3s0tskafalll9.cloudfront.net/media/original_images/Untitled_25_VizrJfJ.png)\n",
    "\n",
    "짠! 위와 같이 예상하셨나요? 기준이 된 대출내역 테이블은 바뀐 부분 없이, 도서명만 오른쪽에 붙은 것을 확인할 수 있습니다. \n",
    "\n",
    "도서명에 도서ID 'fff'가 없으므로 세 번째 줄은 NULL이 생성되었고, 강기둥의 도서ID는 NULL이므로 도서명도 NULL이 됩니다.\n",
    "\n",
    "    (주의) SQLite에서 실습할 때, 아래 소개할 RIGHT JOIN과 FULL OUTER JOIN은 아래와 같은 에러가 발생할 것입니다.\n",
    "\n",
    "    OperationalError: RIGHT and FULL OUTER JOINs are not currently supported\n",
    "\n",
    "현재 SQLite에서는 RIGHT JOIN과 FULL OUTER JOIN를 지원하지 않는가 봅니다. \n",
    "\n",
    "하지만 MYSQL 등 주요 RDBMS에서는 이런 형태의 JOIN도 지원되므로, 다음의 두 개념도 같이 숙지해 두시면 좋을 것 같습니다.\n",
    "\n"
   ]
  },
  {
   "cell_type": "markdown",
   "id": "opened-college",
   "metadata": {},
   "source": [
    "#### 3) RIGHT JOIN\n",
    "\n",
    "SELECT B.*, A.ID, A.이름   \n",
    "FROM 대출내역 AS A   \n",
    "RIGHT JOIN 도서명 AS B  \n",
    "ON A.도서ID = B.도서ID;\n",
    "\n",
    "이번에는 RIGHT JOIN을 살펴 보겠습니다. 아까 LEFT JOIN에서는 A 테이블이 기준이 되었으니 이번에는 B 테이블이 기준이 될 것 같지 않나요?🤭"
   ]
  },
  {
   "cell_type": "code",
   "execution_count": 35,
   "id": "secondary-canada",
   "metadata": {},
   "outputs": [
    {
     "ename": "OperationalError",
     "evalue": "RIGHT and FULL OUTER JOINs are not currently supported",
     "output_type": "error",
     "traceback": [
      "\u001b[0;31m---------------------------------------------------------------------------\u001b[0m",
      "\u001b[0;31mOperationalError\u001b[0m                          Traceback (most recent call last)",
      "\u001b[0;32m<ipython-input-35-7b17822614fe>\u001b[0m in \u001b[0;36m<module>\u001b[0;34m\u001b[0m\n\u001b[1;32m      5\u001b[0m \u001b[0mON\u001b[0m \u001b[0mA\u001b[0m\u001b[0;34m.\u001b[0m\u001b[0m도서ID\u001b[0m \u001b[0;34m=\u001b[0m \u001b[0mB\u001b[0m\u001b[0;34m.\u001b[0m\u001b[0m도서ID\u001b[0m\u001b[0;34m;\u001b[0m\u001b[0;34m\u001b[0m\u001b[0;34m\u001b[0m\u001b[0m\n\u001b[1;32m      6\u001b[0m '''\n\u001b[0;32m----> 7\u001b[0;31m \u001b[0;32mfor\u001b[0m \u001b[0mrow\u001b[0m \u001b[0;32min\u001b[0m \u001b[0mc\u001b[0m\u001b[0;34m.\u001b[0m\u001b[0mexecute\u001b[0m\u001b[0;34m(\u001b[0m\u001b[0mquery\u001b[0m\u001b[0;34m)\u001b[0m\u001b[0;34m:\u001b[0m\u001b[0;34m\u001b[0m\u001b[0;34m\u001b[0m\u001b[0m\n\u001b[0m\u001b[1;32m      8\u001b[0m   \u001b[0mprint\u001b[0m\u001b[0;34m(\u001b[0m\u001b[0mrow\u001b[0m\u001b[0;34m)\u001b[0m\u001b[0;34m\u001b[0m\u001b[0;34m\u001b[0m\u001b[0m\n",
      "\u001b[0;31mOperationalError\u001b[0m: RIGHT and FULL OUTER JOINs are not currently supported"
     ]
    }
   ],
   "source": [
    "query = '''\n",
    "SELECT B.*, A.ID, A.이름 \n",
    "FROM 대출내역 AS A \n",
    "RIGHT JOIN 도서명 AS B\n",
    "ON A.도서ID = B.도서ID;\n",
    "'''\n",
    "for row in c.execute(query):\n",
    "  print(row)"
   ]
  },
  {
   "cell_type": "markdown",
   "id": "immune-africa",
   "metadata": {},
   "source": [
    "![](https://d3s0tskafalll9.cloudfront.net/media/original_images/Untitled_26_SpMa9st.png)\n",
    "\n",
    "에러가 발생하였나요? 만약 다른 RDBMS 프로그램을 사용한다면 오른쪽 테이블을 기준으로 해서 왼쪽 테이블 중 공통인 것만 붙고 나머지는 전부 NULL처리가 되었을 겁니다."
   ]
  },
  {
   "cell_type": "markdown",
   "id": "owned-lindsay",
   "metadata": {},
   "source": [
    "#### 4) FULL OUTER JOIN\n",
    "\n",
    "SELECT A.*, B.도서명  \n",
    "FROM 대출내역 AS A   \n",
    "FULL OUTER JOIN 도서명 AS B  \n",
    "ON A.도서ID = B.도서ID  \n",
    "ORDER BY 도서ID;\n",
    "\n"
   ]
  },
  {
   "cell_type": "code",
   "execution_count": 36,
   "id": "subjective-scotland",
   "metadata": {},
   "outputs": [
    {
     "ename": "OperationalError",
     "evalue": "RIGHT and FULL OUTER JOINs are not currently supported",
     "output_type": "error",
     "traceback": [
      "\u001b[0;31m---------------------------------------------------------------------------\u001b[0m",
      "\u001b[0;31mOperationalError\u001b[0m                          Traceback (most recent call last)",
      "\u001b[0;32m<ipython-input-36-bd20360ed5b4>\u001b[0m in \u001b[0;36m<module>\u001b[0;34m\u001b[0m\n\u001b[1;32m      6\u001b[0m \u001b[0mORDER\u001b[0m \u001b[0mBY\u001b[0m \u001b[0m도서ID\u001b[0m\u001b[0;34m;\u001b[0m\u001b[0;34m\u001b[0m\u001b[0;34m\u001b[0m\u001b[0m\n\u001b[1;32m      7\u001b[0m '''\n\u001b[0;32m----> 8\u001b[0;31m \u001b[0;32mfor\u001b[0m \u001b[0mrow\u001b[0m \u001b[0;32min\u001b[0m \u001b[0mc\u001b[0m\u001b[0;34m.\u001b[0m\u001b[0mexecute\u001b[0m\u001b[0;34m(\u001b[0m\u001b[0mquery\u001b[0m\u001b[0;34m)\u001b[0m\u001b[0;34m:\u001b[0m\u001b[0;34m\u001b[0m\u001b[0;34m\u001b[0m\u001b[0m\n\u001b[0m\u001b[1;32m      9\u001b[0m   \u001b[0mprint\u001b[0m\u001b[0;34m(\u001b[0m\u001b[0mrow\u001b[0m\u001b[0;34m)\u001b[0m\u001b[0;34m\u001b[0m\u001b[0;34m\u001b[0m\u001b[0m\n",
      "\u001b[0;31mOperationalError\u001b[0m: RIGHT and FULL OUTER JOINs are not currently supported"
     ]
    }
   ],
   "source": [
    "query = '''\n",
    "SELECT A.*, B.도서명 \n",
    "FROM 대출내역 AS A \n",
    "FULL OUTER JOIN 도서명 AS B\n",
    "ON A.도서ID = B.도서ID\n",
    "ORDER BY 도서ID;\n",
    "'''\n",
    "for row in c.execute(query):\n",
    "  print(row)"
   ]
  },
  {
   "cell_type": "markdown",
   "id": "exact-prescription",
   "metadata": {},
   "source": [
    "![title](https://d3s0tskafalll9.cloudfront.net/media/original_images/Untitled_27_2Y2zQ6V.png)\n",
    "\n",
    "이번에도 에러가 발생하였나요? 만약 다른 RDBMS 프로그램을 사용한다면 도서ID를 기준으로 붙을 수 있는 것은 모두 붙고 나머지는 NULL 값이 좌우로 붙은 것을 확인할 수 있습니다.\n",
    "\n",
    "#### 5) 중첩 질의(Nested Query)\n",
    "\n",
    "SELECT C.이름, COUNT(*) 대출건수   \n",
    "FROM (   \n",
    "\tSELECT A.*, B.도서명    \n",
    "\tFROM 대출내역 AS A    \n",
    "\tLEFT JOIN 도서명 AS B   \n",
    "\tON A.도서ID = B.도서ID ) C   \n",
    "GROUP BY C.이름;\n",
    "\n"
   ]
  },
  {
   "cell_type": "code",
   "execution_count": 37,
   "id": "adequate-portsmouth",
   "metadata": {},
   "outputs": [
    {
     "name": "stdout",
     "output_type": "stream",
     "text": [
      "('강기둥', 1)\n",
      "('고문영', 2)\n",
      "('문강태', 1)\n",
      "('문상태', 1)\n"
     ]
    }
   ],
   "source": [
    "query = '''\n",
    "SELECT C.이름, COUNT(*) 대출건수\n",
    "FROM (\n",
    "\tSELECT A.*, B.도서명 \n",
    "\tFROM 대출내역 AS A \n",
    "\tLEFT JOIN 도서명 AS B\n",
    "\tON A.도서ID = B.도서ID ) C\n",
    "GROUP BY C.이름;\n",
    "'''\n",
    "for row in c.execute(query):\n",
    "  print(row)"
   ]
  },
  {
   "cell_type": "markdown",
   "id": "distinct-carter",
   "metadata": {},
   "source": [
    "이번에는 좀 복잡한 것 같지만 잘 보면 간단합니다. \n",
    "\n",
    "위에서 다룬 LEFT JOIN을 사용한 서브쿼리의 결과 C로부터 다시 쿼리를 수행하는 형태로 쿼리가 중첩되어 있습니다.\n",
    "\n",
    "이렇게 쿼리를 중첩하는 구조를 이해하고 나면 JOIN과 더불어 데이터베이스를 활용하는 가장 강력한 무기를 얻게 됩니다."
   ]
  },
  {
   "cell_type": "markdown",
   "id": "reverse-convergence",
   "metadata": {},
   "source": []
  }
 ],
 "metadata": {
  "kernelspec": {
   "display_name": "Python 3",
   "language": "python",
   "name": "python3"
  },
  "language_info": {
   "codemirror_mode": {
    "name": "ipython",
    "version": 3
   },
   "file_extension": ".py",
   "mimetype": "text/x-python",
   "name": "python",
   "nbconvert_exporter": "python",
   "pygments_lexer": "ipython3",
   "version": "3.7.9"
  }
 },
 "nbformat": 4,
 "nbformat_minor": 5
}
